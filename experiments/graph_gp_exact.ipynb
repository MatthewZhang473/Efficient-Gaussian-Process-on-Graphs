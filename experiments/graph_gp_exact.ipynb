{
 "cells": [
  {
   "cell_type": "markdown",
   "metadata": {},
   "source": [
    "## This notebook is a demo for\n",
    "\n",
    "1. Generate a Graph (Line Graph / Random Graph).\n",
    "\n",
    "2. Calculate the covariance matrix for the graph with a graph kernel function (with known hyperparameters).\n",
    "\n",
    "3. Sample data points from a GP on this covariance matrix.\n",
    "\n",
    "4. Fit a GP with the exact kernel expression and learn the hyperparameters."
   ]
  },
  {
   "cell_type": "code",
   "execution_count": 1,
   "metadata": {},
   "outputs": [],
   "source": [
    "import tensorflow as tf\n",
    "import numpy as np\n",
    "import gpflow\n",
    "import matplotlib.pyplot as plt\n",
    "import ipywidgets as widgets\n",
    "from IPython.display import display, clear_output\n",
    "import networkx as nx"
   ]
  },
  {
   "cell_type": "code",
   "execution_count": 2,
   "metadata": {},
   "outputs": [],
   "source": [
    "import sys\n",
    "import os\n",
    "project_root = os.path.abspath(\"..\")\n",
    "sys.path.append(project_root)"
   ]
  },
  {
   "cell_type": "code",
   "execution_count": 3,
   "metadata": {},
   "outputs": [],
   "source": [
    "from efficient_graph_gp.graph_kernels import diffusion_kernel, get_normalized_laplacian, generate_noisy_samples\n",
    "from efficient_graph_gp.gpflow_kernels import GraphDiffusionKernel\n",
    "from utils import plot_network_graph, plot_gp_fit"
   ]
  },
  {
   "cell_type": "code",
   "execution_count": 9,
   "metadata": {},
   "outputs": [],
   "source": [
    "# Parameters\n",
    "num_nodes = 50\n",
    "graph_type = 'random' # 'line', 'random'"
   ]
  },
  {
   "cell_type": "code",
   "execution_count": 10,
   "metadata": {},
   "outputs": [],
   "source": [
    "if graph_type == 'line':\n",
    "    adjacency_matrix = np.eye(num_nodes, k=1) + np.eye(num_nodes, k=-1)  # Circular adjacency matrix\n",
    "elif graph_type == 'random':\n",
    "    probability = 0.1  # Probability of edge creation\n",
    "    G = nx.erdos_renyi_graph(num_nodes, probability, directed=False)  # Ensure the graph is undirected\n",
    "    adjacency_matrix = nx.to_numpy_array(G)  # Convert to adjacency matrix"
   ]
  },
  {
   "cell_type": "code",
   "execution_count": 11,
   "metadata": {},
   "outputs": [],
   "source": [
    "def gp_inference(X,Y,X_new, graph_kernel):\n",
    "    model = gpflow.models.GPR(data=(X, Y), kernel=graph_kernel, mean_function=None)\n",
    "    gpflow.optimizers.Scipy().minimize(model.training_loss, model.trainable_variables)\n",
    "    mean, variance = model.predict_f(X_new)\n",
    "    stddev = tf.sqrt(variance)\n",
    "    return model, mean, stddev"
   ]
  },
  {
   "cell_type": "code",
   "execution_count": 12,
   "metadata": {},
   "outputs": [
    {
     "data": {
      "application/vnd.jupyter.widget-view+json": {
       "model_id": "57a5b3e9acf74ceeb20a58547ea2135c",
       "version_major": 2,
       "version_minor": 0
      },
      "text/plain": [
       "VBox(children=(FloatSlider(value=3.0, description='Beta:', max=10.0, min=0.1),))"
      ]
     },
     "metadata": {},
     "output_type": "display_data"
    },
    {
     "data": {
      "application/vnd.jupyter.widget-view+json": {
       "model_id": "01238b60a59544868871c94015c5e366",
       "version_major": 2,
       "version_minor": 0
      },
      "text/plain": [
       "Output()"
      ]
     },
     "metadata": {},
     "output_type": "display_data"
    }
   ],
   "source": [
    "def demo(beta_sample):\n",
    "    clear_output(wait=True)  # Clear previous output\n",
    "    # Generate noisy samples\n",
    "    K = diffusion_kernel(adjacency_matrix, beta_sample)\n",
    "    Y_noisy = generate_noisy_samples(K,noise_std=0.1)\n",
    "    X = tf.convert_to_tensor(np.arange(num_nodes, dtype=np.float64).reshape(-1, 1))  # Input features (nodes)\n",
    "    X_new = tf.convert_to_tensor(np.arange(num_nodes).reshape(-1, 1), dtype=tf.float64)  # New input features for prediction\n",
    "    Y = tf.convert_to_tensor(Y_noisy, dtype=tf.float64)  # Noisy sampled data\n",
    "    graph_kernel = GraphDiffusionKernel(adjacency_matrix)\n",
    "    model, mean, stddev = gp_inference(X, Y, X_new, graph_kernel)\n",
    "    \n",
    "    # Plotting the Gaussian Process results\n",
    "    fig, ax = plt.subplots(1, 2, figsize=(16, 6))\n",
    "    plot_gp_fit(X, Y, X_new, mean, stddev, beta_sample, ax[0])\n",
    "    plot_network_graph(adjacency_matrix, ax[1])\n",
    "    print(\"Learned beta:\", model.kernel.beta.numpy())\n",
    "\n",
    "beta_slider = widgets.FloatSlider(value=3.0, min=0.1, max=10.0, step=0.1, description='Beta:')\n",
    "ui = widgets.VBox([beta_slider])\n",
    "out = widgets.interactive_output(demo, {'beta_sample': beta_slider})\n",
    "display(ui, out)\n"
   ]
  },
  {
   "cell_type": "code",
   "execution_count": null,
   "metadata": {},
   "outputs": [],
   "source": []
  }
 ],
 "metadata": {
  "kernelspec": {
   "display_name": "venv",
   "language": "python",
   "name": "python3"
  },
  "language_info": {
   "codemirror_mode": {
    "name": "ipython",
    "version": 3
   },
   "file_extension": ".py",
   "mimetype": "text/x-python",
   "name": "python",
   "nbconvert_exporter": "python",
   "pygments_lexer": "ipython3",
   "version": "3.11.5"
  }
 },
 "nbformat": 4,
 "nbformat_minor": 2
}
