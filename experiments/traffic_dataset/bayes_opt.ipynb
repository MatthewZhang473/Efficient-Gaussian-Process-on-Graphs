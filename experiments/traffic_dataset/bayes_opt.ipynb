{
 "cells": [
  {
   "cell_type": "markdown",
   "metadata": {},
   "source": [
    "# Efficient Gaussian Random Field Inference on Graphs - Bayes Opt on the Traffic Dataset\n",
    "\n",
    "This notebook contains the following:\n",
    "\n",
    "1. Load the traffic dataset\n",
    "2. (Opt) Visualize the dataset\n",
    "3. Run Bayes Opt with different kernels\n",
    "4. Run Bayes Opt with GRF, with different walks per node"
   ]
  },
  {
   "cell_type": "markdown",
   "metadata": {},
   "source": [
    "## Setup"
   ]
  },
  {
   "cell_type": "code",
   "execution_count": 67,
   "metadata": {},
   "outputs": [],
   "source": [
    "import tensorflow as tf\n",
    "import numpy as np\n",
    "import scipy.special\n",
    "import gpflow\n",
    "import matplotlib.pyplot as plt\n",
    "import ipywidgets as widgets\n",
    "from IPython.display import display, clear_output\n",
    "import networkx as nx\n",
    "from gpflow.utilities import print_summary\n",
    "import tensorflow_probability as tfp\n",
    "import seaborn as sns\n",
    "from tqdm import tqdm\n",
    "import pandas as pd\n",
    "\n",
    "import sys\n",
    "import os\n",
    "project_root = os.path.abspath(\"../..\")\n",
    "sys.path.append(project_root)\n",
    "\n",
    "from efficient_graph_gp.graph_kernels import get_normalized_laplacian\n",
    "from efficient_graph_gp.gpflow_kernels import GraphDiffusionFastGRFKernel, GraphDiffusionPoFMKernel, GraphDiffusionKernel, GraphGeneralPoFMKernel, GraphGeneralFastGRFKernel\n",
    "from utils import compute_fro\n",
    "from traffic_utils.preprocessing import load_PEMS\n",
    "from traffic_utils.plotting import plot_PEMS"
   ]
  },
  {
   "cell_type": "code",
   "execution_count": 26,
   "metadata": {
    "pycharm": {
     "name": "#%%\n"
    }
   },
   "outputs": [
    {
     "name": "stderr",
     "output_type": "stream",
     "text": [
      "/Users/matthew/Documents/Efficient Gaussian Process on Graphs/Efficient_Gaussian_Process_On_Graphs/experiments/traffic_dataset/traffic_utils/preprocessing.py:90: UserWarning: Unpickling a shapely <2.0 geometry object. Please save the pickle again; shapely 2.1 will not have this compatibility.\n",
      "  G = pickle.load(f)\n"
     ]
    },
    {
     "name": "stdout",
     "output_type": "stream",
     "text": [
      "epsg:4326\n",
      "(1016, 1016)\n"
     ]
    },
    {
     "name": "stderr",
     "output_type": "stream",
     "text": [
      "/Users/matthew/Documents/Efficient Gaussian Process on Graphs/Efficient_Gaussian_Process_On_Graphs/venv/lib/python3.11/site-packages/osmnx/convert.py:381: FutureWarning: <class 'geopandas.array.GeometryArray'>._reduce will require a `keepdims` parameter in the future\n",
      "  dupes = edges[mask].dropna(subset=[\"geometry\"])\n"
     ]
    }
   ],
   "source": [
    "# Load and preprocess the PEMS dataset\n",
    "\n",
    "np.random.seed(1111)\n",
    "num_eigenpairs = 500\n",
    "dataset = 'PeMS-Bay-new'\n",
    "num_train = 250\n",
    "\n",
    "G, data_train, data_test, data = load_PEMS(num_train=num_train)\n",
    "x_train, y_train = data_train\n",
    "x_test, y_test = data_test\n",
    "x, y = data\n",
    "orig_mean, orig_std = np.mean(y_train), np.std(y_train)\n",
    "y_train = (y_train-orig_mean)/orig_std\n",
    "y_test = (y_test-orig_mean)/orig_std\n",
    "\n",
    "X_train = tf.convert_to_tensor(x_train)\n",
    "X_full = tf.convert_to_tensor(x)\n",
    "Y_train = tf.convert_to_tensor(y_train)\n",
    "\n",
    "adjacency_matrix = nx.to_numpy_array(G)  # Converts to NumPy adjacency matrix\n",
    "print(adjacency_matrix.shape)  # Check matrix size"
   ]
  },
  {
   "cell_type": "code",
   "execution_count": 27,
   "metadata": {},
   "outputs": [],
   "source": [
    "def gp_training(X,Y,X_new, graph_kernel):\n",
    "    model = gpflow.models.GPR(data=(X, Y), kernel=graph_kernel, mean_function=None,noise_variance=0.01)\n",
    "    \n",
    "    # # Explicitly set dtype to float32\n",
    "    # dtype = tf.float64\n",
    "    # # Assign Uniform prior with explicitly cast float32 values\n",
    "    # model.kernel.beta.prior = tfp.distributions.Uniform(\n",
    "    #     low=tf.constant(0.0, dtype=dtype), \n",
    "    #     high=tf.constant(2.0, dtype=dtype)\n",
    "    # )\n",
    "    \n",
    "    gpflow.optimizers.Scipy().minimize(model.training_loss, model.trainable_variables)\n",
    "    mean, variance = model.predict_f(X_new)\n",
    "    stddev = tf.sqrt(variance)\n",
    "    return model, mean, stddev\n",
    "\n",
    "def configure_model(model, hyperparameters):\n",
    "    model.kernel.beta.assign(hyperparameters['beta'])\n",
    "    model.kernel.sigma_f.assign(hyperparameters['sigma_f'])\n",
    "    model.likelihood.variance.assign(hyperparameters['variance'])\n",
    "    return model\n",
    "\n",
    "def configure_model_general(model, hyperparameters):\n",
    "    model.kernel.modulator_vector.assign(hyperparameters['modulator_vector'])\n",
    "    model.likelihood.variance.assign(hyperparameters['variance'])\n",
    "    return model\n",
    "\n",
    "def gp_inference(model, X_new):\n",
    "    mean, variance = model.predict_f(X_new)\n",
    "    stddev = tf.sqrt(variance)\n",
    "    return mean, stddev\n",
    "\n",
    "def evaluate(model, x_test, y_test, quiet=False):\n",
    "    \n",
    "    train_likelihood = model.log_marginal_likelihood().numpy()\n",
    "    \n",
    "    mean, cov = model.predict_f(x_test, full_cov=True)\n",
    "    l2_error = orig_std * np.linalg.norm(y_test.ravel() - mean.numpy().ravel()) / len(y_test.ravel())\n",
    "    \n",
    "    mean, cov = tf.reshape(mean, [-1]), cov[0]\n",
    "    cov = cov + tf.linalg.diag(tf.fill([len(y_test)], model.likelihood.variance))\n",
    "    dist = tfp.distributions.MultivariateNormalTriL(mean, cov)\n",
    "    test_likelihood = dist.log_prob(tf.reshape(y_test, [-1])).numpy()\n",
    "    \n",
    "    if not quiet:\n",
    "        print(f\"Train likelihood: {train_likelihood}\")\n",
    "        print(f\"L2 error: {l2_error}\")\n",
    "        print(f\"Test likelihood: {test_likelihood}\")\n",
    "    \n",
    "    return train_likelihood, l2_error, test_likelihood"
   ]
  },
  {
   "cell_type": "markdown",
   "metadata": {},
   "source": [
    "## Learn A Set of Good Hyperparameters with General PoFM"
   ]
  },
  {
   "cell_type": "code",
   "execution_count": 286,
   "metadata": {},
   "outputs": [],
   "source": [
    "MAX_WALK_LENGTH = 4"
   ]
  },
  {
   "cell_type": "code",
   "execution_count": 287,
   "metadata": {},
   "outputs": [],
   "source": [
    "x,y = data\n",
    "y_avg = np.mean(y)\n",
    "y_std = np.std(y)\n",
    "X = tf.convert_to_tensor(x)\n",
    "Y = tf.convert_to_tensor((y - y_avg)/y_std)"
   ]
  },
  {
   "cell_type": "code",
   "execution_count": 288,
   "metadata": {},
   "outputs": [
    {
     "name": "stdout",
     "output_type": "stream",
     "text": [
      "╒═════════════════════════════╤═══════════╤══════════════════╤═════════╤═════════════╤═════════╤═════════╤════════════════════════════════╕\n",
      "│ name                        │ class     │ transform        │ prior   │ trainable   │ shape   │ dtype   │ value                          │\n",
      "╞═════════════════════════════╪═══════════╪══════════════════╪═════════╪═════════════╪═════════╪═════════╪════════════════════════════════╡\n",
      "│ GPR.kernel.modulator_vector │ Parameter │ Identity         │         │ True        │ (4,)    │ float64 │ [1.92524, -9.08573, 9.46733... │\n",
      "├─────────────────────────────┼───────────┼──────────────────┼─────────┼─────────────┼─────────┼─────────┼────────────────────────────────┤\n",
      "│ GPR.likelihood.variance     │ Parameter │ Softplus + Shift │         │ True        │ ()      │ float64 │ 0.2588708671115132             │\n",
      "╘═════════════════════════════╧═══════════╧══════════════════╧═════════╧═════════════╧═════════╧═════════╧════════════════════════════════╛\n"
     ]
    }
   ],
   "source": [
    "# The normalized laplacian is used\n",
    "graph_kernel = GraphGeneralPoFMKernel(adjacency_matrix,\n",
    "                                      max_walk_length=MAX_WALK_LENGTH,\n",
    "                                      normalize_laplacian=True) # note a random initialization of modulation function is used.\n",
    "\n",
    "model, mean, stddev = gp_training(X, Y, X, graph_kernel)\n",
    "print_summary(model)"
   ]
  },
  {
   "cell_type": "code",
   "execution_count": 298,
   "metadata": {},
   "outputs": [],
   "source": [
    "# record the hyperparameters\n",
    "hyperparameters = {\n",
    "    'modulator_vector': model.kernel.modulator_vector.numpy(),\n",
    "    'variance': model.likelihood.variance.numpy()\n",
    "}"
   ]
  },
  {
   "cell_type": "code",
   "execution_count": 290,
   "metadata": {},
   "outputs": [
    {
     "data": {
      "text/plain": [
       "<tf.Tensor: shape=(), dtype=float64, numpy=-421.70478632831856>"
      ]
     },
     "execution_count": 290,
     "metadata": {},
     "output_type": "execute_result"
    }
   ],
   "source": [
    "model.log_marginal_likelihood()"
   ]
  },
  {
   "cell_type": "markdown",
   "metadata": {},
   "source": [
    "## Bayes Opt with Different Kernels"
   ]
  },
  {
   "cell_type": "code",
   "execution_count": 300,
   "metadata": {},
   "outputs": [],
   "source": [
    "WALKS_PER_NODE = 10000\n",
    "MAX_WALK_LENGTH = 4\n",
    "P_HALT = 0.1\n",
    "\n",
    "kernels = {\n",
    "    # \"GraphDiffusionKernel\": GraphDiffusionKernel(adjacency_matrix=adjacency_matrix),\n",
    "    \"GraphGeneralPoFMKernel\": GraphGeneralPoFMKernel(adjacency_matrix=adjacency_matrix,\n",
    "                                                     max_walk_length=MAX_WALK_LENGTH,\n",
    "                                                     modulator_vector=hyperparameters['modulator_vector']),\n",
    "    # \"GraphGeneralFastGRFKernel\": GraphGeneralFastGRFKernel(adjacency_matrix=adjacency_matrix,\n",
    "    #                                                         walks_per_node=WALKS_PER_NODE,\n",
    "    #                                                         p_halt=P_HALT,\n",
    "    #                                                         max_walk_length=MAX_WALK_LENGTH)\n",
    "}"
   ]
  },
  {
   "cell_type": "code",
   "execution_count": 301,
   "metadata": {},
   "outputs": [],
   "source": [
    "NUM_REPEATS = 500\n",
    "SEEDS = np.arange(NUM_REPEATS)\n",
    "NUM_ITER = 100\n",
    "convergence_results = []"
   ]
  },
  {
   "cell_type": "code",
   "execution_count": 302,
   "metadata": {},
   "outputs": [],
   "source": [
    "num_data_nodes = X.shape[0]\n",
    "\n",
    "# Ground truth best\n",
    "gt_best_point = np.argmax(Y.numpy())\n",
    "gt_best_value = Y.numpy()[gt_best_point]"
   ]
  },
  {
   "cell_type": "code",
   "execution_count": 303,
   "metadata": {},
   "outputs": [],
   "source": [
    "subsample_factor = 0.05"
   ]
  },
  {
   "cell_type": "code",
   "execution_count": 304,
   "metadata": {},
   "outputs": [
    {
     "name": "stderr",
     "output_type": "stream",
     "text": [
      "Kernel: random search: 100%|██████████| 500/500 [00:00<00:00, 767.51it/s]\n"
     ]
    }
   ],
   "source": [
    "# Baseline: Random search algorithm\n",
    "for seed in tqdm(SEEDS, desc=\"Kernel: random search\"):\n",
    "    np.random.seed(seed)\n",
    "    tf.random.set_seed(seed)\n",
    "\n",
    "    # Initial subsampling (keep consistent with other experiments)\n",
    "    sub_idx = np.random.choice(num_data_nodes, min(num_data_nodes // subsample_factor, 10), replace=False)\n",
    "    X_sub = X.numpy()[sub_idx]\n",
    "    Y_sub = Y.numpy()[sub_idx]\n",
    "\n",
    "    best_val = -np.inf\n",
    "    best_pt = None\n",
    "\n",
    "    for i in range(NUM_ITER):\n",
    "        # Random search: sample a random index\n",
    "        next_idx = np.random.choice(num_data_nodes, 1)[0]\n",
    "        next_val = Y.numpy()[next_idx]\n",
    "\n",
    "        if next_val > best_val:\n",
    "            best_val = next_val\n",
    "            best_pt = next_idx\n",
    "\n",
    "        sub_idx = np.append(sub_idx, next_idx)\n",
    "        X_sub = X.numpy()[sub_idx]\n",
    "        Y_sub = Y.numpy()[sub_idx]\n",
    "\n",
    "        convergence_results.append({\n",
    "            \"kernel\": \"random search\",\n",
    "            \"seed\": seed,\n",
    "            \"iteration\": i + 1,\n",
    "            \"best_value\": best_val,\n",
    "            \"ground_truth_best\": gt_best_value[0] if hasattr(gt_best_value, '__getitem__') else gt_best_value\n",
    "        })\n"
   ]
  },
  {
   "cell_type": "code",
   "execution_count": null,
   "metadata": {},
   "outputs": [
    {
     "name": "stderr",
     "output_type": "stream",
     "text": [
      "Kernel: GraphGeneralPoFMKernel: 100%|██████████| 500/500 [1:33:49<00:00, 11.26s/it]\n"
     ]
    }
   ],
   "source": [
    "# Bayesian optimization with each kernel\n",
    "for kernel_name, kernel in kernels.items():\n",
    "    for seed in tqdm(SEEDS, desc=f\"Kernel: {kernel_name}\"):\n",
    "        np.random.seed(seed)\n",
    "        tf.random.set_seed(seed)\n",
    "\n",
    "        # Initial subsampling (ensure indices are handled consistently)\n",
    "        sub_idx = np.random.choice(num_data_nodes, min(num_data_nodes // subsample_factor, 10), replace=False)\n",
    "        X_sub = X.numpy()[sub_idx]\n",
    "        Y_sub = Y.numpy()[sub_idx]\n",
    "\n",
    "        best_val = -np.inf\n",
    "        best_pt = None\n",
    "\n",
    "        for i in range(NUM_ITER):   \n",
    "            # Perform Bayesian optimization\n",
    "            model = gpflow.models.GPR(data=(X_sub, Y_sub), kernel=kernel, mean_function=None)\n",
    "            model.likelihood.variance.assign(hyperparameters['variance'])\n",
    "            mean, stddev = gp_inference(model, X_sub)\n",
    "            thompson = model.predict_f_samples(X, 1).numpy().ravel()\n",
    "            next_idx = np.argmax(thompson)\n",
    "            next_val = Y.numpy()[next_idx]\n",
    "            if next_val > best_val:\n",
    "                best_val = next_val\n",
    "                best_pt = next_idx\n",
    "            sub_idx = np.append(sub_idx, next_idx)\n",
    "            X_sub = X.numpy()[sub_idx]\n",
    "            Y_sub = Y.numpy()[sub_idx]\n",
    "            \n",
    "            \n",
    "            # Store results for this iteration.\n",
    "            convergence_results.append({\n",
    "                \"kernel\": kernel_name,\n",
    "                \"seed\": seed,\n",
    "                \"iteration\": i + 1,\n",
    "                \"best_value\": best_val,\n",
    "                \"ground_truth_best\": gt_best_value[0] if hasattr(gt_best_value, '__getitem__') else gt_best_value\n",
    "            })"
   ]
  },
  {
   "cell_type": "code",
   "execution_count": 306,
   "metadata": {},
   "outputs": [],
   "source": [
    "convergence_df = pd.DataFrame(convergence_results)\n",
    "convergence_df['best_value'] = convergence_df['best_value'] / gt_best_value"
   ]
  },
  {
   "cell_type": "code",
   "execution_count": 310,
   "metadata": {},
   "outputs": [
    {
     "data": {
      "text/html": [
       "<div>\n",
       "<style scoped>\n",
       "    .dataframe tbody tr th:only-of-type {\n",
       "        vertical-align: middle;\n",
       "    }\n",
       "\n",
       "    .dataframe tbody tr th {\n",
       "        vertical-align: top;\n",
       "    }\n",
       "\n",
       "    .dataframe thead th {\n",
       "        text-align: right;\n",
       "    }\n",
       "</style>\n",
       "<table border=\"1\" class=\"dataframe\">\n",
       "  <thead>\n",
       "    <tr style=\"text-align: right;\">\n",
       "      <th></th>\n",
       "      <th>kernel</th>\n",
       "      <th>seed</th>\n",
       "      <th>iteration</th>\n",
       "      <th>best_value</th>\n",
       "      <th>ground_truth_best</th>\n",
       "    </tr>\n",
       "  </thead>\n",
       "  <tbody>\n",
       "    <tr>\n",
       "      <th>0</th>\n",
       "      <td>random search</td>\n",
       "      <td>0</td>\n",
       "      <td>1</td>\n",
       "      <td>[-0.8628770485313909]</td>\n",
       "      <td>1.136266</td>\n",
       "    </tr>\n",
       "    <tr>\n",
       "      <th>1</th>\n",
       "      <td>random search</td>\n",
       "      <td>0</td>\n",
       "      <td>2</td>\n",
       "      <td>[0.6603594331406852]</td>\n",
       "      <td>1.136266</td>\n",
       "    </tr>\n",
       "    <tr>\n",
       "      <th>2</th>\n",
       "      <td>random search</td>\n",
       "      <td>0</td>\n",
       "      <td>3</td>\n",
       "      <td>[0.6603594331406852]</td>\n",
       "      <td>1.136266</td>\n",
       "    </tr>\n",
       "    <tr>\n",
       "      <th>3</th>\n",
       "      <td>random search</td>\n",
       "      <td>0</td>\n",
       "      <td>4</td>\n",
       "      <td>[0.7890111630116377]</td>\n",
       "      <td>1.136266</td>\n",
       "    </tr>\n",
       "    <tr>\n",
       "      <th>4</th>\n",
       "      <td>random search</td>\n",
       "      <td>0</td>\n",
       "      <td>5</td>\n",
       "      <td>[0.7890111630116377]</td>\n",
       "      <td>1.136266</td>\n",
       "    </tr>\n",
       "    <tr>\n",
       "      <th>...</th>\n",
       "      <td>...</td>\n",
       "      <td>...</td>\n",
       "      <td>...</td>\n",
       "      <td>...</td>\n",
       "      <td>...</td>\n",
       "    </tr>\n",
       "    <tr>\n",
       "      <th>99995</th>\n",
       "      <td>GraphGeneralPoFMKernel</td>\n",
       "      <td>499</td>\n",
       "      <td>96</td>\n",
       "      <td>[0.8713482701290477]</td>\n",
       "      <td>1.136266</td>\n",
       "    </tr>\n",
       "    <tr>\n",
       "      <th>99996</th>\n",
       "      <td>GraphGeneralPoFMKernel</td>\n",
       "      <td>499</td>\n",
       "      <td>97</td>\n",
       "      <td>[0.8713482701290477]</td>\n",
       "      <td>1.136266</td>\n",
       "    </tr>\n",
       "    <tr>\n",
       "      <th>99997</th>\n",
       "      <td>GraphGeneralPoFMKernel</td>\n",
       "      <td>499</td>\n",
       "      <td>98</td>\n",
       "      <td>[0.8713482701290477]</td>\n",
       "      <td>1.136266</td>\n",
       "    </tr>\n",
       "    <tr>\n",
       "      <th>99998</th>\n",
       "      <td>GraphGeneralPoFMKernel</td>\n",
       "      <td>499</td>\n",
       "      <td>99</td>\n",
       "      <td>[0.8713482701290477]</td>\n",
       "      <td>1.136266</td>\n",
       "    </tr>\n",
       "    <tr>\n",
       "      <th>99999</th>\n",
       "      <td>GraphGeneralPoFMKernel</td>\n",
       "      <td>499</td>\n",
       "      <td>100</td>\n",
       "      <td>[0.8713482701290477]</td>\n",
       "      <td>1.136266</td>\n",
       "    </tr>\n",
       "  </tbody>\n",
       "</table>\n",
       "<p>100000 rows × 5 columns</p>\n",
       "</div>"
      ],
      "text/plain": [
       "                       kernel  seed  iteration             best_value  \\\n",
       "0               random search     0          1  [-0.8628770485313909]   \n",
       "1               random search     0          2   [0.6603594331406852]   \n",
       "2               random search     0          3   [0.6603594331406852]   \n",
       "3               random search     0          4   [0.7890111630116377]   \n",
       "4               random search     0          5   [0.7890111630116377]   \n",
       "...                       ...   ...        ...                    ...   \n",
       "99995  GraphGeneralPoFMKernel   499         96   [0.8713482701290477]   \n",
       "99996  GraphGeneralPoFMKernel   499         97   [0.8713482701290477]   \n",
       "99997  GraphGeneralPoFMKernel   499         98   [0.8713482701290477]   \n",
       "99998  GraphGeneralPoFMKernel   499         99   [0.8713482701290477]   \n",
       "99999  GraphGeneralPoFMKernel   499        100   [0.8713482701290477]   \n",
       "\n",
       "       ground_truth_best  \n",
       "0               1.136266  \n",
       "1               1.136266  \n",
       "2               1.136266  \n",
       "3               1.136266  \n",
       "4               1.136266  \n",
       "...                  ...  \n",
       "99995           1.136266  \n",
       "99996           1.136266  \n",
       "99997           1.136266  \n",
       "99998           1.136266  \n",
       "99999           1.136266  \n",
       "\n",
       "[100000 rows x 5 columns]"
      ]
     },
     "execution_count": 310,
     "metadata": {},
     "output_type": "execute_result"
    }
   ],
   "source": [
    "convergence_df"
   ]
  },
  {
   "cell_type": "code",
   "execution_count": 327,
   "metadata": {},
   "outputs": [
    {
     "data": {
      "image/png": "[encoded data removed]",
      "text/plain": [
       "<Figure size 1000x600 with 1 Axes>"
      ]
     },
     "metadata": {},
     "output_type": "display_data"
    }
   ],
   "source": [
    "agg_df = convergence_df.groupby(['kernel', 'iteration'], as_index=False).agg(\n",
    "    best_value_mean=('best_value', 'mean'),\n",
    "    best_value_std=('best_value', 'std'),\n",
    "    best_value_min=('best_value', 'min'),\n",
    "    best_value_max=('best_value', 'max'),\n",
    "    ground_truth_best=('ground_truth_best', 'first')\n",
    ")\n",
    "\n",
    "# Compute regret statistics\n",
    "agg_df['regret_mean'] = agg_df['ground_truth_best'] - agg_df['best_value_mean']\n",
    "agg_df['regret_min'] = agg_df['ground_truth_best'] - agg_df['best_value_max']  # max best_value → min regret\n",
    "agg_df['regret_max'] = agg_df['ground_truth_best'] - agg_df['best_value_min']  # min best_value → max regret\n",
    "\n",
    "plt.figure(figsize=(10, 6))\n",
    "for kernel in agg_df['kernel'].unique():\n",
    "    sub_df = agg_df[agg_df['kernel'] == kernel].copy()\n",
    "    # Ensure the data is in float format\n",
    "    sub_df['iteration'] = sub_df['iteration'].astype(float)\n",
    "    sub_df['best_value_mean'] = sub_df['best_value_mean'].astype(float)\n",
    "    sub_df['best_value_std'] = sub_df['best_value_std'].astype(float)\n",
    "    \n",
    "    x = sub_df['iteration'].values\n",
    "    y = sub_df['best_value_mean'].values\n",
    "    y_err = sub_df['best_value_std'].values\n",
    "    plt.plot(x, y, marker='o', label=f'{kernel} mean')\n",
    "\n",
    "# Plot ground truth best as a horizontal line\n",
    "gt_best = 1\n",
    "plt.axhline(y=gt_best, color='red', linestyle='--', label='Ground Truth Best')\n",
    "\n",
    "plt.xlabel('Bayes Opt Iteration')\n",
    "plt.ylabel('Best Value Found')\n",
    "plt.title('Convergence Comparison of Bayesian Optimization for Different Kernels')\n",
    "plt.legend()\n",
    "plt.grid(True)\n",
    "plt.show()\n"
   ]
  },
  {
   "cell_type": "code",
   "execution_count": 315,
   "metadata": {},
   "outputs": [],
   "source": [
    "df = convergence_df.copy()"
   ]
  },
  {
   "cell_type": "code",
   "execution_count": 324,
   "metadata": {},
   "outputs": [
    {
     "data": {
      "image/png": "[encoded data removed]",
      "text/plain": [
       "<Figure size 800x600 with 1 Axes>"
      ]
     },
     "metadata": {},
     "output_type": "display_data"
    }
   ],
   "source": [
    "# Define threshold and max iteration\n",
    "threshold = 0.8\n",
    "max_iter = df['iteration'].max()  # or set manually as 30\n",
    "df['best_value'] = df['best_value'].astype(float)\n",
    "df['reached_threshold'] = df['best_value'] >= threshold\n",
    "\n",
    "# Step 1: Get first iteration where threshold is reached\n",
    "reached_df = df[df['reached_threshold']].groupby(['kernel', 'seed'], as_index=False).agg(\n",
    "    first_iteration=('iteration', 'min')\n",
    ")\n",
    "\n",
    "# Step 2: Get all (kernel, seed) pairs\n",
    "all_pairs = df[['kernel', 'seed']].drop_duplicates()\n",
    "\n",
    "# Step 3: Merge and fill missing with max_iter\n",
    "threshold_df = pd.merge(all_pairs, reached_df, on=['kernel', 'seed'], how='left')\n",
    "threshold_df['first_iteration'] = threshold_df['first_iteration'].fillna(max_iter)\n",
    "\n",
    "# Step 4: Compute stats per kernel\n",
    "threshold_stats = threshold_df.groupby('kernel', as_index=False).agg(\n",
    "    mean_iterations=('first_iteration', 'mean'),\n",
    "    std_iterations=('first_iteration', 'std')\n",
    ")\n",
    "\n",
    "# Step 5: Plot\n",
    "plt.figure(figsize=(8, 6))\n",
    "x = range(len(threshold_stats))\n",
    "y = threshold_stats['mean_iterations']\n",
    "y_err = threshold_stats['std_iterations']\n",
    "bars = plt.bar(x, y, capsize=6, alpha=0.8, color='cornflowerblue')\n",
    "\n",
    "plt.xticks(x, threshold_stats['kernel'], rotation=30, ha='right')\n",
    "plt.xlabel('Kernel', fontsize=12)\n",
    "plt.ylabel(f'Average Iterations to Reach {int(threshold*100)}% of Ground Truth', fontsize=12)\n",
    "plt.title(f'Iterations to Reach {int(threshold*100)}% of Ground Truth by Kernel', fontsize=14, fontweight='bold')\n",
    "plt.grid(axis='y', linestyle='--', alpha=0.6)\n",
    "plt.tight_layout()\n",
    "plt.show()\n"
   ]
  },
  {
   "cell_type": "code",
   "execution_count": 326,
   "metadata": {},
   "outputs": [
    {
     "data": {
      "image/png": "[encoded data removed]",
      "text/plain": [
       "<Figure size 1000x600 with 1 Axes>"
      ]
     },
     "metadata": {},
     "output_type": "display_data"
    }
   ],
   "source": [
    "import numpy as np\n",
    "import matplotlib.pyplot as plt\n",
    "import pandas as pd\n",
    "\n",
    "# Ensure best_value is float\n",
    "df['best_value'] = df['best_value'].astype(float)\n",
    "\n",
    "# Set thresholds and initialize list for results\n",
    "thresholds = np.linspace(0.5, 0.95, 18)  # You can adjust granularity\n",
    "max_iter = df['iteration'].max()\n",
    "\n",
    "records = []\n",
    "\n",
    "# Loop over thresholds and compute average first iteration per kernel\n",
    "for threshold in thresholds:\n",
    "    df['reached_threshold'] = df['best_value'] >= threshold\n",
    "\n",
    "    reached_df = df[df['reached_threshold']].groupby(['kernel', 'seed'], as_index=False).agg(\n",
    "        first_iteration=('iteration', 'min')\n",
    "    )\n",
    "\n",
    "    all_pairs = df[['kernel', 'seed']].drop_duplicates()\n",
    "\n",
    "    threshold_df = pd.merge(all_pairs, reached_df, on=['kernel', 'seed'], how='left')\n",
    "    threshold_df['first_iteration'] = threshold_df['first_iteration'].fillna(max_iter)\n",
    "\n",
    "    stats = threshold_df.groupby('kernel', as_index=False).agg(\n",
    "        mean_iterations=('first_iteration', 'mean')\n",
    "    )\n",
    "    stats['threshold'] = threshold\n",
    "    records.append(stats)\n",
    "\n",
    "# Combine all stats into one DataFrame\n",
    "plot_df = pd.concat(records)\n",
    "\n",
    "# Plot\n",
    "plt.figure(figsize=(10, 6))\n",
    "for kernel in plot_df['kernel'].unique():\n",
    "    kernel_df = plot_df[plot_df['kernel'] == kernel]\n",
    "    plt.plot(kernel_df['threshold'], kernel_df['mean_iterations'], label=kernel, marker='o')\n",
    "\n",
    "plt.xlabel('Threshold', fontsize=12)\n",
    "plt.ylabel('Average Iterations to Reach Threshold', fontsize=12)\n",
    "plt.title('Average Iterations to Reach Varying Thresholds by Kernel', fontsize=14, fontweight='bold')\n",
    "plt.legend(title='Kernel')\n",
    "plt.grid(True, linestyle='--', alpha=0.6)\n",
    "plt.tight_layout()\n",
    "plt.show()\n"
   ]
  },
  {
   "cell_type": "markdown",
   "metadata": {},
   "source": [
    "## 2 Learn the Hyperparameters Directly with GRF"
   ]
  },
  {
   "cell_type": "markdown",
   "metadata": {},
   "source": [
    "### 2.1 Track how the Gram Matrix Converges to the PoFM"
   ]
  },
  {
   "cell_type": "code",
   "execution_count": null,
   "metadata": {},
   "outputs": [],
   "source": [
    "# Define the range of walk lengths\n",
    "walks_per_nodes = [1,2,4,8,16,32,64,128,256,512,1024,2048,4096,8192]\n",
    "grf_gram_matrices = []\n",
    "\n",
    "\n",
    "# This beta value is previosuly learned from the PoFM kernel\n",
    "beta_test = learned_hyperparameters['beta']\n",
    "\n",
    "pofm_kernel = GraphDiffusionPoFMKernel(adjacency_matrix,\n",
    "                                       max_expansion=MAX_WALK_LENGTH,\n",
    "                                       normalize_laplacian=True)\n",
    "\n",
    "gram_pofm = pofm_kernel.compute_diffusion_kernel(adjacency_matrix, beta_test, MAX_WALK_LENGTH) # note sigma_f = 1 is used here\n",
    "\n",
    "for walks_per_node in tqdm(walks_per_nodes, desc='Walk lengths'):\n",
    "    # Create the graph kernel with the current walk length\n",
    "    graph_kernel = GraphDiffusionFastGRFKernel(adjacency_matrix,\n",
    "                                               walks_per_node=walks_per_node,\n",
    "                                               p_halt=0.1,\n",
    "                                               max_walk_length=5+1,\n",
    "                                               normalize_laplacian=True)\n",
    "    # Learn the hyperparameters directly with GRF\n",
    "    model, mean, stddev = gp_training(X_train, Y_train, X_full, graph_kernel)\n",
    "    grf_learned_beta = model.kernel.beta.numpy()\n",
    "    grf_gram_matrices.append(graph_kernel.grf_kernel(beta=grf_learned_beta, sigma_f=1))"
   ]
  },
  {
   "cell_type": "code",
   "execution_count": null,
   "metadata": {},
   "outputs": [],
   "source": [
    "# Calculate Frobenius norms\n",
    "frobenius_norms = [compute_fro(gram_pofm, grf_gram) for grf_gram in grf_gram_matrices]\n",
    "\n",
    "# Plot Frobenius norm vs. Number of Walkers\n",
    "plt.figure(figsize=(8, 6))\n",
    "plt.plot(walks_per_nodes, frobenius_norms, marker='o', linestyle='-', color='b')\n",
    "plt.xlabel('Number of Walkers')\n",
    "plt.xscale('log')\n",
    "plt.ylabel('Frobenius Norm')\n",
    "plt.yscale('log')\n",
    "plt.title('Frobenius Norm vs Number of Walkers (GRF-Learned Hyperparam)')\n",
    "plt.grid(True)\n",
    "plt.show()"
   ]
  },
  {
   "cell_type": "markdown",
   "metadata": {},
   "source": [
    "### 2.2 Track the L2 Error for Prediction \n",
    "\n",
    "\n",
    "We expect this to reach similar level of performance as the truncated diffusion kernel (PoFM)\n",
    "\n",
    "The fact that we can learn the hyperparam (beta) means that this should looks better than simply comparing the frobenious norm between the PoFM gram matrix and the GRF gram matrix - although they would converge eventually.\n",
    "\n",
    "In the later code, we learned these two GRF kernels:\n",
    "\n",
    "1. A GRF kernel that use a diffusion kernel to parameterise the modulation function (hence a Diffusion-shape GRF kernel)\n",
    "2. A GRF kernel with arbitray modulation function"
   ]
  },
  {
   "cell_type": "code",
   "execution_count": null,
   "metadata": {},
   "outputs": [],
   "source": [
    "# This is when we use GRF to learn a Diffusion-shaped Kernel\n",
    "\n",
    "walks_per_nodes = [1,2,4,8,16,32,64,128,256,512,1024,2048,4096,8192]\n",
    "grf_metrics = []\n",
    "\n",
    "\n",
    "for walks_per_node in tqdm(walks_per_nodes, desc='Walk lengths'):\n",
    "    # Create the graph kernel with the current walk length\n",
    "    graph_kernel = GraphDiffusionFastGRFKernel(adjacency_matrix,\n",
    "                                               walks_per_node=walks_per_node,\n",
    "                                               p_halt=0.1,\n",
    "                                               max_walk_length=MAX_WALK_LENGTH+1,\n",
    "                                               beta = learned_hyperparameters['beta'],\n",
    "                                               normalize_laplacian=True)\n",
    "    \n",
    "    # model = gpflow.models.GPR(data=(X_train, Y_train), kernel=graph_kernel, mean_function=None,noise_variance=0.01)\n",
    "    # model = configure_model(model, learned_hyperparameters)\n",
    "    # mean, stddev = gp_inference(model, X_full)\n",
    "    model, mean, stddev = gp_training(X_train, Y_train, X_full, graph_kernel)\n",
    "    train_likelihood, l2_error, test_likelihood = evaluate(model, x_test, y_test, quiet=True)\n",
    "    results = {'walks_per_node': walks_per_node,\n",
    "                'train_likelihood': train_likelihood,\n",
    "                'l2_error': l2_error,\n",
    "                'test_likelihood': test_likelihood}\n",
    "    grf_metrics.append(results)\n"
   ]
  },
  {
   "cell_type": "code",
   "execution_count": null,
   "metadata": {},
   "outputs": [],
   "source": [
    "walks_per_nodes = [1,2,4,8,16,32,64,128,256,512,1024,2048,4096,8192]\n",
    "a_grf_metrics = []\n",
    "\n",
    "\n",
    "for walks_per_node in tqdm(walks_per_nodes, desc='Walk lengths'):\n",
    "    # Create the graph kernel with the current walk length\n",
    "    graph_kernel = GraphGeneralFastGRFKernel(adjacency_matrix,\n",
    "                                             walks_per_node=walks_per_node,\n",
    "                                             p_halt=0.1,\n",
    "                                             max_walk_length=MAX_WALK_LENGTH,\n",
    "                                             modulator_vector=None) # Randomly initialize the modulator vector\n",
    "    \n",
    "    model, mean, stddev = gp_training(X_train, Y_train, X_full, graph_kernel)\n",
    "    train_likelihood, l2_error, test_likelihood = evaluate(model, x_test, y_test, quiet=True)\n",
    "    results = {'walks_per_node': walks_per_node,\n",
    "                'train_likelihood': train_likelihood,\n",
    "                'l2_error': l2_error,\n",
    "                'test_likelihood': test_likelihood}\n",
    "    a_grf_metrics.append(results)\n"
   ]
  },
  {
   "cell_type": "code",
   "execution_count": null,
   "metadata": {},
   "outputs": [],
   "source": [
    "sns.set(style=\"whitegrid\")\n",
    "\n",
    "# Define color palette\n",
    "palette = sns.color_palette(\"colorblind\", n_colors=4)\n",
    "color_diffusion = palette[0]  # Shared color for GRF Diff & PoFM Diff\n",
    "color_arbitrary = palette[1]  # Shared color for GRF Arb & PoFM Arb\n",
    "color_reasonable = palette[2]  # Diffusion reasonable length scale\n",
    "color_large = palette[3]  # Diffusion very large length scale\n",
    "\n",
    "plt.figure(figsize=(8, 6))\n",
    "\n",
    "# Plot GRF curves\n",
    "plt.plot(walkers_grf, l2_errors_grf, marker='o', linestyle='-', color=color_diffusion,\n",
    "         label='GRF L2 Error (Diffusion Shape Kernel)')\n",
    "plt.plot(walkers_a_grf, l2_errors_a_grf, marker='o', linestyle='-', color=color_arbitrary,\n",
    "         label='GRF L2 Error (Arbitrary Kernel)')\n",
    "\n",
    "# Plot PoFM horizontal lines with matching colors\n",
    "plt.axhline(y=pofm_l2_error, color=color_diffusion, linestyle='--',\n",
    "            label='PoFM L2 Error (Diffusion Shape Kernel)')\n",
    "plt.axhline(y=g_pofm_l2_error, color=color_arbitrary, linestyle='--',\n",
    "            label='PoFM L2 Error (Arbitrary Kernel)')\n",
    "\n",
    "# Diffusion horizontal lines\n",
    "plt.axhline(y=diffusion_l2_error, color=color_reasonable, linestyle='--',\n",
    "            label='Diffusion L2 Error (Reasonable Length Scale)')\n",
    "plt.axhline(y=o_diffusion_l2_error, color=color_large, linestyle='--',\n",
    "            label='Diffusion L2 Error (Very Large Length Scale)')\n",
    "\n",
    "# Labels and formatting\n",
    "plt.xlabel('Number of Walkers')\n",
    "plt.xscale('log')\n",
    "plt.ylabel('L2 Error')\n",
    "plt.yscale('log')\n",
    "plt.title('L2 Error vs Number of Walkers')\n",
    "\n",
    "plt.legend()\n",
    "plt.grid(True)\n",
    "plt.show()"
   ]
  },
  {
   "cell_type": "markdown",
   "metadata": {},
   "source": [
    "## 3. Performance of the GRF Approximated Diffusion Kernel\n",
    "\n",
    "Takes roughly 20 mins to run"
   ]
  },
  {
   "cell_type": "markdown",
   "metadata": {},
   "source": [
    "### 3.1 Track the Convergence of the Gram Matrix"
   ]
  },
  {
   "cell_type": "code",
   "execution_count": null,
   "metadata": {},
   "outputs": [],
   "source": [
    "# Define the range of walk lengths\n",
    "walks_per_nodes = [1,2,4,8,16,32,64,128,256,512,1024,2048,4096,8192]\n",
    "grf_gram_matrices = []\n",
    "\n",
    "beta_test = learned_hyperparameters['beta']\n",
    "# beta_test = 0.1\n",
    "\n",
    "pofm_kernel = GraphDiffusionPoFMKernel(adjacency_matrix,\n",
    "                                       max_expansion=MAX_WALK_LENGTH,\n",
    "                                       normalize_laplacian=True)\n",
    "\n",
    "gram_pofm = pofm_kernel.compute_diffusion_kernel(adjacency_matrix, beta_test, MAX_WALK_LENGTH) # note sigma_f = 1 is used here\n",
    "\n",
    "for walks_per_node in tqdm(walks_per_nodes, desc='Walk lengths'):\n",
    "    # Create the graph kernel with the current walk length\n",
    "    graph_kernel = GraphDiffusionFastGRFKernel(adjacency_matrix,\n",
    "                                               walks_per_node=walks_per_node,\n",
    "                                               p_halt=0.1,\n",
    "                                               max_walk_length=5+1,\n",
    "                                               normalize_laplacian=True)\n",
    "    grf_gram_matrices.append(graph_kernel.grf_kernel(beta=beta_test, sigma_f=1))"
   ]
  },
  {
   "cell_type": "code",
   "execution_count": null,
   "metadata": {},
   "outputs": [],
   "source": [
    "# Calculate Frobenius norms\n",
    "frobenius_norms = [compute_fro(gram_pofm, grf_gram) for grf_gram in grf_gram_matrices]\n",
    "\n",
    "# Plot Frobenius norm vs. Number of Walkers\n",
    "plt.figure(figsize=(8, 6))\n",
    "plt.plot(walks_per_nodes, frobenius_norms, marker='o', linestyle='-', color='b')\n",
    "plt.xlabel('Number of Walkers')\n",
    "plt.xscale('log')\n",
    "plt.ylabel('Frobenius Norm')\n",
    "plt.yscale('log')\n",
    "plt.title('Frobenius Norm vs Number of Walkers')\n",
    "plt.grid(True)\n",
    "plt.show()"
   ]
  },
  {
   "cell_type": "markdown",
   "metadata": {},
   "source": [
    "### 3.2 Track the Convergence of L2 Error"
   ]
  },
  {
   "cell_type": "code",
   "execution_count": null,
   "metadata": {},
   "outputs": [],
   "source": [
    "walks_per_nodes = [1,2,4,8,16,32,64,128,256,512,1024,2048,4096,8192]\n",
    "grf_metrics = []\n",
    "\n",
    "\n",
    "for walks_per_node in tqdm(walks_per_nodes, desc='Walk lengths'):\n",
    "    # Create the graph kernel with the current walk length\n",
    "    graph_kernel = GraphDiffusionFastGRFKernel(adjacency_matrix,\n",
    "                                               walks_per_node=walks_per_node,\n",
    "                                               p_halt=0.1,\n",
    "                                               max_walk_length=MAX_WALK_LENGTH+1,\n",
    "                                               beta = learned_hyperparameters['beta'],\n",
    "                                               normalize_laplacian=True)\n",
    "    \n",
    "    model = gpflow.models.GPR(data=(X_train, Y_train), kernel=graph_kernel, mean_function=None,noise_variance=0.01)\n",
    "    model = configure_model(model, learned_hyperparameters)\n",
    "    mean, stddev = gp_inference(model, X_full)\n",
    "    train_likelihood, l2_error, test_likelihood = evaluate(model, x_test, y_test, quiet=True)\n",
    "    results = {'walks_per_node': walks_per_node,\n",
    "                'train_likelihood': train_likelihood,\n",
    "                'l2_error': l2_error,\n",
    "                'test_likelihood': test_likelihood}\n",
    "    grf_metrics.append(results)\n"
   ]
  },
  {
   "cell_type": "code",
   "execution_count": null,
   "metadata": {},
   "outputs": [],
   "source": [
    "# Extract the number of walkers and corresponding L2 errors from grf_metrics\n",
    "walkers = [metric['walks_per_node'] for metric in grf_metrics]\n",
    "l2_errors = [metric['l2_error'] for metric in grf_metrics]\n",
    "\n",
    "# Plot the L2 error vs. number of walkers\n",
    "plt.figure(figsize=(8, 6))\n",
    "plt.plot(walkers, l2_errors, marker='o', linestyle='-', color='b', label='GRF L2 Error')\n",
    "plt.axhline(y=diffusion_l2_error, color='r', linestyle='--', label='Exact Diffusion L2 Error')\n",
    "plt.axhline(y=pofm_l2_error, color='g', linestyle='--', label='PoFM L2 Error')\n",
    "plt.xlabel('Number of Walkers')\n",
    "plt.xscale('log')\n",
    "plt.ylabel('L2 Error')\n",
    "plt.yscale('log')\n",
    "plt.title('L2 Error vs Number of Walkers')\n",
    "plt.legend()\n",
    "plt.grid(True)\n",
    "plt.show()"
   ]
  },
  {
   "cell_type": "markdown",
   "metadata": {},
   "source": [
    "## 4. Performance of the GRF-based non-Diffusion Kernel (with Arbitrary Modulation Function)\n",
    "\n",
    "We can learn a broader family of graph kernel with arbitrary modulation function, in our example we got better l2 error."
   ]
  },
  {
   "cell_type": "markdown",
   "metadata": {},
   "source": [
    "### 4.1 First Learn the Hyperparamters for Arbitrary Modulation Functions"
   ]
  },
  {
   "cell_type": "code",
   "execution_count": null,
   "metadata": {},
   "outputs": [],
   "source": [
    "# The normalized laplacian is used\n",
    "graph_kernel = GraphGeneralPoFMKernel(adjacency_matrix,\n",
    "                                      max_walk_length=MAX_WALK_LENGTH,\n",
    "                                      normalize_laplacian=True) # note a random initialization of modulation function is used.\n",
    "\n",
    "model, mean, stddev = gp_training(X_train, Y_train, X_full, graph_kernel)\n",
    "print_summary(model)"
   ]
  },
  {
   "cell_type": "code",
   "execution_count": null,
   "metadata": {},
   "outputs": [],
   "source": [
    "g_pofm_train_likelihood, g_pofm_l2_error, g_pofm_test_likelihood = evaluate(model, x_test, y_test)"
   ]
  },
  {
   "cell_type": "code",
   "execution_count": null,
   "metadata": {},
   "outputs": [],
   "source": [
    "g_learned_hyperparameters = {\n",
    "    \"modulator_vector\": model.kernel.modulator_vector.numpy(),\n",
    "    \"variance\": model.likelihood.variance.numpy()\n",
    "}\n",
    "\n",
    "g_learned_hyperparameters[\"modulator_vector\"]"
   ]
  },
  {
   "cell_type": "markdown",
   "metadata": {},
   "source": [
    "### 4.2 (Opt) Compare with the actual modulation function learned with diffusion kernel"
   ]
  },
  {
   "cell_type": "code",
   "execution_count": null,
   "metadata": {},
   "outputs": [],
   "source": [
    "sample_beta = 2.87312 \n",
    "sample_sigma_f = 1.51095\n",
    "\n",
    "def diffusion_modulator_np(length: np.ndarray, beta: float) -> np.ndarray:\n",
    "    length = length.astype(np.float64)\n",
    "    beta = np.float64(beta)  # Ensure beta is a float\n",
    "    two = np.float64(2.0)\n",
    "    \n",
    "    # Compute numerator safely\n",
    "    numerator = np.power(np.abs(beta), length) * (-1) ** length  \n",
    "    denominator = np.power(two, length) * np.exp(scipy.special.gammaln(length + 1.0))\n",
    "    \n",
    "    return numerator / denominator\n",
    "\n",
    "# Compute the diffusion modulator vector\n",
    "example_diffusion_modulator_vector = (\n",
    "    sample_sigma_f**2 * diffusion_modulator_np(\n",
    "        length=np.arange(MAX_WALK_LENGTH),  # Generate length array\n",
    "        beta=sample_beta  # Pass scalar beta\n",
    "    )\n",
    ")\n",
    "\n",
    "example_diffusion_modulator_vector"
   ]
  },
  {
   "cell_type": "markdown",
   "metadata": {},
   "source": [
    "### 4.3 Performance of the GRF-Approximated Kernel"
   ]
  },
  {
   "cell_type": "markdown",
   "metadata": {},
   "source": [
    "#### 4.3.1 Gram Matrices"
   ]
  },
  {
   "cell_type": "code",
   "execution_count": null,
   "metadata": {},
   "outputs": [],
   "source": [
    "# Define the range of walk lengths\n",
    "walks_per_nodes = [1,2,4,8,16,32,64,128,256,512,1024,2048,4096,8192,16384,32768]\n",
    "grf_gram_matrices = []\n",
    "\n",
    "# beta_test = 0.1\n",
    "\n",
    "pofm_kernel = GraphGeneralPoFMKernel(adjacency_matrix,\n",
    "                                      max_walk_length=MAX_WALK_LENGTH,\n",
    "                                      normalize_laplacian=True) # note a random initialization of modulation function is used.\n",
    "\n",
    "\n",
    "gram_pofm = pofm_kernel.pofm_kernel(modulator_vector=g_learned_hyperparameters[\"modulator_vector\"])\n",
    "\n",
    "for walks_per_node in tqdm(walks_per_nodes, desc='Walk lengths'):\n",
    "    # Create the graph kernel with the current walk length\n",
    "    graph_kernel = GraphGeneralFastGRFKernel(adjacency_matrix,\n",
    "                                             walks_per_node=walks_per_node,\n",
    "                                             p_halt=0.1,\n",
    "                                             max_walk_length=MAX_WALK_LENGTH,\n",
    "                                             modulator_vector=g_learned_hyperparameters[\"modulator_vector\"])\n",
    "    grf_gram_matrices.append(graph_kernel.grf_kernel(modulator_vector=g_learned_hyperparameters[\"modulator_vector\"]))"
   ]
  },
  {
   "cell_type": "code",
   "execution_count": null,
   "metadata": {},
   "outputs": [],
   "source": [
    "# Calculate Frobenius norms\n",
    "frobenius_norms = [compute_fro(gram_pofm, grf_gram) for grf_gram in grf_gram_matrices]\n",
    "\n",
    "# Plot Frobenius norm vs. Number of Walkers\n",
    "plt.figure(figsize=(8, 6))\n",
    "plt.plot(walks_per_nodes, frobenius_norms, marker='o', linestyle='-', color='b')\n",
    "plt.xlabel('Number of Walkers')\n",
    "plt.xscale('log')\n",
    "plt.ylabel('Frobenius Norm')\n",
    "plt.yscale('log')\n",
    "plt.title('Frobenius Norm vs Number of Walkers')\n",
    "plt.grid(True)\n",
    "plt.show()"
   ]
  },
  {
   "cell_type": "code",
   "execution_count": null,
   "metadata": {},
   "outputs": [],
   "source": [
    "gram_pofm"
   ]
  },
  {
   "cell_type": "code",
   "execution_count": null,
   "metadata": {},
   "outputs": [],
   "source": [
    "grf_gram_matrices[-1]"
   ]
  },
  {
   "cell_type": "markdown",
   "metadata": {},
   "source": [
    "#### 4.3.2 L2 Error"
   ]
  },
  {
   "cell_type": "code",
   "execution_count": null,
   "metadata": {},
   "outputs": [],
   "source": [
    "walks_per_nodes = [1,2,4,8,16,32,64,128,256,512,1024,2048,4096,8192,16384,32768]\n",
    "grf_metrics = []\n",
    "\n",
    "\n",
    "for walks_per_node in tqdm(walks_per_nodes, desc='Walk lengths'):\n",
    "    # Create the graph kernel with the current walk length\n",
    "    graph_kernel = GraphGeneralFastGRFKernel(adjacency_matrix,\n",
    "                                             walks_per_node=walks_per_node,\n",
    "                                             p_halt=0.1,\n",
    "                                             max_walk_length=MAX_WALK_LENGTH,\n",
    "                                             modulator_vector=g_learned_hyperparameters[\"modulator_vector\"])\n",
    "    \n",
    "    model = gpflow.models.GPR(data=(X_train, Y_train), kernel=graph_kernel, mean_function=None,noise_variance=0.01)\n",
    "    model = configure_model_general(model, g_learned_hyperparameters)\n",
    "    mean, stddev = gp_inference(model, X_full)\n",
    "    train_likelihood, l2_error, test_likelihood = evaluate(model, x_test, y_test, quiet=True)\n",
    "    results = {'walks_per_node': walks_per_node,\n",
    "                'train_likelihood': train_likelihood,\n",
    "                'l2_error': l2_error,\n",
    "                'test_likelihood': test_likelihood}\n",
    "    grf_metrics.append(results)\n"
   ]
  },
  {
   "cell_type": "code",
   "execution_count": null,
   "metadata": {},
   "outputs": [],
   "source": [
    "# Extract the number of walkers and corresponding L2 errors from grf_metrics\n",
    "walkers = [metric['walks_per_node'] for metric in grf_metrics]\n",
    "l2_errors = [metric['l2_error'] for metric in grf_metrics]\n",
    "\n",
    "# Plot the L2 error vs. number of walkers\n",
    "plt.figure(figsize=(8, 6))\n",
    "plt.plot(walkers, l2_errors, marker='o', linestyle='-', color='b', label='GRF L2 Error (General)')\n",
    "plt.axhline(y=g_pofm_l2_error, color='g', linestyle='--', label='PoFM L2 Error (General)')\n",
    "plt.xlabel('Number of Walkers')\n",
    "plt.xscale('log')\n",
    "plt.ylabel('L2 Error')\n",
    "plt.yscale('log')\n",
    "plt.title('L2 Error vs Number of Walkers')\n",
    "plt.legend()\n",
    "plt.grid(True)\n",
    "plt.show()"
   ]
  },
  {
   "cell_type": "markdown",
   "metadata": {},
   "source": [
    "## 5. Next Steps: Learn the Hyperparamter with GRF\n",
    "\n",
    "\n",
    "Using GRF to learn hyperparam:\n",
    "1. in practice use GRF for everything - yes\n",
    "2. PoFM: best possible hyperparam with infinite number of walks - yes\n",
    "3. we expect GRF to learn smaller beta (designed for smaller number of walks) - yes\n",
    "4. rethink the samping destribution - doing "
   ]
  },
  {
   "cell_type": "code",
   "execution_count": null,
   "metadata": {},
   "outputs": [],
   "source": []
  }
 ],
 "metadata": {
  "kernelspec": {
   "display_name": "venv",
   "language": "python",
   "name": "python3"
  },
  "language_info": {
   "codemirror_mode": {
    "name": "ipython",
    "version": 3
   },
   "file_extension": ".py",
   "mimetype": "text/x-python",
   "name": "python",
   "nbconvert_exporter": "python",
   "pygments_lexer": "ipython3",
   "version": "3.11.5"
  }
 },
 "nbformat": 4,
 "nbformat_minor": 1
}
