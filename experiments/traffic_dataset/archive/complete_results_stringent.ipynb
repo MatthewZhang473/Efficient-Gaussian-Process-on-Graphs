{
 "cells": [
  {
   "cell_type": "markdown",
   "metadata": {},
   "source": [
    "# Result Replication in for the paper 'Matern GP on Graphs'\n",
    "\n",
    "This notebook we summarizes the most important results, i.e.\n",
    "\n",
    "1. A summary of the performance reached with each model\n",
    "2. Reached the reported accuracy in the paper with exact diffusion kernel (normalized / unnormalized laplacian)\n",
    "3. Reached similar level of accuracy with the GRF kernel (showing exact diffusion / PoFM / GRF with different walkers)\n",
    "   1. showing via gram matrix \n",
    "   2. showing via l2 error / log marginal likelihood\n",
    "4. Showed superior performance when learning with arbitrary kernel (with PoFM / GRF with different walkers)\n",
    "\n",
    "(note that for later we will simply refer PoFM as GRF with infinite walkers, instead of analysing separately)\n"
   ]
  },
  {
   "cell_type": "markdown",
   "metadata": {},
   "source": [
    "## Setup Dependencies and Load the Datasets"
   ]
  },
  {
   "cell_type": "code",
   "execution_count": 1,
   "metadata": {},
   "outputs": [],
   "source": [
    "import tensorflow as tf\n",
    "import numpy as np\n",
    "import gpflow\n",
    "import matplotlib.pyplot as plt\n",
    "import ipywidgets as widgets\n",
    "from IPython.display import display, clear_output\n",
    "import networkx as nx\n",
    "from gpflow.utilities import print_summary\n",
    "import tensorflow_probability as tfp\n",
    "import seaborn as sns"
   ]
  },
  {
   "cell_type": "code",
   "execution_count": 2,
   "metadata": {},
   "outputs": [],
   "source": [
    "import sys\n",
    "import os\n",
    "project_root = os.path.abspath(\"../..\")\n",
    "sys.path.append(project_root)"
   ]
  },
  {
   "cell_type": "code",
   "execution_count": 3,
   "metadata": {},
   "outputs": [],
   "source": [
    "from efficient_graph_gp.graph_kernels import diffusion_kernel, get_normalized_laplacian, generate_noisy_samples\n",
    "from efficient_graph_gp.gpflow_kernels import GraphDiffusionKernel, GraphDiffusionFastGRFKernel, GraphDiffusionPoFMKernel\n",
    "from utils import plot_network_graph, plot_gp_fit, compute_fro"
   ]
  },
  {
   "cell_type": "code",
   "execution_count": 4,
   "metadata": {},
   "outputs": [],
   "source": [
    "from traffic_utils.preprocessing import load_PEMS\n",
    "from traffic_utils.plotting import plot_PEMS"
   ]
  },
  {
   "cell_type": "code",
   "execution_count": 5,
   "metadata": {},
   "outputs": [],
   "source": [
    "dtype = tf.float64\n",
    "gpflow.config.set_default_float(dtype)\n",
    "gpflow.config.set_default_summary_fmt(\"notebook\")"
   ]
  },
  {
   "cell_type": "markdown",
   "metadata": {},
   "source": [
    "### Load and preprocess the PEMS dataset\n",
    "The nasty details of the dataset preparation are hidden away in `preprocessing` module."
   ]
  },
  {
   "cell_type": "code",
   "execution_count": 6,
   "metadata": {},
   "outputs": [],
   "source": [
    "np.random.seed(1111)\n",
    "num_eigenpairs = 500\n",
    "dataset = 'PeMS-Bay-new'\n",
    "num_train = 250"
   ]
  },
  {
   "cell_type": "code",
   "execution_count": 7,
   "metadata": {},
   "outputs": [
    {
     "name": "stderr",
     "output_type": "stream",
     "text": [
      "/Users/matthew/Documents/Efficient Gaussian Process on Graphs/Efficient_Gaussian_Process_On_Graphs/experiments/traffic_dataset/traffic_utils/preprocessing.py:90: UserWarning: Unpickling a shapely <2.0 geometry object. Please save the pickle again; shapely 2.1 will not have this compatibility.\n",
      "  G = pickle.load(f)\n"
     ]
    },
    {
     "name": "stdout",
     "output_type": "stream",
     "text": [
      "epsg:4326\n"
     ]
    },
    {
     "name": "stderr",
     "output_type": "stream",
     "text": [
      "/Users/matthew/Documents/Efficient Gaussian Process on Graphs/Efficient_Gaussian_Process_On_Graphs/venv/lib/python3.11/site-packages/osmnx/convert.py:381: FutureWarning: <class 'geopandas.array.GeometryArray'>._reduce will require a `keepdims` parameter in the future\n",
      "  dupes = edges[mask].dropna(subset=[\"geometry\"])\n"
     ]
    }
   ],
   "source": [
    "# Load and preprocess the data\n",
    "G, data_train, data_test, data = load_PEMS(num_train=num_train)\n",
    "x_train, y_train = data_train\n",
    "x_test, y_test = data_test\n",
    "x, y = data\n",
    "orig_mean, orig_std = np.mean(y_train), np.std(y_train)\n",
    "y_train = (y_train-orig_mean)/orig_std\n",
    "y_test = (y_test-orig_mean)/orig_std\n",
    "\n",
    "# Renaming the train / test data\n",
    "\n",
    "X_train = tf.convert_to_tensor(x_train)\n",
    "X_full = tf.convert_to_tensor(x)\n",
    "Y_train = tf.convert_to_tensor(y_train)"
   ]
  },
  {
   "cell_type": "code",
   "execution_count": 8,
   "metadata": {},
   "outputs": [
    {
     "name": "stdout",
     "output_type": "stream",
     "text": [
      "(1016, 1016)\n"
     ]
    }
   ],
   "source": [
    "adjacency_matrix = nx.to_numpy_array(G)  # Converts to NumPy adjacency matrix\n",
    "print(adjacency_matrix.shape)  # Check matrix size"
   ]
  },
  {
   "cell_type": "code",
   "execution_count": 9,
   "metadata": {},
   "outputs": [],
   "source": [
    "def gp_training(X,Y,X_new, graph_kernel):\n",
    "    model = gpflow.models.GPR(data=(X, Y), kernel=graph_kernel, mean_function=None,noise_variance=0.01)\n",
    "    \n",
    "    # Explicitly set dtype to float32\n",
    "    dtype = tf.float64\n",
    "    # Assign Uniform prior with explicitly cast float32 values\n",
    "    model.kernel.beta.prior = tfp.distributions.Uniform(\n",
    "        low=tf.constant(0.0, dtype=dtype), \n",
    "        high=tf.constant(2.0, dtype=dtype)\n",
    "    )\n",
    "    \n",
    "    gpflow.optimizers.Scipy().minimize(model.training_loss, model.trainable_variables)\n",
    "    mean, variance = model.predict_f(X_new)\n",
    "    stddev = tf.sqrt(variance)\n",
    "    return model, mean, stddev\n",
    "\n",
    "def gp_inference(model, X_new):\n",
    "    mean, variance = model.predict_f(X_new)\n",
    "    stddev = tf.sqrt(variance)\n",
    "    return mean, stddev"
   ]
  },
  {
   "cell_type": "markdown",
   "metadata": {},
   "source": [
    "## Performance Summary"
   ]
  },
  {
   "cell_type": "markdown",
   "metadata": {},
   "source": [
    "TBC"
   ]
  },
  {
   "cell_type": "markdown",
   "metadata": {},
   "source": [
    "## Performance of the exact Diffusion Kernel"
   ]
  },
  {
   "cell_type": "code",
   "execution_count": 12,
   "metadata": {},
   "outputs": [
    {
     "data": {
      "text/html": [
       "<table>\n",
       "<thead>\n",
       "<tr><th>name                   </th><th>class    </th><th>transform       </th><th>prior  </th><th>trainable  </th><th>shape  </th><th>dtype  </th><th style=\"text-align: right;\">   value</th></tr>\n",
       "</thead>\n",
       "<tbody>\n",
       "<tr><td>GPR.kernel.beta        </td><td>Parameter</td><td>Softplus        </td><td>Uniform</td><td>True       </td><td>()     </td><td>float64</td><td style=\"text-align: right;\">1.46909 </td></tr>\n",
       "<tr><td>GPR.kernel.sigma_f     </td><td>Parameter</td><td>Softplus        </td><td>       </td><td>True       </td><td>()     </td><td>float64</td><td style=\"text-align: right;\">1.27083 </td></tr>\n",
       "<tr><td>GPR.likelihood.variance</td><td>Parameter</td><td>Softplus + Shift</td><td>       </td><td>True       </td><td>()     </td><td>float64</td><td style=\"text-align: right;\">0.101582</td></tr>\n",
       "</tbody>\n",
       "</table>"
      ],
      "text/plain": [
       "<IPython.core.display.HTML object>"
      ]
     },
     "metadata": {},
     "output_type": "display_data"
    }
   ],
   "source": [
    "graph_kernel = GraphDiffusionKernel(adjacency_matrix, normalize_laplacian=True)\n",
    "model, mean, stddev = gp_training(X_train, Y_train, X_full, graph_kernel)\n",
    "print_summary(model)"
   ]
  },
  {
   "cell_type": "code",
   "execution_count": 13,
   "metadata": {},
   "outputs": [
    {
     "name": "stdout",
     "output_type": "stream",
     "text": [
      "Determinant of the covariance matrix: 2.0683296778312976e-21\n"
     ]
    }
   ],
   "source": [
    "gram_matrix_diffusion = graph_kernel.K(X_full).numpy()\n",
    "det = np.linalg.det(gram_matrix_diffusion)\n",
    "print('Determinant of the covariance matrix:', det)"
   ]
  },
  {
   "cell_type": "code",
   "execution_count": 14,
   "metadata": {},
   "outputs": [
    {
     "name": "stdout",
     "output_type": "stream",
     "text": [
      "(Train) Log marginal likelihood: -349.57144280424393\n",
      "(Test) Relative l2 error is 1.8137098353292072\n",
      "(Test) Log marginal likelihood:  -98.64286791042983\n"
     ]
    }
   ],
   "source": [
    "print(f'(Train) Log marginal likelihood: {model.log_marginal_likelihood()}')\n",
    "\n",
    "mean, cov = model.predict_f(x_test, full_cov=True)\n",
    "\n",
    "l2_error = orig_std * np.linalg.norm(y_test.ravel() - mean.numpy().ravel()) / len(y_test.ravel())\n",
    "print(\"(Test) Relative l2 error is {}\".format(l2_error))\n",
    "\n",
    "mean, cov = tf.reshape(mean, [-1]), cov[0]\n",
    "cov = cov + tf.linalg.diag(tf.fill([len(y_test)], model.likelihood.variance))\n",
    "dist = tfp.distributions.MultivariateNormalTriL(mean, cov)\n",
    "likelihood = dist.log_prob(tf.reshape(y_test, [-1])).numpy()\n",
    "print(f\"(Test) Log marginal likelihood:  {likelihood}\")"
   ]
  },
  {
   "cell_type": "markdown",
   "metadata": {},
   "source": [
    "## Sanity Check: Gram Matrix\n",
    "\n",
    "Here, we parameterise the GRF Kernels with the best hyperparam learned for diffusion kernel, and check the gram matrices."
   ]
  },
  {
   "cell_type": "code",
   "execution_count": 10,
   "metadata": {},
   "outputs": [],
   "source": [
    "WALKS_PER_NODE = 1000\n",
    "P_HALT = 0.1\n",
    "MAX_WALK_LENGTH = 2\n",
    "SIGMA = 1"
   ]
  },
  {
   "cell_type": "code",
   "execution_count": 11,
   "metadata": {},
   "outputs": [
    {
     "ename": "NameError",
     "evalue": "name 'model' is not defined",
     "output_type": "error",
     "traceback": [
      "\u001b[0;31m---------------------------------------------------------------------------\u001b[0m",
      "\u001b[0;31mNameError\u001b[0m                                 Traceback (most recent call last)",
      "Cell \u001b[0;32mIn[11], line 2\u001b[0m\n\u001b[1;32m      1\u001b[0m diffusion_learned_hyperparams \u001b[38;5;241m=\u001b[39m {\n\u001b[0;32m----> 2\u001b[0m     \u001b[38;5;124m'\u001b[39m\u001b[38;5;124mbeta\u001b[39m\u001b[38;5;124m'\u001b[39m: \u001b[43mmodel\u001b[49m\u001b[38;5;241m.\u001b[39mkernel\u001b[38;5;241m.\u001b[39mbeta\u001b[38;5;241m.\u001b[39mnumpy(),\n\u001b[1;32m      3\u001b[0m     \u001b[38;5;124m'\u001b[39m\u001b[38;5;124msigma_f\u001b[39m\u001b[38;5;124m'\u001b[39m: model\u001b[38;5;241m.\u001b[39mkernel\u001b[38;5;241m.\u001b[39msigma_f\u001b[38;5;241m.\u001b[39mnumpy(),\n\u001b[1;32m      4\u001b[0m     \u001b[38;5;124m'\u001b[39m\u001b[38;5;124mvariance\u001b[39m\u001b[38;5;124m'\u001b[39m: model\u001b[38;5;241m.\u001b[39mlikelihood\u001b[38;5;241m.\u001b[39mvariance\u001b[38;5;241m.\u001b[39mnumpy()\n\u001b[1;32m      5\u001b[0m }\n",
      "\u001b[0;31mNameError\u001b[0m: name 'model' is not defined"
     ]
    }
   ],
   "source": [
    "diffusion_learned_hyperparams = {\n",
    "    'beta': model.kernel.beta.numpy(),\n",
    "    'sigma_f': model.kernel.sigma_f.numpy(),\n",
    "    'variance': model.likelihood.variance.numpy()\n",
    "}"
   ]
  },
  {
   "cell_type": "code",
   "execution_count": 32,
   "metadata": {},
   "outputs": [],
   "source": [
    "fros = []\n",
    "\n",
    "# Do it for the PoFM kernel\n",
    "graph_kernel = GraphDiffusionPoFMKernel(adjacency_matrix,\n",
    "                                        max_expansion=MAX_WALK_LENGTH,\n",
    "                                        normalize_laplacian=True)\n",
    "model = gpflow.models.GPR(data=(X_train, Y_train), kernel=graph_kernel, mean_function=None, noise_variance=0.01)\n",
    "# model.kernel.beta.assign(diffusion_learned_hyperparams['beta'])\n",
    "model.kernel.beta.assign(0.1)\n",
    "# model.kernel.sigma_f.assign(diffusion_learned_hyperparams['sigma_f'])\n",
    "# model.likelihood.variance.assign(diffusion_learned_hyperparams['variance'])\n",
    "   \n",
    "gram_matrix_pofm = graph_kernel.K(X_full).numpy()\n",
    "# fro = compute_fro(gram_matrix_diffusion, gram_matrix_pofm)\n",
    "# fros.append({'walks_per_node': 'PoFM', 'fro': fro})\n",
    "\n",
    "for walks_per_node in [1,2,4,8,16,32,64,128,256]:\n",
    "    # Create a new GraphDiffusionFastGRFKernel with the current walks_per_node\n",
    "    graph_kernel = GraphDiffusionFastGRFKernel(adjacency_matrix,\n",
    "                                               walks_per_node=walks_per_node,\n",
    "                                               p_halt=P_HALT,\n",
    "                                               max_walk_length=MAX_WALK_LENGTH+1,\n",
    "                                               normalize_laplacian=True)\n",
    "    \n",
    "    # Train the GP model\n",
    "    model = gpflow.models.GPR(data=(X_train, Y_train), kernel=graph_kernel, mean_function=None, noise_variance=0.01)\n",
    "    # model.kernel.beta.assign(diffusion_learned_hyperparams['beta'])\n",
    "    model.kernel.beta.assign(0.1)\n",
    "    # model.kernel.sigma_f.assign(diffusion_learned_hyperparams['sigma_f'])\n",
    "    # model.likelihood.variance.assign(diffusion_learned_hyperparams['variance'])\n",
    "    \n",
    "    gram_matrix_grf = graph_kernel.K(X_full).numpy()\n",
    "    fro = compute_fro(gram_matrix_pofm, gram_matrix_grf)\n",
    "    fros.append({'walks_per_node': walks_per_node, 'fro': fro})\n",
    "    \n"
   ]
  },
  {
   "cell_type": "code",
   "execution_count": null,
   "metadata": {},
   "outputs": [],
   "source": []
  },
  {
   "cell_type": "code",
   "execution_count": 86,
   "metadata": {},
   "outputs": [
    {
     "name": "stdout",
     "output_type": "stream",
     "text": [
      "[[0. 1. 0. 0.]\n",
      " [1. 0. 1. 0.]\n",
      " [0. 1. 0. 0.]\n",
      " [0. 0. 0. 0.]]\n"
     ]
    }
   ],
   "source": [
    "import numpy as np\n",
    "import networkx as nx\n",
    "\n",
    "# Generate a random graph with 10 nodes\n",
    "random_graph = nx.erdos_renyi_graph(n=4, p=0.5)\n",
    "\n",
    "# Get the adjacency matrix of the random graph\n",
    "random_adjacency_matrix = nx.to_numpy_array(random_graph)\n",
    "\n",
    "print(random_adjacency_matrix)"
   ]
  },
  {
   "cell_type": "code",
   "execution_count": 109,
   "metadata": {},
   "outputs": [],
   "source": [
    "MAX_WALK_LENGTH = 5"
   ]
  },
  {
   "cell_type": "code",
   "execution_count": 110,
   "metadata": {},
   "outputs": [
    {
     "data": {
      "text/plain": [
       "array([[0.90719213, 0.06379309, 0.00226272, 0.        ],\n",
       "       [0.06379309, 0.90933186, 0.06432761, 0.        ],\n",
       "       [0.00226272, 0.06432761, 0.90742719, 0.        ],\n",
       "       [0.        , 0.        , 0.        , 0.90495838]])"
      ]
     },
     "execution_count": 110,
     "metadata": {},
     "output_type": "execute_result"
    }
   ],
   "source": [
    "graph_kernel = GraphDiffusionFastGRFKernel(random_adjacency_matrix,\n",
    "                                            walks_per_node=100000,\n",
    "                                            beta=0.1,\n",
    "                                            p_halt=P_HALT,\n",
    "                                            max_walk_length=MAX_WALK_LENGTH+1,\n",
    "                                            normalize_laplacian=True)\n",
    "\n",
    "gram_matrix_grf = graph_kernel.grf_kernel(beta=0.1, sigma_f=1).numpy()\n",
    "\n",
    "# gram_matrix_grf = graph_kernel.K(X_full).numpy()\n",
    "gram_matrix_grf"
   ]
  },
  {
   "cell_type": "code",
   "execution_count": 111,
   "metadata": {},
   "outputs": [
    {
     "data": {
      "text/plain": [
       "array([[0.9071014 , 0.06408836, 0.00226398, 0.        ],\n",
       "       [0.06408836, 0.90936538, 0.06408836, 0.        ],\n",
       "       [0.00226398, 0.06408836, 0.9071014 , 0.        ],\n",
       "       [0.        , 0.        , 0.        , 0.90483742]])"
      ]
     },
     "execution_count": 111,
     "metadata": {},
     "output_type": "execute_result"
    }
   ],
   "source": [
    "graph_kernel = GraphDiffusionPoFMKernel(random_adjacency_matrix,\n",
    "                                        max_expansion=MAX_WALK_LENGTH,\n",
    "                                        normalize_laplacian=True)\n",
    "\n",
    "gram_matrix_pofm = graph_kernel.compute_diffusion_kernel(adj_matrix=random_adjacency_matrix,\n",
    "                                                         beta=0.1, max_expansion=MAX_WALK_LENGTH).numpy()\n",
    "\n",
    "# gram_matrix_grf = graph_kernel.K(X_full).numpy()\n",
    "gram_matrix_pofm"
   ]
  },
  {
   "cell_type": "code",
   "execution_count": 39,
   "metadata": {},
   "outputs": [
    {
     "data": {
      "text/plain": [
       "array([[9.07769361e-01, 0.00000000e+00, 0.00000000e+00, ...,\n",
       "        0.00000000e+00, 0.00000000e+00, 0.00000000e+00],\n",
       "       [0.00000000e+00, 9.07676453e-01, 0.00000000e+00, ...,\n",
       "        0.00000000e+00, 0.00000000e+00, 0.00000000e+00],\n",
       "       [0.00000000e+00, 0.00000000e+00, 9.08562010e-01, ...,\n",
       "        0.00000000e+00, 0.00000000e+00, 0.00000000e+00],\n",
       "       ...,\n",
       "       [0.00000000e+00, 0.00000000e+00, 0.00000000e+00, ...,\n",
       "        9.08056998e-01, 2.07785317e-04, 0.00000000e+00],\n",
       "       [0.00000000e+00, 0.00000000e+00, 0.00000000e+00, ...,\n",
       "        2.07785317e-04, 9.08030836e-01, 0.00000000e+00],\n",
       "       [0.00000000e+00, 0.00000000e+00, 0.00000000e+00, ...,\n",
       "        0.00000000e+00, 0.00000000e+00, 9.06773565e-01]])"
      ]
     },
     "execution_count": 39,
     "metadata": {},
     "output_type": "execute_result"
    }
   ],
   "source": [
    "gram_matrix_pofm"
   ]
  },
  {
   "cell_type": "code",
   "execution_count": 33,
   "metadata": {},
   "outputs": [
    {
     "data": {
      "text/plain": [
       "0.010413896015760473"
      ]
     },
     "execution_count": 33,
     "metadata": {},
     "output_type": "execute_result"
    }
   ],
   "source": [
    "np.sqrt(np.sum((gram_matrix_grf - gram_matrix_pofm)**2 ))/ np.sqrt(np.sum((gram_matrix_pofm)**2 ))"
   ]
  },
  {
   "cell_type": "code",
   "execution_count": 34,
   "metadata": {},
   "outputs": [
    {
     "data": {
      "text/plain": [
       "array([9.14734037e-01, 1.86906046e-05, 5.25690325e-06, 3.83363551e-06,\n",
       "       3.15869054e-08, 2.59913451e-08, 3.01908626e-09, 0.00000000e+00,\n",
       "       0.00000000e+00, 0.00000000e+00, 0.00000000e+00, 0.00000000e+00,\n",
       "       0.00000000e+00, 0.00000000e+00, 0.00000000e+00, 0.00000000e+00,\n",
       "       0.00000000e+00, 0.00000000e+00, 0.00000000e+00, 0.00000000e+00,\n",
       "       0.00000000e+00, 0.00000000e+00, 0.00000000e+00, 0.00000000e+00,\n",
       "       0.00000000e+00, 0.00000000e+00, 0.00000000e+00, 0.00000000e+00,\n",
       "       0.00000000e+00, 0.00000000e+00, 0.00000000e+00, 0.00000000e+00,\n",
       "       0.00000000e+00, 0.00000000e+00, 0.00000000e+00, 0.00000000e+00,\n",
       "       0.00000000e+00, 0.00000000e+00, 0.00000000e+00, 0.00000000e+00,\n",
       "       0.00000000e+00, 0.00000000e+00, 0.00000000e+00, 0.00000000e+00,\n",
       "       0.00000000e+00, 0.00000000e+00, 0.00000000e+00, 0.00000000e+00,\n",
       "       0.00000000e+00, 0.00000000e+00, 0.00000000e+00, 0.00000000e+00,\n",
       "       0.00000000e+00, 0.00000000e+00, 0.00000000e+00, 0.00000000e+00,\n",
       "       0.00000000e+00, 0.00000000e+00, 0.00000000e+00, 0.00000000e+00,\n",
       "       0.00000000e+00, 0.00000000e+00, 0.00000000e+00, 0.00000000e+00,\n",
       "       0.00000000e+00, 0.00000000e+00, 0.00000000e+00, 0.00000000e+00,\n",
       "       0.00000000e+00, 0.00000000e+00, 0.00000000e+00, 0.00000000e+00,\n",
       "       0.00000000e+00, 0.00000000e+00, 0.00000000e+00, 0.00000000e+00,\n",
       "       0.00000000e+00, 0.00000000e+00, 0.00000000e+00, 0.00000000e+00,\n",
       "       0.00000000e+00, 0.00000000e+00, 0.00000000e+00, 0.00000000e+00,\n",
       "       0.00000000e+00, 0.00000000e+00, 0.00000000e+00, 0.00000000e+00,\n",
       "       0.00000000e+00, 0.00000000e+00, 0.00000000e+00, 0.00000000e+00,\n",
       "       0.00000000e+00, 0.00000000e+00, 0.00000000e+00, 0.00000000e+00,\n",
       "       0.00000000e+00, 0.00000000e+00, 0.00000000e+00, 0.00000000e+00,\n",
       "       0.00000000e+00, 0.00000000e+00, 0.00000000e+00, 0.00000000e+00,\n",
       "       0.00000000e+00, 0.00000000e+00, 0.00000000e+00, 0.00000000e+00,\n",
       "       0.00000000e+00, 0.00000000e+00, 0.00000000e+00, 0.00000000e+00,\n",
       "       0.00000000e+00, 0.00000000e+00, 0.00000000e+00, 0.00000000e+00,\n",
       "       0.00000000e+00, 0.00000000e+00, 0.00000000e+00, 0.00000000e+00,\n",
       "       0.00000000e+00, 0.00000000e+00, 0.00000000e+00, 0.00000000e+00,\n",
       "       0.00000000e+00, 0.00000000e+00, 0.00000000e+00, 0.00000000e+00,\n",
       "       0.00000000e+00, 0.00000000e+00, 0.00000000e+00, 0.00000000e+00,\n",
       "       0.00000000e+00, 0.00000000e+00, 0.00000000e+00, 0.00000000e+00,\n",
       "       0.00000000e+00, 0.00000000e+00, 0.00000000e+00, 0.00000000e+00,\n",
       "       0.00000000e+00, 0.00000000e+00, 0.00000000e+00, 0.00000000e+00,\n",
       "       0.00000000e+00, 0.00000000e+00, 0.00000000e+00, 0.00000000e+00,\n",
       "       0.00000000e+00, 0.00000000e+00, 0.00000000e+00, 0.00000000e+00,\n",
       "       0.00000000e+00, 0.00000000e+00, 0.00000000e+00, 0.00000000e+00,\n",
       "       0.00000000e+00, 0.00000000e+00, 0.00000000e+00, 0.00000000e+00,\n",
       "       0.00000000e+00, 0.00000000e+00, 0.00000000e+00, 0.00000000e+00,\n",
       "       0.00000000e+00, 0.00000000e+00, 0.00000000e+00, 0.00000000e+00,\n",
       "       0.00000000e+00, 0.00000000e+00, 0.00000000e+00, 0.00000000e+00,\n",
       "       0.00000000e+00, 0.00000000e+00, 0.00000000e+00, 0.00000000e+00,\n",
       "       0.00000000e+00, 0.00000000e+00, 0.00000000e+00, 0.00000000e+00,\n",
       "       0.00000000e+00, 0.00000000e+00, 0.00000000e+00, 0.00000000e+00,\n",
       "       0.00000000e+00, 0.00000000e+00, 0.00000000e+00, 0.00000000e+00,\n",
       "       0.00000000e+00, 0.00000000e+00, 0.00000000e+00, 0.00000000e+00,\n",
       "       0.00000000e+00, 0.00000000e+00, 0.00000000e+00, 0.00000000e+00,\n",
       "       0.00000000e+00, 0.00000000e+00, 0.00000000e+00, 0.00000000e+00,\n",
       "       0.00000000e+00, 0.00000000e+00, 0.00000000e+00, 0.00000000e+00,\n",
       "       0.00000000e+00, 0.00000000e+00, 0.00000000e+00, 0.00000000e+00,\n",
       "       0.00000000e+00, 0.00000000e+00, 0.00000000e+00, 0.00000000e+00,\n",
       "       0.00000000e+00, 0.00000000e+00, 0.00000000e+00, 0.00000000e+00,\n",
       "       0.00000000e+00, 0.00000000e+00, 0.00000000e+00, 0.00000000e+00,\n",
       "       0.00000000e+00, 0.00000000e+00, 0.00000000e+00, 0.00000000e+00,\n",
       "       0.00000000e+00, 0.00000000e+00, 0.00000000e+00, 0.00000000e+00,\n",
       "       0.00000000e+00, 0.00000000e+00, 0.00000000e+00, 0.00000000e+00,\n",
       "       0.00000000e+00, 0.00000000e+00, 0.00000000e+00, 0.00000000e+00,\n",
       "       0.00000000e+00, 0.00000000e+00, 0.00000000e+00, 0.00000000e+00,\n",
       "       0.00000000e+00, 0.00000000e+00, 0.00000000e+00, 0.00000000e+00,\n",
       "       0.00000000e+00, 0.00000000e+00, 0.00000000e+00, 0.00000000e+00,\n",
       "       0.00000000e+00, 0.00000000e+00, 0.00000000e+00, 0.00000000e+00,\n",
       "       0.00000000e+00, 0.00000000e+00, 0.00000000e+00, 0.00000000e+00,\n",
       "       0.00000000e+00, 0.00000000e+00, 0.00000000e+00, 0.00000000e+00,\n",
       "       0.00000000e+00, 0.00000000e+00, 0.00000000e+00, 0.00000000e+00,\n",
       "       0.00000000e+00, 0.00000000e+00, 0.00000000e+00, 0.00000000e+00,\n",
       "       0.00000000e+00, 0.00000000e+00, 0.00000000e+00, 0.00000000e+00,\n",
       "       0.00000000e+00, 0.00000000e+00, 0.00000000e+00, 0.00000000e+00,\n",
       "       0.00000000e+00, 0.00000000e+00, 0.00000000e+00, 0.00000000e+00,\n",
       "       0.00000000e+00, 0.00000000e+00, 0.00000000e+00, 0.00000000e+00,\n",
       "       0.00000000e+00, 0.00000000e+00, 0.00000000e+00, 0.00000000e+00,\n",
       "       0.00000000e+00, 0.00000000e+00, 0.00000000e+00, 0.00000000e+00,\n",
       "       0.00000000e+00, 0.00000000e+00, 0.00000000e+00, 0.00000000e+00,\n",
       "       0.00000000e+00, 0.00000000e+00, 0.00000000e+00, 0.00000000e+00,\n",
       "       0.00000000e+00, 0.00000000e+00, 0.00000000e+00, 0.00000000e+00,\n",
       "       0.00000000e+00, 0.00000000e+00, 0.00000000e+00, 0.00000000e+00,\n",
       "       0.00000000e+00, 0.00000000e+00, 0.00000000e+00, 0.00000000e+00,\n",
       "       0.00000000e+00, 0.00000000e+00, 0.00000000e+00, 0.00000000e+00,\n",
       "       0.00000000e+00, 0.00000000e+00, 0.00000000e+00, 0.00000000e+00,\n",
       "       0.00000000e+00, 0.00000000e+00, 0.00000000e+00, 0.00000000e+00,\n",
       "       0.00000000e+00])"
      ]
     },
     "execution_count": 34,
     "metadata": {},
     "output_type": "execute_result"
    }
   ],
   "source": [
    "np.sort(gram_matrix_grf[0])[::-1]"
   ]
  },
  {
   "cell_type": "code",
   "execution_count": 35,
   "metadata": {},
   "outputs": [
    {
     "data": {
      "text/plain": [
       "array([9.07769361e-01, 1.89625729e-05, 4.74678632e-06, 3.55984237e-06,\n",
       "       3.35972903e-08, 2.75783609e-08, 4.82082528e-09, 0.00000000e+00,\n",
       "       0.00000000e+00, 0.00000000e+00, 0.00000000e+00, 0.00000000e+00,\n",
       "       0.00000000e+00, 0.00000000e+00, 0.00000000e+00, 0.00000000e+00,\n",
       "       0.00000000e+00, 0.00000000e+00, 0.00000000e+00, 0.00000000e+00,\n",
       "       0.00000000e+00, 0.00000000e+00, 0.00000000e+00, 0.00000000e+00,\n",
       "       0.00000000e+00, 0.00000000e+00, 0.00000000e+00, 0.00000000e+00,\n",
       "       0.00000000e+00, 0.00000000e+00, 0.00000000e+00, 0.00000000e+00,\n",
       "       0.00000000e+00, 0.00000000e+00, 0.00000000e+00, 0.00000000e+00,\n",
       "       0.00000000e+00, 0.00000000e+00, 0.00000000e+00, 0.00000000e+00,\n",
       "       0.00000000e+00, 0.00000000e+00, 0.00000000e+00, 0.00000000e+00,\n",
       "       0.00000000e+00, 0.00000000e+00, 0.00000000e+00, 0.00000000e+00,\n",
       "       0.00000000e+00, 0.00000000e+00, 0.00000000e+00, 0.00000000e+00,\n",
       "       0.00000000e+00, 0.00000000e+00, 0.00000000e+00, 0.00000000e+00,\n",
       "       0.00000000e+00, 0.00000000e+00, 0.00000000e+00, 0.00000000e+00,\n",
       "       0.00000000e+00, 0.00000000e+00, 0.00000000e+00, 0.00000000e+00,\n",
       "       0.00000000e+00, 0.00000000e+00, 0.00000000e+00, 0.00000000e+00,\n",
       "       0.00000000e+00, 0.00000000e+00, 0.00000000e+00, 0.00000000e+00,\n",
       "       0.00000000e+00, 0.00000000e+00, 0.00000000e+00, 0.00000000e+00,\n",
       "       0.00000000e+00, 0.00000000e+00, 0.00000000e+00, 0.00000000e+00,\n",
       "       0.00000000e+00, 0.00000000e+00, 0.00000000e+00, 0.00000000e+00,\n",
       "       0.00000000e+00, 0.00000000e+00, 0.00000000e+00, 0.00000000e+00,\n",
       "       0.00000000e+00, 0.00000000e+00, 0.00000000e+00, 0.00000000e+00,\n",
       "       0.00000000e+00, 0.00000000e+00, 0.00000000e+00, 0.00000000e+00,\n",
       "       0.00000000e+00, 0.00000000e+00, 0.00000000e+00, 0.00000000e+00,\n",
       "       0.00000000e+00, 0.00000000e+00, 0.00000000e+00, 0.00000000e+00,\n",
       "       0.00000000e+00, 0.00000000e+00, 0.00000000e+00, 0.00000000e+00,\n",
       "       0.00000000e+00, 0.00000000e+00, 0.00000000e+00, 0.00000000e+00,\n",
       "       0.00000000e+00, 0.00000000e+00, 0.00000000e+00, 0.00000000e+00,\n",
       "       0.00000000e+00, 0.00000000e+00, 0.00000000e+00, 0.00000000e+00,\n",
       "       0.00000000e+00, 0.00000000e+00, 0.00000000e+00, 0.00000000e+00,\n",
       "       0.00000000e+00, 0.00000000e+00, 0.00000000e+00, 0.00000000e+00,\n",
       "       0.00000000e+00, 0.00000000e+00, 0.00000000e+00, 0.00000000e+00,\n",
       "       0.00000000e+00, 0.00000000e+00, 0.00000000e+00, 0.00000000e+00,\n",
       "       0.00000000e+00, 0.00000000e+00, 0.00000000e+00, 0.00000000e+00,\n",
       "       0.00000000e+00, 0.00000000e+00, 0.00000000e+00, 0.00000000e+00,\n",
       "       0.00000000e+00, 0.00000000e+00, 0.00000000e+00, 0.00000000e+00,\n",
       "       0.00000000e+00, 0.00000000e+00, 0.00000000e+00, 0.00000000e+00,\n",
       "       0.00000000e+00, 0.00000000e+00, 0.00000000e+00, 0.00000000e+00,\n",
       "       0.00000000e+00, 0.00000000e+00, 0.00000000e+00, 0.00000000e+00,\n",
       "       0.00000000e+00, 0.00000000e+00, 0.00000000e+00, 0.00000000e+00,\n",
       "       0.00000000e+00, 0.00000000e+00, 0.00000000e+00, 0.00000000e+00,\n",
       "       0.00000000e+00, 0.00000000e+00, 0.00000000e+00, 0.00000000e+00,\n",
       "       0.00000000e+00, 0.00000000e+00, 0.00000000e+00, 0.00000000e+00,\n",
       "       0.00000000e+00, 0.00000000e+00, 0.00000000e+00, 0.00000000e+00,\n",
       "       0.00000000e+00, 0.00000000e+00, 0.00000000e+00, 0.00000000e+00,\n",
       "       0.00000000e+00, 0.00000000e+00, 0.00000000e+00, 0.00000000e+00,\n",
       "       0.00000000e+00, 0.00000000e+00, 0.00000000e+00, 0.00000000e+00,\n",
       "       0.00000000e+00, 0.00000000e+00, 0.00000000e+00, 0.00000000e+00,\n",
       "       0.00000000e+00, 0.00000000e+00, 0.00000000e+00, 0.00000000e+00,\n",
       "       0.00000000e+00, 0.00000000e+00, 0.00000000e+00, 0.00000000e+00,\n",
       "       0.00000000e+00, 0.00000000e+00, 0.00000000e+00, 0.00000000e+00,\n",
       "       0.00000000e+00, 0.00000000e+00, 0.00000000e+00, 0.00000000e+00,\n",
       "       0.00000000e+00, 0.00000000e+00, 0.00000000e+00, 0.00000000e+00,\n",
       "       0.00000000e+00, 0.00000000e+00, 0.00000000e+00, 0.00000000e+00,\n",
       "       0.00000000e+00, 0.00000000e+00, 0.00000000e+00, 0.00000000e+00,\n",
       "       0.00000000e+00, 0.00000000e+00, 0.00000000e+00, 0.00000000e+00,\n",
       "       0.00000000e+00, 0.00000000e+00, 0.00000000e+00, 0.00000000e+00,\n",
       "       0.00000000e+00, 0.00000000e+00, 0.00000000e+00, 0.00000000e+00,\n",
       "       0.00000000e+00, 0.00000000e+00, 0.00000000e+00, 0.00000000e+00,\n",
       "       0.00000000e+00, 0.00000000e+00, 0.00000000e+00, 0.00000000e+00,\n",
       "       0.00000000e+00, 0.00000000e+00, 0.00000000e+00, 0.00000000e+00,\n",
       "       0.00000000e+00, 0.00000000e+00, 0.00000000e+00, 0.00000000e+00,\n",
       "       0.00000000e+00, 0.00000000e+00, 0.00000000e+00, 0.00000000e+00,\n",
       "       0.00000000e+00, 0.00000000e+00, 0.00000000e+00, 0.00000000e+00,\n",
       "       0.00000000e+00, 0.00000000e+00, 0.00000000e+00, 0.00000000e+00,\n",
       "       0.00000000e+00, 0.00000000e+00, 0.00000000e+00, 0.00000000e+00,\n",
       "       0.00000000e+00, 0.00000000e+00, 0.00000000e+00, 0.00000000e+00,\n",
       "       0.00000000e+00, 0.00000000e+00, 0.00000000e+00, 0.00000000e+00,\n",
       "       0.00000000e+00, 0.00000000e+00, 0.00000000e+00, 0.00000000e+00,\n",
       "       0.00000000e+00, 0.00000000e+00, 0.00000000e+00, 0.00000000e+00,\n",
       "       0.00000000e+00, 0.00000000e+00, 0.00000000e+00, 0.00000000e+00,\n",
       "       0.00000000e+00, 0.00000000e+00, 0.00000000e+00, 0.00000000e+00,\n",
       "       0.00000000e+00, 0.00000000e+00, 0.00000000e+00, 0.00000000e+00,\n",
       "       0.00000000e+00, 0.00000000e+00, 0.00000000e+00, 0.00000000e+00,\n",
       "       0.00000000e+00, 0.00000000e+00, 0.00000000e+00, 0.00000000e+00,\n",
       "       0.00000000e+00, 0.00000000e+00, 0.00000000e+00, 0.00000000e+00,\n",
       "       0.00000000e+00, 0.00000000e+00, 0.00000000e+00, 0.00000000e+00,\n",
       "       0.00000000e+00, 0.00000000e+00, 0.00000000e+00, 0.00000000e+00,\n",
       "       0.00000000e+00, 0.00000000e+00, 0.00000000e+00, 0.00000000e+00,\n",
       "       0.00000000e+00, 0.00000000e+00, 0.00000000e+00, 0.00000000e+00,\n",
       "       0.00000000e+00])"
      ]
     },
     "execution_count": 35,
     "metadata": {},
     "output_type": "execute_result"
    }
   ],
   "source": [
    "np.sort(gram_matrix_pofm[0])[::-1]"
   ]
  },
  {
   "cell_type": "code",
   "execution_count": 36,
   "metadata": {},
   "outputs": [
    {
     "data": {
      "image/png": "[encoded data removed]",
      "text/plain": [
       "<Figure size 1000x600 with 1 Axes>"
      ]
     },
     "metadata": {},
     "output_type": "display_data"
    }
   ],
   "source": [
    "# Extract data for plotting\n",
    "walks_per_node = [entry['walks_per_node'] for entry in fros if entry['walks_per_node'] != 'PoFM']\n",
    "fro_values = [entry['fro'] for entry in fros if entry['walks_per_node'] != 'PoFM']\n",
    "\n",
    "# Plot the data\n",
    "plt.figure(figsize=(10, 6))\n",
    "plt.plot(walks_per_node, fro_values, marker='o', label='Frobenius norm')\n",
    "\n",
    "\n",
    "# Add labels and title\n",
    "plt.xlabel('Walks per Node')\n",
    "plt.xscale('log')\n",
    "plt.yscale('log')\n",
    "plt.ylabel('Frobenius Norm')\n",
    "plt.title('Frobenius Norm vs Walks per Node')\n",
    "plt.legend()\n",
    "plt.grid(True)\n",
    "plt.show()"
   ]
  },
  {
   "cell_type": "markdown",
   "metadata": {},
   "source": [
    "## Performance of the GRF Kernel"
   ]
  },
  {
   "cell_type": "code",
   "execution_count": 19,
   "metadata": {},
   "outputs": [],
   "source": [
    "WALKS_PER_NODE = 1000\n",
    "P_HALT = 0.1\n",
    "MAX_WALK_LENGTH = 5\n",
    "SIGMA = 1"
   ]
  },
  {
   "cell_type": "code",
   "execution_count": 20,
   "metadata": {},
   "outputs": [
    {
     "data": {
      "text/html": [
       "<table>\n",
       "<thead>\n",
       "<tr><th>name                   </th><th>class    </th><th>transform       </th><th>prior  </th><th>trainable  </th><th>shape  </th><th>dtype  </th><th style=\"text-align: right;\">   value</th></tr>\n",
       "</thead>\n",
       "<tbody>\n",
       "<tr><td>GPR.kernel.beta        </td><td>Parameter</td><td>Softplus        </td><td>Uniform</td><td>True       </td><td>()     </td><td>float64</td><td style=\"text-align: right;\">1.58818 </td></tr>\n",
       "<tr><td>GPR.kernel.sigma_f     </td><td>Parameter</td><td>Softplus        </td><td>       </td><td>True       </td><td>()     </td><td>float64</td><td style=\"text-align: right;\">1.26012 </td></tr>\n",
       "<tr><td>GPR.likelihood.variance</td><td>Parameter</td><td>Softplus + Shift</td><td>       </td><td>True       </td><td>()     </td><td>float64</td><td style=\"text-align: right;\">0.167231</td></tr>\n",
       "</tbody>\n",
       "</table>"
      ],
      "text/plain": [
       "<IPython.core.display.HTML object>"
      ]
     },
     "metadata": {},
     "output_type": "display_data"
    }
   ],
   "source": [
    "graph_kernel = GraphDiffusionFastGRFKernel(adjacency_matrix,\n",
    "                                             walks_per_node=WALKS_PER_NODE,\n",
    "                                             p_halt=P_HALT,\n",
    "                                             max_walk_length=MAX_WALK_LENGTH,\n",
    "                                             normalize_laplacian=True)\n",
    "\n",
    "model, mean, stddev = gp_training(X_train, Y_train, X_full, graph_kernel)\n",
    "print_summary(model)"
   ]
  },
  {
   "cell_type": "code",
   "execution_count": 21,
   "metadata": {},
   "outputs": [
    {
     "name": "stdout",
     "output_type": "stream",
     "text": [
      "Determinant of the covariance matrix: 3.1520062413611236e-30\n"
     ]
    }
   ],
   "source": [
    "gram_matrix_grf_diffusion= graph_kernel.K(X_full).numpy()\n",
    "det = np.linalg.det(gram_matrix_grf_diffusion)\n",
    "print('Determinant of the covariance matrix:', det)"
   ]
  },
  {
   "cell_type": "code",
   "execution_count": 22,
   "metadata": {},
   "outputs": [
    {
     "name": "stdout",
     "output_type": "stream",
     "text": [
      "(Train) Log marginal likelihood: -349.63772021431515\n",
      "(Test) Relative l2 error is 1.809306373647551\n",
      "(Test) Log marginal likelihood:  -98.3127456871213\n"
     ]
    }
   ],
   "source": [
    "print(f'(Train) Log marginal likelihood: {model.log_marginal_likelihood()}')\n",
    "\n",
    "mean, cov = model.predict_f(x_test, full_cov=True)\n",
    "\n",
    "l2_error = orig_std * np.linalg.norm(y_test.ravel() - mean.numpy().ravel()) / len(y_test.ravel())\n",
    "print(\"(Test) Relative l2 error is {}\".format(l2_error))\n",
    "\n",
    "mean, cov = tf.reshape(mean, [-1]), cov[0]\n",
    "cov = cov + tf.linalg.diag(tf.fill([len(y_test)], model.likelihood.variance))\n",
    "dist = tfp.distributions.MultivariateNormalTriL(mean, cov)\n",
    "likelihood = dist.log_prob(tf.reshape(y_test, [-1])).numpy()\n",
    "print(f\"(Test) Log marginal likelihood:  {likelihood}\")"
   ]
  },
  {
   "cell_type": "code",
   "execution_count": 23,
   "metadata": {},
   "outputs": [],
   "source": [
    "results = []\n",
    "\n",
    "for walks_per_node in [1, 2, 4, 8, 16, 32, 64]:\n",
    "    # Create a new GraphDiffusionFastGRFKernel with the current walks_per_node\n",
    "    graph_kernel = GraphDiffusionFastGRFKernel(adjacency_matrix,\n",
    "                                               walks_per_node=walks_per_node,\n",
    "                                               p_halt=P_HALT,\n",
    "                                               max_walk_length=MAX_WALK_LENGTH,\n",
    "                                               normalize_laplacian=True)\n",
    "    \n",
    "    # Train the GP model\n",
    "    model, mean, stddev = gp_training(X_train, Y_train, X_full, graph_kernel)\n",
    "    \n",
    "    # Record the learned hyperparameters\n",
    "    beta = model.kernel.beta.numpy()\n",
    "    sigma_f = model.kernel.sigma_f.numpy()\n",
    "    likelihood_variance = model.likelihood.variance.numpy()\n",
    "    \n",
    "    # Calculate train data log marginal likelihood\n",
    "    train_lml = model.log_marginal_likelihood().numpy()\n",
    "    \n",
    "    # Predict on test data\n",
    "    mean, cov = model.predict_f(x_test, full_cov=True)\n",
    "    \n",
    "    # Calculate l2 error\n",
    "    l2_error = orig_std * np.linalg.norm(y_test.ravel() - mean.numpy().ravel()) / len(y_test.ravel())\n",
    "    \n",
    "    # Calculate test data log marginal likelihood\n",
    "    mean, cov = tf.reshape(mean, [-1]), cov[0]\n",
    "    cov = cov + tf.linalg.diag(tf.fill([len(y_test)], model.likelihood.variance))\n",
    "    dist = tfp.distributions.MultivariateNormalTriL(mean, cov)\n",
    "    test_lml = dist.log_prob(tf.reshape(y_test, [-1])).numpy()\n",
    "    \n",
    "    # Calculate the gram matrix and frobenius error\n",
    "    gram_matrix_grf_diffusion = graph_kernel.K(X_full).numpy()\n",
    "    fro_error = compute_fro(gram_matrix_diffusion, gram_matrix_grf_diffusion)\n",
    "    \n",
    "    # Store the results\n",
    "    results.append({\n",
    "        'walks_per_node': walks_per_node,\n",
    "        'train_lml': train_lml,\n",
    "        'l2_error': l2_error,\n",
    "        'test_lml': test_lml,\n",
    "        'fro_error': fro_error,\n",
    "        'beta': beta,\n",
    "        'sigma_f': sigma_f,\n",
    "        'likelihood_variance': likelihood_variance\n",
    "    })"
   ]
  },
  {
   "cell_type": "code",
   "execution_count": 24,
   "metadata": {},
   "outputs": [],
   "source": [
    "# The limiting case of walks_per_node = infinity is the PoFM kernel\n",
    "graph_kernel = GraphDiffusionPoFMKernel(adjacency_matrix=adjacency_matrix,\n",
    "                                        max_expansion=MAX_WALK_LENGTH,\n",
    "                                        normalize_laplacian=True)\n",
    "# Train the GP model\n",
    "model, mean, stddev = gp_training(X_train, Y_train, X_full, graph_kernel)\n",
    "\n",
    "# Record the learned hyperparameters\n",
    "beta = model.kernel.beta.numpy()\n",
    "sigma_f = model.kernel.sigma_f.numpy()\n",
    "likelihood_variance = model.likelihood.variance.numpy()\n",
    "\n",
    "# Calculate train data log marginal likelihood\n",
    "train_lml = model.log_marginal_likelihood().numpy()\n",
    "\n",
    "# Predict on test data\n",
    "mean, cov = model.predict_f(x_test, full_cov=True)\n",
    "\n",
    "# Calculate l2 error\n",
    "l2_error = orig_std * np.linalg.norm(y_test.ravel() - mean.numpy().ravel()) / len(y_test.ravel())\n",
    "\n",
    "# Calculate test data log marginal likelihood\n",
    "mean, cov = tf.reshape(mean, [-1]), cov[0]\n",
    "cov = cov + tf.linalg.diag(tf.fill([len(y_test)], model.likelihood.variance))\n",
    "dist = tfp.distributions.MultivariateNormalTriL(mean, cov)\n",
    "test_lml = dist.log_prob(tf.reshape(y_test, [-1])).numpy()\n",
    "\n",
    "# Calculate the gram matrix and frobenius error\n",
    "gram_matrix_grf_diffusion = graph_kernel.K(X_full).numpy()\n",
    "fro_error = compute_fro(gram_matrix_diffusion, gram_matrix_grf_diffusion)\n",
    "\n",
    "# Store the results\n",
    "results.append({\n",
    "    'walks_per_node': 'PoFM',\n",
    "    'train_lml': train_lml,\n",
    "    'l2_error': l2_error,\n",
    "    'test_lml': test_lml,\n",
    "    'fro_error': fro_error,\n",
    "    'beta': beta,\n",
    "    'sigma_f': sigma_f,\n",
    "    'likelihood_variance': likelihood_variance})"
   ]
  },
  {
   "cell_type": "code",
   "execution_count": 25,
   "metadata": {},
   "outputs": [
    {
     "data": {
      "text/plain": [
       "[{'walks_per_node': 1,\n",
       "  'train_lml': -868.7451321505797,\n",
       "  'l2_error': 1.9276756785333404,\n",
       "  'test_lml': -474.003626629925,\n",
       "  'fro_error': 1.4941916100875263,\n",
       "  'beta': array(2.),\n",
       "  'sigma_f': array(1.),\n",
       "  'likelihood_variance': array(0.01)},\n",
       " {'walks_per_node': 2,\n",
       "  'train_lml': -352.96903307215524,\n",
       "  'l2_error': 1.8888218970633261,\n",
       "  'test_lml': -104.93832111385252,\n",
       "  'fro_error': 0.29522487946323267,\n",
       "  'beta': array(0.25314834),\n",
       "  'sigma_f': array(1.060948),\n",
       "  'likelihood_variance': array(3.79479393e-06)},\n",
       " {'walks_per_node': 4,\n",
       "  'train_lml': -354.7346342321254,\n",
       "  'l2_error': 1.8974120150342424,\n",
       "  'test_lml': -102.75458813988523,\n",
       "  'fro_error': 0.35549665186421214,\n",
       "  'beta': array(1.35474369e-06),\n",
       "  'sigma_f': array(0.83065011),\n",
       "  'likelihood_variance': array(0.31005068)},\n",
       " {'walks_per_node': 8,\n",
       "  'train_lml': -351.79338655904854,\n",
       "  'l2_error': 1.8696948544999081,\n",
       "  'test_lml': -104.26262303638224,\n",
       "  'fro_error': 0.24946594828540133,\n",
       "  'beta': array(0.59683106),\n",
       "  'sigma_f': array(1.13132718),\n",
       "  'likelihood_variance': array(0.01360419)},\n",
       " {'walks_per_node': 16,\n",
       "  'train_lml': -352.7220237943939,\n",
       "  'l2_error': 1.8609056792204812,\n",
       "  'test_lml': -101.99729233887882,\n",
       "  'fro_error': 0.4096609758407536,\n",
       "  'beta': array(0.90737919),\n",
       "  'sigma_f': array(0.92547909),\n",
       "  'likelihood_variance': array(0.41856524)},\n",
       " {'walks_per_node': 32,\n",
       "  'train_lml': -352.1264198577328,\n",
       "  'l2_error': 1.8406780014744724,\n",
       "  'test_lml': -101.57685005220252,\n",
       "  'fro_error': 0.2458212805551358,\n",
       "  'beta': array(1.07254969),\n",
       "  'sigma_f': array(1.09335193),\n",
       "  'likelihood_variance': array(0.22869155)},\n",
       " {'walks_per_node': 64,\n",
       "  'train_lml': -349.8220361157609,\n",
       "  'l2_error': 1.8125312174397041,\n",
       "  'test_lml': -100.53800070091974,\n",
       "  'fro_error': 0.19380112854287487,\n",
       "  'beta': array(1.52574522),\n",
       "  'sigma_f': array(1.23598782),\n",
       "  'likelihood_variance': array(0.16729533)},\n",
       " {'walks_per_node': 'PoFM',\n",
       "  'train_lml': -348.3453341346615,\n",
       "  'l2_error': 1.7546772898935936,\n",
       "  'test_lml': -99.43824487475283,\n",
       "  'fro_error': 0.21498905284442904,\n",
       "  'beta': array(1.43086158),\n",
       "  'sigma_f': array(1.36808389),\n",
       "  'likelihood_variance': array(0.38376931)}]"
      ]
     },
     "execution_count": 25,
     "metadata": {},
     "output_type": "execute_result"
    }
   ],
   "source": [
    "results"
   ]
  },
  {
   "cell_type": "code",
   "execution_count": 26,
   "metadata": {
    "vscode": {
     "languageId": "ruby"
    }
   },
   "outputs": [
    {
     "data": {
      "image/png": "[encoded data removed]",
      "text/plain": [
       "<Figure size 1200x600 with 2 Axes>"
      ]
     },
     "metadata": {},
     "output_type": "display_data"
    }
   ],
   "source": [
    "# Extract data for plotting\n",
    "walks_per_node = [entry['walks_per_node'] for entry in results if entry['walks_per_node'] != 'PoFM']\n",
    "l2_errors = [entry['l2_error'] for entry in results if entry['walks_per_node'] != 'PoFM']\n",
    "fro_errors = [entry['fro_error'] for entry in results if entry['walks_per_node'] != 'PoFM']\n",
    "pofm_l2_error = next(entry['l2_error'] for entry in results if entry['walks_per_node'] == 'PoFM')\n",
    "pofm_fro_error = next(entry['fro_error'] for entry in results if entry['walks_per_node'] == 'PoFM')\n",
    "\n",
    "# Plot l2 error\n",
    "plt.figure(figsize=(12, 6))\n",
    "\n",
    "plt.subplot(1, 2, 1)\n",
    "plt.plot(walks_per_node, l2_errors, marker='o', label='l2 error')\n",
    "plt.axhline(y=pofm_l2_error, color='r', linestyle='--', label='PoFM (limit)')\n",
    "plt.xlabel('Walks per Node')\n",
    "plt.ylabel('l2 Error')\n",
    "plt.title('l2 Error vs Walks per Node')\n",
    "plt.legend()\n",
    "plt.grid(True)\n",
    "\n",
    "# Plot Frobenius norm\n",
    "plt.subplot(1, 2, 2)\n",
    "plt.plot(walks_per_node, fro_errors, marker='o', label='Frobenius norm')\n",
    "plt.axhline(y=pofm_fro_error, color='r', linestyle='--', label='PoFM (limit)')\n",
    "plt.xlabel('Walks per Node')\n",
    "plt.ylabel('Frobenius Norm')\n",
    "plt.title('Frobenius Norm vs Walks per Node')\n",
    "plt.legend()\n",
    "plt.grid(True)\n",
    "\n",
    "plt.tight_layout()\n",
    "plt.show()"
   ]
  },
  {
   "cell_type": "markdown",
   "metadata": {},
   "source": [
    "## Performance of the GRF Kernel with Arbitrary Modulation Function"
   ]
  },
  {
   "cell_type": "code",
   "execution_count": null,
   "metadata": {},
   "outputs": [],
   "source": []
  }
 ],
 "metadata": {
  "kernelspec": {
   "display_name": "venv",
   "language": "python",
   "name": "python3"
  },
  "language_info": {
   "codemirror_mode": {
    "name": "ipython",
    "version": 3
   },
   "file_extension": ".py",
   "mimetype": "text/x-python",
   "name": "python",
   "nbconvert_exporter": "python",
   "pygments_lexer": "ipython3",
   "version": "3.11.5"
  }
 },
 "nbformat": 4,
 "nbformat_minor": 2
}
