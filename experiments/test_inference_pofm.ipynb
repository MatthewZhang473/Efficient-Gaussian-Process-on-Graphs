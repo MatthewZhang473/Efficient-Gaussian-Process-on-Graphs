{
 "cells": [
  {
   "cell_type": "markdown",
   "metadata": {},
   "source": [
    "## This notebook is a demo for\n",
    "\n",
    "1. Generate a Graph (Line Graph / Random Graph).\n",
    "\n",
    "2. Calculate the covariance matrix for the graph with a graph kernel function (with known hyperparameters).\n",
    "\n",
    "3. Sample data points from a GP on this covariance matrix.\n",
    "\n",
    "4. Fit a GP with the product-of-feature-matrix kernel expression and learn the hyperparameters."
   ]
  },
  {
   "cell_type": "code",
   "execution_count": 21,
   "metadata": {},
   "outputs": [],
   "source": [
    "import tensorflow as tf\n",
    "import numpy as np\n",
    "import gpflow\n",
    "import matplotlib.pyplot as plt\n",
    "import ipywidgets as widgets\n",
    "from IPython.display import display, clear_output\n",
    "import networkx as nx\n",
    "from gpflow.utilities import print_summary\n",
    "import tensorflow_probability as tfp\n",
    "import seaborn as sns\n"
   ]
  },
  {
   "cell_type": "code",
   "execution_count": 22,
   "metadata": {},
   "outputs": [],
   "source": [
    "import sys\n",
    "import os\n",
    "project_root = os.path.abspath(\"..\")\n",
    "sys.path.append(project_root)"
   ]
  },
  {
   "cell_type": "code",
   "execution_count": 23,
   "metadata": {},
   "outputs": [],
   "source": [
    "from efficient_graph_gp.graph_kernels import diffusion_kernel, feature_matrix_kernel, generate_noisy_samples\n",
    "from efficient_graph_gp.gpflow_kernels import GraphDiffusionKernel\n",
    "from utils import plot_network_graph, plot_gp_fit"
   ]
  },
  {
   "cell_type": "code",
   "execution_count": 24,
   "metadata": {},
   "outputs": [],
   "source": [
    "# Parameters\n",
    "num_nodes = 10\n",
    "graph_type = 'random' # 'line', 'random'\n",
    "np.random.seed(0)"
   ]
  },
  {
   "cell_type": "code",
   "execution_count": 25,
   "metadata": {},
   "outputs": [],
   "source": [
    "if graph_type == 'line':\n",
    "    adjacency_matrix = np.eye(num_nodes, k=1) + np.eye(num_nodes, k=-1)  # Circular adjacency matrix\n",
    "elif graph_type == 'random':\n",
    "    probability = 0.1  # Probability of edge creation\n",
    "    G = nx.erdos_renyi_graph(num_nodes, probability, directed=False)  # Ensure the graph is undirected\n",
    "    adjacency_matrix = nx.to_numpy_array(G)  # Convert to adjacency matrix"
   ]
  },
  {
   "cell_type": "code",
   "execution_count": 26,
   "metadata": {},
   "outputs": [],
   "source": [
    "ground_truth = diffusion_kernel(adj_matrix=adjacency_matrix, beta=2.0)"
   ]
  },
  {
   "cell_type": "code",
   "execution_count": null,
   "metadata": {},
   "outputs": [],
   "source": []
  }
 ],
 "metadata": {
  "kernelspec": {
   "display_name": "venv",
   "language": "python",
   "name": "python3"
  },
  "language_info": {
   "codemirror_mode": {
    "name": "ipython",
    "version": 3
   },
   "file_extension": ".py",
   "mimetype": "text/x-python",
   "name": "python",
   "nbconvert_exporter": "python",
   "pygments_lexer": "ipython3",
   "version": "3.11.5"
  }
 },
 "nbformat": 4,
 "nbformat_minor": 2
}
