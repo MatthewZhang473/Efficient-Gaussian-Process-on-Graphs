{
 "cells": [
  {
   "cell_type": "markdown",
   "metadata": {},
   "source": [
    "## This notebook is a demo for\n",
    "\n",
    "1. Testing the convergence between the product-of-feature-matrix kernel (POFM) to the ground truth diffusion kernel."
   ]
  },
  {
   "cell_type": "code",
   "execution_count": 21,
   "metadata": {},
   "outputs": [],
   "source": [
    "import tensorflow as tf\n",
    "import numpy as np\n",
    "import gpflow\n",
    "import matplotlib.pyplot as plt\n",
    "import ipywidgets as widgets\n",
    "from IPython.display import display, clear_output\n",
    "import networkx as nx\n",
    "from gpflow.utilities import print_summary\n",
    "import tensorflow_probability as tfp\n",
    "import seaborn as sns\n"
   ]
  },
  {
   "cell_type": "code",
   "execution_count": 22,
   "metadata": {},
   "outputs": [],
   "source": [
    "import sys\n",
    "import os\n",
    "project_root = os.path.abspath(\"../..\")\n",
    "sys.path.append(project_root)"
   ]
  },
  {
   "cell_type": "code",
   "execution_count": 23,
   "metadata": {},
   "outputs": [],
   "source": [
    "from efficient_graph_gp.graph_kernels import diffusion_kernel, feature_matrix_kernel, generate_noisy_samples\n",
    "from efficient_graph_gp.gpflow_kernels import GraphDiffusionKernel\n",
    "from utils import plot_network_graph, plot_gp_fit"
   ]
  },
  {
   "cell_type": "code",
   "execution_count": 24,
   "metadata": {},
   "outputs": [],
   "source": [
    "# Parameters\n",
    "num_nodes = 10\n",
    "graph_type = 'random' # 'line', 'random'\n",
    "np.random.seed(0)"
   ]
  },
  {
   "cell_type": "code",
   "execution_count": 25,
   "metadata": {},
   "outputs": [],
   "source": [
    "if graph_type == 'line':\n",
    "    adjacency_matrix = np.eye(num_nodes, k=1) + np.eye(num_nodes, k=-1)  # Circular adjacency matrix\n",
    "elif graph_type == 'random':\n",
    "    probability = 0.1  # Probability of edge creation\n",
    "    G = nx.erdos_renyi_graph(num_nodes, probability, directed=False)  # Ensure the graph is undirected\n",
    "    adjacency_matrix = nx.to_numpy_array(G)  # Convert to adjacency matrix"
   ]
  },
  {
   "cell_type": "code",
   "execution_count": 26,
   "metadata": {},
   "outputs": [],
   "source": [
    "ground_truth = diffusion_kernel(adj_matrix=adjacency_matrix, beta=2.0)"
   ]
  },
  {
   "cell_type": "code",
   "execution_count": 27,
   "metadata": {},
   "outputs": [],
   "source": [
    "pof_matrix = feature_matrix_kernel(adj_matrix=adjacency_matrix,\n",
    "                                   max_expansion=10, kernel_type='diffusion',\n",
    "                                   kernel_hyperparameters={'beta': 2.0})"
   ]
  },
  {
   "cell_type": "code",
   "execution_count": 29,
   "metadata": {},
   "outputs": [
    {
     "data": {
      "application/vnd.jupyter.widget-view+json": {
       "model_id": "2d4345aeeaf347d1b021bf65c2e3e111",
       "version_major": 2,
       "version_minor": 0
      },
      "text/plain": [
       "VBox(children=(FloatSlider(value=3.0, description='Beta:', max=10.0, min=0.1), IntSlider(value=10, description…"
      ]
     },
     "metadata": {},
     "output_type": "display_data"
    },
    {
     "data": {
      "application/vnd.jupyter.widget-view+json": {
       "model_id": "a282066393e640e084630e5a759b6724",
       "version_major": 2,
       "version_minor": 0
      },
      "text/plain": [
       "Output()"
      ]
     },
     "metadata": {},
     "output_type": "display_data"
    }
   ],
   "source": [
    "# Plotting function\n",
    "def plot_heatmaps(beta_sample, max_expansion_sample):\n",
    "    ground_truth = diffusion_kernel(adjacency_matrix, beta_sample)\n",
    "    pof_matrix = feature_matrix_kernel(\n",
    "        adj_matrix=adjacency_matrix,\n",
    "        max_expansion=max_expansion_sample,\n",
    "        kernel_type='diffusion',\n",
    "        kernel_hyperparameters={'beta': beta_sample}\n",
    "    )\n",
    "    \n",
    "    # Create the plots\n",
    "    plt.figure(figsize=(12, 6))\n",
    "    \n",
    "    # Heatmap for Ground Truth\n",
    "    plt.subplot(1, 2, 1)\n",
    "    sns.heatmap(ground_truth, annot=True, cmap='viridis', cbar=True)\n",
    "    plt.title(f\"Ground Truth (Beta={beta_sample})\")\n",
    "    plt.xlabel(\"Nodes\")\n",
    "    plt.ylabel(\"Nodes\")\n",
    "    \n",
    "    # Heatmap for Product of Feature Matrix\n",
    "    plt.subplot(1, 2, 2)\n",
    "    sns.heatmap(pof_matrix, annot=True, cmap='viridis', cbar=True)\n",
    "    plt.title(f\"POF Matrix (Max Expansion={max_expansion_sample})\")\n",
    "    plt.xlabel(\"Nodes\")\n",
    "    plt.ylabel(\"Nodes\")\n",
    "    \n",
    "    plt.tight_layout()\n",
    "    plt.show()\n",
    "\n",
    "# Interactive widgets\n",
    "beta_slider = widgets.FloatSlider(value=3.0, min=0.1, max=10.0, step=0.1, description='Beta:')\n",
    "max_expansion_slider = widgets.IntSlider(value=10, min=1, max=20, step=1, description='Max Expansion:')\n",
    "ui = widgets.VBox([beta_slider, max_expansion_slider])\n",
    "out = widgets.interactive_output(plot_heatmaps, {\n",
    "    'beta_sample': beta_slider,\n",
    "    'max_expansion_sample': max_expansion_slider\n",
    "})\n",
    "display(ui, out)"
   ]
  },
  {
   "cell_type": "code",
   "execution_count": null,
   "metadata": {},
   "outputs": [],
   "source": []
  }
 ],
 "metadata": {
  "kernelspec": {
   "display_name": "venv",
   "language": "python",
   "name": "python3"
  },
  "language_info": {
   "codemirror_mode": {
    "name": "ipython",
    "version": 3
   },
   "file_extension": ".py",
   "mimetype": "text/x-python",
   "name": "python",
   "nbconvert_exporter": "python",
   "pygments_lexer": "ipython3",
   "version": "3.11.5"
  }
 },
 "nbformat": 4,
 "nbformat_minor": 2
}
