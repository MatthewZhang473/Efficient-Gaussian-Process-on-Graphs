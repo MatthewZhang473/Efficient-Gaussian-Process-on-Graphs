{
 "cells": [
  {
   "cell_type": "code",
   "execution_count": 1,
   "metadata": {},
   "outputs": [],
   "source": [
    "import numpy as np\n",
    "from scipy.sparse import random, coo_matrix, csr_matrix\n",
    "import time"
   ]
  },
  {
   "cell_type": "code",
   "execution_count": 2,
   "metadata": {},
   "outputs": [],
   "source": [
    "import sys\n",
    "import os\n",
    "project_root = os.path.abspath(\"../..\")\n",
    "sys.path.append(project_root)"
   ]
  },
  {
   "cell_type": "code",
   "execution_count": 3,
   "metadata": {},
   "outputs": [],
   "source": [
    "from efficient_graph_gp.random_walk_samplers import Graph, RandomWalk\n",
    "from efficient_graph_gp.modulation_functions import diffusion_modulator\n",
    "from efficient_graph_gp.graph_kernels import get_normalized_laplacian"
   ]
  },
  {
   "cell_type": "code",
   "execution_count": 4,
   "metadata": {},
   "outputs": [],
   "source": [
    "walks_per_node = 10\n",
    "p_halt = 0.2\n",
    "max_walk_length = 10\n",
    "beta = 0.1\n",
    "\n",
    "num_nodes = 10000  # Number of nodes\n",
    "density = 0.01    # Sparsity level (fraction of possible edges)\n",
    "seed = 42          # Random seed for reproducibility"
   ]
  },
  {
   "cell_type": "code",
   "execution_count": 5,
   "metadata": {},
   "outputs": [],
   "source": [
    "def generate_large_sparse_adjacency_matrix(num_nodes, density=0.01, seed=None):\n",
    "    \"\"\"\n",
    "    Generate a large, sparse, undirected graph adjacency matrix.\n",
    "    \n",
    "    Parameters:\n",
    "        num_nodes (int): Number of nodes in the graph.\n",
    "        density (float): Fraction of the possible edges that exist (0 < density <= 1).\n",
    "        seed (int or None): Random seed for reproducibility.\n",
    "    \n",
    "    Returns:\n",
    "        adj_matrix (scipy.sparse.coo_matrix): Sparse adjacency matrix of the graph.\n",
    "    \"\"\"\n",
    "    # Use scipy's random sparse matrix generator\n",
    "    rng = np.random.default_rng(seed)\n",
    "    upper_triangular = random(num_nodes, num_nodes, density=density, format='coo', random_state=rng)\n",
    "    \n",
    "    # Make the matrix symmetric for undirected graph\n",
    "    upper_triangular = coo_matrix(upper_triangular)\n",
    "    lower_triangular = coo_matrix((upper_triangular.data, (upper_triangular.col, upper_triangular.row)), shape=upper_triangular.shape)\n",
    "    \n",
    "    adjacency_matrix = upper_triangular + lower_triangular\n",
    "    \n",
    "    # Ensure no self-loops\n",
    "    adjacency_matrix.setdiag(0)\n",
    "    \n",
    "    return adjacency_matrix"
   ]
  },
  {
   "cell_type": "code",
   "execution_count": 6,
   "metadata": {},
   "outputs": [],
   "source": [
    "adj_matrix = generate_large_sparse_adjacency_matrix(num_nodes, density, seed)\n",
    "dense_adj_matrix = adj_matrix.toarray()"
   ]
  },
  {
   "cell_type": "code",
   "execution_count": 7,
   "metadata": {},
   "outputs": [],
   "source": [
    "laplacian = get_normalized_laplacian(dense_adj_matrix)\n",
    "graph = Graph(laplacian)\n",
    "random_walk = RandomWalk(graph, seed=42)\n",
    "feature_matrices = random_walk.get_random_walk_matrices(walks_per_node, p_halt, max_walk_length)\n",
    "modulator_vector = np.array([diffusion_modulator(step, beta) for step in range(max_walk_length)])"
   ]
  },
  {
   "cell_type": "code",
   "execution_count": 8,
   "metadata": {},
   "outputs": [
    {
     "name": "stdout",
     "output_type": "stream",
     "text": [
      "Percentage of zeros: 99.96%\n"
     ]
    }
   ],
   "source": [
    "# Check the sparsity of the feature matrices\n",
    "total_entries = feature_matrices.size\n",
    "zero_count = np.count_nonzero(feature_matrices == 0)\n",
    "percentage_zeros = (zero_count / total_entries) * 100\n",
    "print(f\"Percentage of zeros: {percentage_zeros:.2f}%\")"
   ]
  },
  {
   "cell_type": "code",
   "execution_count": 9,
   "metadata": {},
   "outputs": [
    {
     "name": "stdout",
     "output_type": "stream",
     "text": [
      "Dense Timing: 5.36412 seconds\n"
     ]
    }
   ],
   "source": [
    "start_time = time.time()\n",
    "# Use broadcasting for 3D matrix-vector multiplication\n",
    "Phi = feature_matrices @ modulator_vector  # Shape: (num_nodes, num_nodes)\n",
    "end_time = time.time()\n",
    "print(f\"Dense Timing: {end_time - start_time:.5f} seconds\")"
   ]
  },
  {
   "cell_type": "code",
   "execution_count": 10,
   "metadata": {},
   "outputs": [],
   "source": [
    "# Convert the feature matrix to sparse representation\n",
    "flattened_matrix = feature_matrices.reshape(-1, max_walk_length)\n",
    "sparse_feature_matrices = csr_matrix(flattened_matrix)"
   ]
  },
  {
   "cell_type": "code",
   "execution_count": 11,
   "metadata": {},
   "outputs": [
    {
     "name": "stdout",
     "output_type": "stream",
     "text": [
      "Sparse Timing: 0.14852 seconds\n"
     ]
    }
   ],
   "source": [
    "# Multiplication for sparse matrix\n",
    "start_time = time.time()\n",
    "result = sparse_feature_matrices @ modulator_vector\n",
    "end_time = time.time()\n",
    "print(f\"Sparse Timing: {end_time - start_time:.5f} seconds\")"
   ]
  },
  {
   "cell_type": "code",
   "execution_count": 12,
   "metadata": {},
   "outputs": [],
   "source": [
    "# Reshape the result to 3D (not necessary for timing experiments)\n",
    "# Phi_sparse = result.reshape(num_nodes, num_nodes, -1)"
   ]
  }
 ],
 "metadata": {
  "kernelspec": {
   "display_name": "venv",
   "language": "python",
   "name": "python3"
  },
  "language_info": {
   "codemirror_mode": {
    "name": "ipython",
    "version": 3
   },
   "file_extension": ".py",
   "mimetype": "text/x-python",
   "name": "python",
   "nbconvert_exporter": "python",
   "pygments_lexer": "ipython3",
   "version": "3.11.5"
  }
 },
 "nbformat": 4,
 "nbformat_minor": 2
}
