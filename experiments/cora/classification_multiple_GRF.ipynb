{
 "cells": [
  {
   "cell_type": "markdown",
   "metadata": {},
   "source": [
    "# Graph GP Classification\n",
    "\n",
    "## Preamble\n",
    "This notebook provides an example of Gaussian process classification on a graph using Graph Matern kernel and non-conjugate learning techiques described in the paper."
   ]
  },
  {
   "cell_type": "code",
   "execution_count": 1,
   "metadata": {},
   "outputs": [],
   "source": [
    "import tensorflow as tf\n",
    "import numpy as np\n",
    "import scipy.special\n",
    "from sklearn.metrics import accuracy_score\n",
    "import gpflow\n",
    "import matplotlib.pyplot as plt\n",
    "import ipywidgets as widgets\n",
    "from IPython.display import display, clear_output\n",
    "import networkx as nx\n",
    "from gpflow.utilities import print_summary\n",
    "import tensorflow_probability as tfp\n",
    "import seaborn as sns\n",
    "from tqdm import tqdm\n",
    "\n",
    "import sys\n",
    "import os\n",
    "project_root = os.path.abspath(\"../..\")\n",
    "sys.path.append(project_root)\n",
    "import pandas as pd\n",
    "import pickle\n",
    "\n",
    "from efficient_graph_gp.graph_kernels import get_normalized_laplacian\n",
    "from efficient_graph_gp.gpflow_kernels import GraphDiffusionFastGRFKernel, GraphDiffusionPoFMKernel, GraphDiffusionKernel, GraphGeneralPoFMKernel, GraphGeneralFastGRFKernel\n",
    "from utils import compute_fro\n",
    "from cora_utils.preprocessing import load_PEMS, load_cora"
   ]
  },
  {
   "cell_type": "code",
   "execution_count": 2,
   "metadata": {
    "pycharm": {
     "name": "#%%\n"
    }
   },
   "outputs": [],
   "source": [
    "dtype = tf.float64\n",
    "gpflow.config.set_default_float(dtype)\n",
    "gpflow.config.set_default_summary_fmt(\"notebook\")\n",
    "tf.get_logger().setLevel('ERROR')"
   ]
  },
  {
   "cell_type": "markdown",
   "metadata": {},
   "source": [
    "## Load and preprocess the Cora dataset\n",
    "The nasty details of the dataset preparation are hidden away in `preprocessing` module."
   ]
  },
  {
   "cell_type": "code",
   "execution_count": 3,
   "metadata": {
    "pycharm": {
     "name": "#%%\n"
    }
   },
   "outputs": [],
   "source": [
    "np.random.seed(1)\n",
    "num_eigenpairs = 500\n",
    "dataset = 'cora'\n",
    "cls_number = 7\n",
    "train_num = int(2485 * 0.8)\n",
    "test_num = int(2485 * 0.2)\n",
    "M = train_num // 2"
   ]
  },
  {
   "cell_type": "code",
   "execution_count": 4,
   "metadata": {
    "pycharm": {
     "name": "#%%\n"
    }
   },
   "outputs": [],
   "source": [
    "G, data_train, data_test = load_cora(num_train=train_num, num_test=test_num)\n",
    "adjacency_matrix = nx.to_numpy_array(G) \n",
    "x_train, y_train = data_train\n",
    "x_test, y_test = data_test\n",
    "Z = x_train[np.random.choice(train_num, M, replace=False)].copy()"
   ]
  },
  {
   "cell_type": "markdown",
   "metadata": {},
   "source": [
    "## Build a GP model\n",
    "Here we employ techiques of non-conjugate learning described in the section 3.1 of the paper.\n",
    "\n",
    "Briefly, we approximate a non-Gaussian posterior with a variational distribution induced by _inducing_ points on the graph.\n",
    "We choose the inducing points to be all training points.\n",
    "\n",
    "The model is then the usual `SVGP`."
   ]
  },
  {
   "cell_type": "code",
   "execution_count": 5,
   "metadata": {},
   "outputs": [
    {
     "name": "stdout",
     "output_type": "stream",
     "text": [
      "\n",
      "=== Running seed 0 ===\n"
     ]
    },
    {
     "name": "stderr",
     "output_type": "stream",
     "text": [
      "Random walks: 100%|██████████| 2485/2485 [10:31<00:00,  3.94it/s]\n"
     ]
    },
    {
     "name": "stdout",
     "output_type": "stream",
     "text": [
      "Training SVGP (GRF)…\n"
     ]
    },
    {
     "name": "stderr",
     "output_type": "stream",
     "text": [
      "Seed 0 Training: 100%|██████████| 1000/1000 [1:21:10<00:00,  4.87s/step]"
     ]
    },
    {
     "name": "stdout",
     "output_type": "stream",
     "text": [
      "\n",
      "Model hyperparameters (seed=0):\n"
     ]
    },
    {
     "name": "stderr",
     "output_type": "stream",
     "text": [
      "\n"
     ]
    },
    {
     "data": {
      "text/html": [
       "<table>\n",
       "<thead>\n",
       "<tr><th>name                           </th><th>class    </th><th>transform     </th><th>prior  </th><th>trainable  </th><th>shape        </th><th>dtype  </th><th>value                                               </th></tr>\n",
       "</thead>\n",
       "<tbody>\n",
       "<tr><td>SVGP.kernel.modulator_vector   </td><td>Parameter</td><td>Identity      </td><td>       </td><td>True       </td><td>(5,)         </td><td>float64</td><td>[0.56699166, -1.07379, 0.51159319...                </td></tr>\n",
       "<tr><td>SVGP.likelihood.invlink.epsilon</td><td>Parameter</td><td>Sigmoid       </td><td>Beta   </td><td>False      </td><td>()           </td><td>float64</td><td>0.0010000000000000002                               </td></tr>\n",
       "<tr><td>SVGP.inducing_variable.Z       </td><td>Parameter</td><td>Identity      </td><td>       </td><td>True       </td><td>(994, 1)     </td><td>float64</td><td>[[1998....                                          </td></tr>\n",
       "<tr><td>SVGP.q_mu                      </td><td>Parameter</td><td>Identity      </td><td>       </td><td>True       </td><td>(994, 7)     </td><td>float64</td><td>[[1.26648, -0.51134472, -0.77729227...              </td></tr>\n",
       "<tr><td>SVGP.q_sqrt                    </td><td>Parameter</td><td>FillTriangular</td><td>       </td><td>True       </td><td>(7, 994, 994)</td><td>float64</td><td>[[[3.69458431e-01, 0.00000000e+00, 0.00000000e+00...</td></tr>\n",
       "</tbody>\n",
       "</table>"
      ],
      "text/plain": [
       "<IPython.core.display.HTML object>"
      ]
     },
     "metadata": {},
     "output_type": "display_data"
    },
    {
     "name": "stdout",
     "output_type": "stream",
     "text": [
      "Seed 0 Test Accuracy: 86.32%\n",
      "\n",
      "=== Running seed 1 ===\n"
     ]
    },
    {
     "name": "stderr",
     "output_type": "stream",
     "text": [
      "Random walks: 100%|██████████| 2485/2485 [17:33<00:00,  2.36it/s]\n"
     ]
    },
    {
     "name": "stdout",
     "output_type": "stream",
     "text": [
      "Training SVGP (GRF)…\n"
     ]
    },
    {
     "name": "stderr",
     "output_type": "stream",
     "text": [
      "Seed 1 Training: 100%|██████████| 1000/1000 [1:21:58<00:00,  4.92s/step]"
     ]
    },
    {
     "name": "stdout",
     "output_type": "stream",
     "text": [
      "\n",
      "Model hyperparameters (seed=1):\n"
     ]
    },
    {
     "name": "stderr",
     "output_type": "stream",
     "text": [
      "\n"
     ]
    },
    {
     "data": {
      "text/html": [
       "<table>\n",
       "<thead>\n",
       "<tr><th>name                           </th><th>class    </th><th>transform     </th><th>prior  </th><th>trainable  </th><th>shape        </th><th>dtype  </th><th>value                                               </th></tr>\n",
       "</thead>\n",
       "<tbody>\n",
       "<tr><td>SVGP.kernel.modulator_vector   </td><td>Parameter</td><td>Identity      </td><td>       </td><td>True       </td><td>(5,)         </td><td>float64</td><td>[0.57841872, -1.0656, 0.492445...                   </td></tr>\n",
       "<tr><td>SVGP.likelihood.invlink.epsilon</td><td>Parameter</td><td>Sigmoid       </td><td>Beta   </td><td>False      </td><td>()           </td><td>float64</td><td>0.0010000000000000002                               </td></tr>\n",
       "<tr><td>SVGP.inducing_variable.Z       </td><td>Parameter</td><td>Identity      </td><td>       </td><td>True       </td><td>(994, 1)     </td><td>float64</td><td>[[4.730e+02...                                      </td></tr>\n",
       "<tr><td>SVGP.q_mu                      </td><td>Parameter</td><td>Identity      </td><td>       </td><td>True       </td><td>(994, 7)     </td><td>float64</td><td>[[-0.72655522, -0.66898568, -0.7633492...           </td></tr>\n",
       "<tr><td>SVGP.q_sqrt                    </td><td>Parameter</td><td>FillTriangular</td><td>       </td><td>True       </td><td>(7, 994, 994)</td><td>float64</td><td>[[[9.03317869e-01, 0.00000000e+00, 0.00000000e+00...</td></tr>\n",
       "</tbody>\n",
       "</table>"
      ],
      "text/plain": [
       "<IPython.core.display.HTML object>"
      ]
     },
     "metadata": {},
     "output_type": "display_data"
    },
    {
     "name": "stdout",
     "output_type": "stream",
     "text": [
      "Seed 1 Test Accuracy: 84.91%\n",
      "\n",
      "=== Running seed 2 ===\n"
     ]
    },
    {
     "name": "stderr",
     "output_type": "stream",
     "text": [
      "Random walks: 100%|██████████| 2485/2485 [12:32<00:00,  3.30it/s]\n"
     ]
    },
    {
     "name": "stdout",
     "output_type": "stream",
     "text": [
      "Training SVGP (GRF)…\n"
     ]
    },
    {
     "name": "stderr",
     "output_type": "stream",
     "text": [
      "Seed 2 Training: 100%|██████████| 1000/1000 [1:19:51<00:00,  4.79s/step]"
     ]
    },
    {
     "name": "stdout",
     "output_type": "stream",
     "text": [
      "\n",
      "Model hyperparameters (seed=2):\n"
     ]
    },
    {
     "name": "stderr",
     "output_type": "stream",
     "text": [
      "\n"
     ]
    },
    {
     "data": {
      "text/html": [
       "<table>\n",
       "<thead>\n",
       "<tr><th>name                           </th><th>class    </th><th>transform     </th><th>prior  </th><th>trainable  </th><th>shape        </th><th>dtype  </th><th>value                                               </th></tr>\n",
       "</thead>\n",
       "<tbody>\n",
       "<tr><td>SVGP.kernel.modulator_vector   </td><td>Parameter</td><td>Identity      </td><td>       </td><td>True       </td><td>(5,)         </td><td>float64</td><td>[0.57118208, -1.06999, 0.50198591...                </td></tr>\n",
       "<tr><td>SVGP.likelihood.invlink.epsilon</td><td>Parameter</td><td>Sigmoid       </td><td>Beta   </td><td>False      </td><td>()           </td><td>float64</td><td>0.0010000000000000002                               </td></tr>\n",
       "<tr><td>SVGP.inducing_variable.Z       </td><td>Parameter</td><td>Identity      </td><td>       </td><td>True       </td><td>(994, 1)     </td><td>float64</td><td>[[2.119e+03...                                      </td></tr>\n",
       "<tr><td>SVGP.q_mu                      </td><td>Parameter</td><td>Identity      </td><td>       </td><td>True       </td><td>(994, 7)     </td><td>float64</td><td>[[-0.72416985, -0.59160464, -0.79248387...          </td></tr>\n",
       "<tr><td>SVGP.q_sqrt                    </td><td>Parameter</td><td>FillTriangular</td><td>       </td><td>True       </td><td>(7, 994, 994)</td><td>float64</td><td>[[[5.73687110e-01, 0.00000000e+00, 0.00000000e+00...</td></tr>\n",
       "</tbody>\n",
       "</table>"
      ],
      "text/plain": [
       "<IPython.core.display.HTML object>"
      ]
     },
     "metadata": {},
     "output_type": "display_data"
    },
    {
     "name": "stdout",
     "output_type": "stream",
     "text": [
      "Seed 2 Test Accuracy: 86.32%\n",
      "\n",
      "=== Running seed 3 ===\n"
     ]
    },
    {
     "name": "stderr",
     "output_type": "stream",
     "text": [
      "Random walks: 100%|██████████| 2485/2485 [16:01<00:00,  2.58it/s]\n"
     ]
    },
    {
     "name": "stdout",
     "output_type": "stream",
     "text": [
      "Training SVGP (GRF)…\n"
     ]
    },
    {
     "name": "stderr",
     "output_type": "stream",
     "text": [
      "Seed 3 Training: 100%|██████████| 1000/1000 [1:03:52<00:00,  3.83s/step]"
     ]
    },
    {
     "name": "stdout",
     "output_type": "stream",
     "text": [
      "\n",
      "Model hyperparameters (seed=3):\n"
     ]
    },
    {
     "name": "stderr",
     "output_type": "stream",
     "text": [
      "\n"
     ]
    },
    {
     "data": {
      "text/html": [
       "<table>\n",
       "<thead>\n",
       "<tr><th>name                           </th><th>class    </th><th>transform     </th><th>prior  </th><th>trainable  </th><th>shape        </th><th>dtype  </th><th>value                                               </th></tr>\n",
       "</thead>\n",
       "<tbody>\n",
       "<tr><td>SVGP.kernel.modulator_vector   </td><td>Parameter</td><td>Identity      </td><td>       </td><td>True       </td><td>(5,)         </td><td>float64</td><td>[0.58814902, -1.08857, 0.49017509...                </td></tr>\n",
       "<tr><td>SVGP.likelihood.invlink.epsilon</td><td>Parameter</td><td>Sigmoid       </td><td>Beta   </td><td>False      </td><td>()           </td><td>float64</td><td>0.0010000000000000002                               </td></tr>\n",
       "<tr><td>SVGP.inducing_variable.Z       </td><td>Parameter</td><td>Identity      </td><td>       </td><td>True       </td><td>(994, 1)     </td><td>float64</td><td>[[8.470e+02...                                      </td></tr>\n",
       "<tr><td>SVGP.q_mu                      </td><td>Parameter</td><td>Identity      </td><td>       </td><td>True       </td><td>(994, 7)     </td><td>float64</td><td>[[-0.6584483, -0.59733874, 0.14930827...            </td></tr>\n",
       "<tr><td>SVGP.q_sqrt                    </td><td>Parameter</td><td>FillTriangular</td><td>       </td><td>True       </td><td>(7, 994, 994)</td><td>float64</td><td>[[[7.46577510e-01, 0.00000000e+00, 0.00000000e+00...</td></tr>\n",
       "</tbody>\n",
       "</table>"
      ],
      "text/plain": [
       "<IPython.core.display.HTML object>"
      ]
     },
     "metadata": {},
     "output_type": "display_data"
    },
    {
     "name": "stdout",
     "output_type": "stream",
     "text": [
      "Seed 3 Test Accuracy: 85.92%\n",
      "\n",
      "=== Running seed 4 ===\n"
     ]
    },
    {
     "name": "stderr",
     "output_type": "stream",
     "text": [
      "Random walks: 100%|██████████| 2485/2485 [09:00<00:00,  4.60it/s]\n"
     ]
    },
    {
     "name": "stdout",
     "output_type": "stream",
     "text": [
      "Training SVGP (GRF)…\n"
     ]
    },
    {
     "name": "stderr",
     "output_type": "stream",
     "text": [
      "Seed 4 Training: 100%|██████████| 1000/1000 [46:33<00:00,  2.79s/step]"
     ]
    },
    {
     "name": "stdout",
     "output_type": "stream",
     "text": [
      "\n",
      "Model hyperparameters (seed=4):\n"
     ]
    },
    {
     "name": "stderr",
     "output_type": "stream",
     "text": [
      "\n"
     ]
    },
    {
     "data": {
      "text/html": [
       "<table>\n",
       "<thead>\n",
       "<tr><th>name                           </th><th>class    </th><th>transform     </th><th>prior  </th><th>trainable  </th><th>shape        </th><th>dtype  </th><th>value                                               </th></tr>\n",
       "</thead>\n",
       "<tbody>\n",
       "<tr><td>SVGP.kernel.modulator_vector   </td><td>Parameter</td><td>Identity      </td><td>       </td><td>True       </td><td>(5,)         </td><td>float64</td><td>[5.84494413e-01, -1.07972000e+00, 4.83942461e-01... </td></tr>\n",
       "<tr><td>SVGP.likelihood.invlink.epsilon</td><td>Parameter</td><td>Sigmoid       </td><td>Beta   </td><td>False      </td><td>()           </td><td>float64</td><td>0.0010000000000000002                               </td></tr>\n",
       "<tr><td>SVGP.inducing_variable.Z       </td><td>Parameter</td><td>Identity      </td><td>       </td><td>True       </td><td>(994, 1)     </td><td>float64</td><td>[[1.341e+03...                                      </td></tr>\n",
       "<tr><td>SVGP.q_mu                      </td><td>Parameter</td><td>Identity      </td><td>       </td><td>True       </td><td>(994, 7)     </td><td>float64</td><td>[[-1.07832, -1.37586, 2.30332...                    </td></tr>\n",
       "<tr><td>SVGP.q_sqrt                    </td><td>Parameter</td><td>FillTriangular</td><td>       </td><td>True       </td><td>(7, 994, 994)</td><td>float64</td><td>[[[8.83613026e-01, 0.00000000e+00, 0.00000000e+00...</td></tr>\n",
       "</tbody>\n",
       "</table>"
      ],
      "text/plain": [
       "<IPython.core.display.HTML object>"
      ]
     },
     "metadata": {},
     "output_type": "display_data"
    },
    {
     "name": "stdout",
     "output_type": "stream",
     "text": [
      "Seed 4 Test Accuracy: 86.52%\n",
      "\n",
      "=== Summary over all seeds ===\n",
      "Seed 0: Accuracy = 86.32%\n",
      "Seed 1: Accuracy = 84.91%\n",
      "Seed 2: Accuracy = 86.32%\n",
      "Seed 3: Accuracy = 85.92%\n",
      "Seed 4: Accuracy = 86.52%\n",
      "\n",
      "Mean accuracy over seeds: 86.00% ± 0.58%\n"
     ]
    }
   ],
   "source": [
    "# -------------------------------\n",
    "# Run 5 independent seeds\n",
    "# -------------------------------\n",
    "\n",
    "SEEDS = [0, 1, 2, 3, 4]\n",
    "MAX_WALK_LENGTH = 5\n",
    "seed_accuracies = []\n",
    "NUM_EPOCHES = 1000\n",
    "WALKS_PER_NODE = 4096\n",
    "\n",
    "\n",
    "for seed in SEEDS:\n",
    "    print(f\"\\n=== Running seed {seed} ===\")\n",
    "    np.random.seed(seed)\n",
    "    tf.random.set_seed(seed)\n",
    "\n",
    "    # 1) Sample M inducing points from the 140 training nodes\n",
    "    indices = np.random.choice(train_num, M, replace=False)\n",
    "    Z = x_train[indices].copy()  # shape: (M, 1)\n",
    "\n",
    "    # 2) Build Graph Diffusion kernel\n",
    "    graph_kernel = GraphGeneralFastGRFKernel(\n",
    "        adjacency_matrix=adjacency_matrix,\n",
    "        walks_per_node= WALKS_PER_NODE,\n",
    "        p_halt=0.1,\n",
    "        max_walk_length=MAX_WALK_LENGTH\n",
    "    )\n",
    "\n",
    "    # 3) Build SVGP model\n",
    "    likelihood = gpflow.likelihoods.MultiClass(num_classes=cls_number)\n",
    "    model = gpflow.models.SVGP(\n",
    "        kernel=graph_kernel,\n",
    "        likelihood=likelihood,\n",
    "        inducing_variable=Z,\n",
    "        num_latent_gps=cls_number,\n",
    "        whiten=True,\n",
    "    )\n",
    "\n",
    "    # 4) Prepare full-batch training dataset (140 nodes) with infinite repeat\n",
    "    train_ds = tf.data.Dataset.from_tensor_slices((x_train, y_train)) \\\n",
    "                             .shuffle(train_num, seed=seed) \\\n",
    "                             .batch(train_num) \\\n",
    "                             .repeat()\n",
    "    train_iter = iter(train_ds)\n",
    "\n",
    "    # 5) Optimizer\n",
    "    optimizer = tf.optimizers.Adam(learning_rate=0.003)\n",
    "\n",
    "    # 6) Training loop with tqdm\n",
    "    print(\"Training SVGP (GRF)…\")\n",
    "    for step in tqdm(range(NUM_EPOCHES), desc=f\"Seed {seed} Training\", unit=\"step\"):\n",
    "        Xb, Yb = next(train_iter)\n",
    "        with tf.GradientTape() as tape:\n",
    "            loss = model.training_loss((Xb, Yb))  # negative ELBO\n",
    "        grads = tape.gradient(loss, model.trainable_variables)\n",
    "        # Filter out any None gradients\n",
    "        grads_and_vars = [(g, v) for g, v in zip(grads, model.trainable_variables) if g is not None]\n",
    "        optimizer.apply_gradients(grads_and_vars)\n",
    "\n",
    "    # 7) Print hyperparameter summary for this seed\n",
    "    print(f\"\\nModel hyperparameters (seed={seed}):\")\n",
    "    print_summary(model)\n",
    "\n",
    "    # 8) Evaluate on the test set\n",
    "    y_pred_mean, _ = model.predict_y(x_test)\n",
    "    y_pred = np.argmax(y_pred_mean.numpy(), axis=1).ravel()\n",
    "    acc = accuracy_score(y_test.ravel(), y_pred)\n",
    "    print(f\"Seed {seed} Test Accuracy: {acc*100:.2f}%\")\n",
    "    seed_accuracies.append((seed, acc))\n",
    "\n",
    "# After loop, summarize all seeds\n",
    "print(\"\\n=== Summary over all seeds ===\")\n",
    "for seed, acc in seed_accuracies:\n",
    "    print(f\"Seed {seed}: Accuracy = {acc*100:.2f}%\")\n",
    "mean_acc = np.mean([acc for _, acc in seed_accuracies])\n",
    "std_acc  = np.std([acc for _, acc in seed_accuracies])\n",
    "print(f\"\\nMean accuracy over seeds: {mean_acc*100:.2f}% ± {std_acc*100:.2f}%\")\n"
   ]
  },
  {
   "cell_type": "code",
   "execution_count": null,
   "metadata": {},
   "outputs": [],
   "source": []
  }
 ],
 "metadata": {
  "kernelspec": {
   "display_name": "venv",
   "language": "python",
   "name": "python3"
  },
  "language_info": {
   "codemirror_mode": {
    "name": "ipython",
    "version": 3
   },
   "file_extension": ".py",
   "mimetype": "text/x-python",
   "name": "python",
   "nbconvert_exporter": "python",
   "pygments_lexer": "ipython3",
   "version": "3.11.5"
  }
 },
 "nbformat": 4,
 "nbformat_minor": 1
}
