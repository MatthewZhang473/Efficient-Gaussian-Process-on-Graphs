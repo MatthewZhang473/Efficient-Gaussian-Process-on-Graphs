{
 "cells": [
  {
   "cell_type": "markdown",
   "id": "78c256f6",
   "metadata": {},
   "source": [
    "# Cora Classification with SVGP"
   ]
  },
  {
   "cell_type": "markdown",
   "id": "0e82a520",
   "metadata": {},
   "source": [
    "## Setup"
   ]
  },
  {
   "cell_type": "code",
   "execution_count": 1,
   "id": "60953924",
   "metadata": {},
   "outputs": [],
   "source": [
    "import tensorflow as tf\n",
    "import numpy as np\n",
    "import scipy.special\n",
    "from sklearn.metrics import accuracy_score\n",
    "import gpflow\n",
    "import matplotlib.pyplot as plt\n",
    "import ipywidgets as widgets\n",
    "from IPython.display import display, clear_output\n",
    "import networkx as nx\n",
    "from gpflow.utilities import print_summary\n",
    "import tensorflow_probability as tfp\n",
    "import seaborn as sns\n",
    "from tqdm import tqdm\n",
    "\n",
    "import sys\n",
    "import os\n",
    "project_root = os.path.abspath(\"../..\")\n",
    "sys.path.append(project_root)\n",
    "import pandas as pd\n",
    "import pickle\n",
    "\n",
    "from efficient_graph_gp.graph_kernels import get_normalized_laplacian\n",
    "from efficient_graph_gp.gpflow_kernels import GraphDiffusionFastGRFKernel, GraphDiffusionPoFMKernel, GraphDiffusionKernel, GraphGeneralPoFMKernel, GraphGeneralFastGRFKernel\n",
    "from utils import compute_fro\n",
    "from cora_utils.preprocessing import load_PEMS, load_cora"
   ]
  },
  {
   "cell_type": "code",
   "execution_count": null,
   "id": "361ab33a",
   "metadata": {},
   "outputs": [],
   "source": [
    "# Global Hyperparameters\n",
    "MAX_WALK_LENGTH = 3\n",
    "LEARNING_RATE = 0.001\n",
    "NUM_EPOCHS = 1000\n",
    "M = 50\n",
    "batch_size = 140"
   ]
  },
  {
   "cell_type": "code",
   "execution_count": 3,
   "id": "d72fdb4d",
   "metadata": {},
   "outputs": [],
   "source": [
    "np.random.seed(123)\n",
    "num_eigenpairs = 500\n",
    "dataset = 'cora'\n",
    "cls_number = 7\n",
    "train_num = 140"
   ]
  },
  {
   "cell_type": "code",
   "execution_count": 4,
   "id": "89807031",
   "metadata": {},
   "outputs": [],
   "source": [
    "G, data_train, data_test = load_cora(num_train=train_num, num_test=1000)\n",
    "adjacency_matrix = nx.to_numpy_array(G) \n",
    "x_train, y_train = data_train\n",
    "x_test, y_test = data_test\n",
    "Z = x_train[np.random.choice(train_num, M, replace=False)].copy()"
   ]
  },
  {
   "cell_type": "markdown",
   "id": "080bde3f",
   "metadata": {},
   "source": [
    "## 1. PoFM Kernel"
   ]
  },
  {
   "cell_type": "markdown",
   "id": "f675343f",
   "metadata": {},
   "source": [
    "### Model Configuration"
   ]
  },
  {
   "cell_type": "code",
   "execution_count": 23,
   "id": "96f5fa24",
   "metadata": {},
   "outputs": [],
   "source": [
    "MAX_WALK_LENGTH = 3\n",
    "graph_kernel = GraphGeneralPoFMKernel(adjacency_matrix,\n",
    "                                      max_walk_length=MAX_WALK_LENGTH,\n",
    "                                      normalize_laplacian=True)\n",
    "likelihood = gpflow.likelihoods.MultiClass(num_classes=cls_number)\n",
    "\n",
    "model = gpflow.models.SVGP(\n",
    "    kernel=graph_kernel,\n",
    "    likelihood=likelihood,\n",
    "    inducing_variable=Z,\n",
    "    num_latent_gps=cls_number,\n",
    "    whiten=True,\n",
    ")"
   ]
  },
  {
   "cell_type": "markdown",
   "id": "87320f57",
   "metadata": {},
   "source": [
    "### Training"
   ]
  },
  {
   "cell_type": "code",
   "execution_count": 24,
   "id": "040589a0",
   "metadata": {},
   "outputs": [],
   "source": [
    "# 3. Adam optimizer + minibatch pipeline\n",
    "batch_size = 140 # full batch\n",
    "train_ds = tf.data.Dataset.from_tensor_slices((x_train, y_train)) \\\n",
    "                         .shuffle(train_num).batch(batch_size).repeat()\n",
    "\n",
    "opt = tf.optimizers.Adam(learning_rate=0.003)\n",
    "num_steps = 1000\n",
    "loss_history = []"
   ]
  },
  {
   "cell_type": "code",
   "execution_count": 25,
   "id": "295a18d9",
   "metadata": {},
   "outputs": [
    {
     "name": "stderr",
     "output_type": "stream",
     "text": [
      "Training SVGP:   0%|          | 0/1000 [00:00<?, ?step/s]/Users/matthew/Documents/Efficient Gaussian Process on Graphs/Efficient_Gaussian_Process_On_Graphs/venv/lib/python3.11/site-packages/keras/src/optimizers/base_optimizer.py:731: UserWarning: Gradients do not exist for variables ['Variable:0'] when minimizing the loss. If using `model.compile()`, did you forget to provide a `loss` argument?\n",
      "  warnings.warn(\n",
      "Training SVGP: 100%|██████████| 1000/1000 [34:35<00:00,  2.08s/step, loss=-3.638e+02] \n"
     ]
    }
   ],
   "source": [
    "train_iter = iter(train_ds)  # endless iterator\n",
    "pbar = tqdm(range(num_steps), desc=\"Training SVGP\", unit=\"step\")\n",
    "\n",
    "for step in pbar:\n",
    "    Xb, Yb = next(train_iter)\n",
    "    with tf.GradientTape() as tape:\n",
    "        loss = model.training_loss((Xb, Yb))   # negative ELBO\n",
    "    grads = tape.gradient(loss, model.trainable_variables)\n",
    "    opt.apply_gradients(zip(grads, model.trainable_variables))\n",
    "\n",
    "    # record the ELBO (positive) rather than its negative\n",
    "    elbo = -loss.numpy()\n",
    "    loss_history.append(elbo)\n",
    "\n",
    "    # update the bar with the latest loss\n",
    "    pbar.set_postfix(loss=f\"{elbo:.3e}\")"
   ]
  },
  {
   "cell_type": "code",
   "execution_count": 26,
   "id": "f3aebe1c",
   "metadata": {},
   "outputs": [
    {
     "data": {
      "text/plain": [
       "array([ 0.3961412 , -0.74398868,  0.32136239])"
      ]
     },
     "execution_count": 26,
     "metadata": {},
     "output_type": "execute_result"
    }
   ],
   "source": [
    "# Save the Learned hyperparameters\n",
    "learned_hyperparameters = {\n",
    "    \"modulator_vector\": model.kernel.modulator_vector.numpy()\n",
    "}\n",
    "\n",
    "learned_hyperparameters[\"modulator_vector\"]"
   ]
  },
  {
   "cell_type": "code",
   "execution_count": 27,
   "id": "b16764e3",
   "metadata": {},
   "outputs": [
    {
     "name": "stdout",
     "output_type": "stream",
     "text": [
      "╒═════════════════════════════════╤═══════════╤════════════════╤═════════╤═════════════╤═══════════════╤═════════╤═══════════════════════════════════════════════════════╕\n",
      "│ name                            │ class     │ transform      │ prior   │ trainable   │ shape         │ dtype   │ value                                                 │\n",
      "╞═════════════════════════════════╪═══════════╪════════════════╪═════════╪═════════════╪═══════════════╪═════════╪═══════════════════════════════════════════════════════╡\n",
      "│ SVGP.kernel.modulator_vector    │ Parameter │ Identity       │         │ True        │ (3,)          │ float64 │ [ 0.3961412  -0.74398868  0.32136239]                 │\n",
      "├─────────────────────────────────┼───────────┼────────────────┼─────────┼─────────────┼───────────────┼─────────┼───────────────────────────────────────────────────────┤\n",
      "│ SVGP.likelihood.invlink.epsilon │ Parameter │ Sigmoid        │ Beta    │ False       │ ()            │ float64 │ 0.0010000000000000002                                 │\n",
      "├─────────────────────────────────┼───────────┼────────────────┼─────────┼─────────────┼───────────────┼─────────┼───────────────────────────────────────────────────────┤\n",
      "│ SVGP.inducing_variable.Z        │ Parameter │ Identity       │         │ True        │ (140, 1)      │ float64 │ [[2083....                                            │\n",
      "├─────────────────────────────────┼───────────┼────────────────┼─────────┼─────────────┼───────────────┼─────────┼───────────────────────────────────────────────────────┤\n",
      "│ SVGP.q_mu                       │ Parameter │ Identity       │         │ True        │ (140, 7)      │ float64 │ [[1.97848000e+00, -3.53276421e-01, -3.53246728e-01... │\n",
      "├─────────────────────────────────┼───────────┼────────────────┼─────────┼─────────────┼───────────────┼─────────┼───────────────────────────────────────────────────────┤\n",
      "│ SVGP.q_sqrt                     │ Parameter │ FillTriangular │         │ True        │ (7, 140, 140) │ float64 │ [[[5.24132865e-01, 0.00000000e+00, 0.00000000e+00...  │\n",
      "╘═════════════════════════════════╧═══════════╧════════════════╧═════════╧═════════════╧═══════════════╧═════════╧═══════════════════════════════════════════════════════╛\n"
     ]
    }
   ],
   "source": [
    "print_summary(model)"
   ]
  },
  {
   "cell_type": "code",
   "execution_count": 28,
   "id": "10588f95",
   "metadata": {},
   "outputs": [
    {
     "name": "stdout",
     "output_type": "stream",
     "text": [
      "Test accuracy: 70.3%\n"
     ]
    }
   ],
   "source": [
    "# 5. Evaluate\n",
    "probs, _ = model.predict_y(x_test)\n",
    "y_pred   = np.argmax(probs, axis=1)\n",
    "acc      = accuracy_score(y_test, y_pred)\n",
    "print(f\"Test accuracy: {acc*100:.1f}%\")"
   ]
  },
  {
   "cell_type": "code",
   "execution_count": 29,
   "id": "2881f3fe",
   "metadata": {},
   "outputs": [
    {
     "data": {
      "image/png": "[encoded data removed]",
      "text/plain": [
       "<Figure size 600x400 with 1 Axes>"
      ]
     },
     "metadata": {},
     "output_type": "display_data"
    }
   ],
   "source": [
    "# --- Plot 1: ELBO (actually negative loss) over iterations ---\n",
    "plt.figure(figsize=(6,4))\n",
    "plt.plot(loss_history, marker='o', linestyle='-')\n",
    "plt.xlabel(\"Iteration\")\n",
    "plt.ylabel(\"Negative ELBO Loss\")\n",
    "plt.title(\"Training Loss History\")\n",
    "plt.grid(True)\n",
    "plt.tight_layout()\n",
    "plt.show()"
   ]
  },
  {
   "cell_type": "markdown",
   "id": "c3925687",
   "metadata": {},
   "source": [
    "## 2. Diffusion Kernel"
   ]
  },
  {
   "cell_type": "code",
   "execution_count": 18,
   "id": "cb7d2f01",
   "metadata": {},
   "outputs": [],
   "source": [
    "graph_kernel = GraphDiffusionKernel(adjacency_matrix)\n",
    "likelihood = gpflow.likelihoods.MultiClass(num_classes=cls_number)\n",
    "\n",
    "model = gpflow.models.SVGP(\n",
    "    kernel=graph_kernel,\n",
    "    likelihood=likelihood,\n",
    "    inducing_variable=Z,\n",
    "    num_latent_gps=cls_number,\n",
    "    whiten=True,\n",
    ")"
   ]
  },
  {
   "cell_type": "code",
   "execution_count": 19,
   "id": "b7403e72",
   "metadata": {},
   "outputs": [],
   "source": [
    "batch_size = 140 # full batch\n",
    "train_ds = tf.data.Dataset.from_tensor_slices((x_train, y_train)) \\\n",
    "                         .shuffle(train_num).batch(batch_size).repeat()\n",
    "\n",
    "opt = tf.optimizers.Adam(learning_rate=0.001)\n",
    "num_steps = 5\n",
    "loss_history = []"
   ]
  },
  {
   "cell_type": "code",
   "execution_count": 20,
   "id": "648cda1b",
   "metadata": {},
   "outputs": [
    {
     "name": "stderr",
     "output_type": "stream",
     "text": [
      "Training SVGP:   0%|          | 0/5 [00:00<?, ?step/s]/Users/matthew/Documents/Efficient Gaussian Process on Graphs/Efficient_Gaussian_Process_On_Graphs/venv/lib/python3.11/site-packages/keras/src/optimizers/base_optimizer.py:731: UserWarning: Gradients do not exist for variables ['Variable:0'] when minimizing the loss. If using `model.compile()`, did you forget to provide a `loss` argument?\n",
      "  warnings.warn(\n",
      "Training SVGP: 100%|██████████| 5/5 [16:55<00:00, 203.02s/step, loss=-1.040e+03]\n"
     ]
    }
   ],
   "source": [
    "train_iter = iter(train_ds)  # endless iterator\n",
    "pbar = tqdm(range(num_steps), desc=\"Training SVGP\", unit=\"step\")\n",
    "\n",
    "for step in pbar:\n",
    "    Xb, Yb = next(train_iter)\n",
    "    with tf.GradientTape() as tape:\n",
    "        loss = model.training_loss((Xb, Yb))   # negative ELBO\n",
    "    grads = tape.gradient(loss, model.trainable_variables)\n",
    "    opt.apply_gradients(zip(grads, model.trainable_variables))\n",
    "\n",
    "    # record the ELBO (positive) rather than its negative\n",
    "    elbo = -loss.numpy()\n",
    "    loss_history.append(elbo)\n",
    "\n",
    "    # update the bar with the latest loss\n",
    "    pbar.set_postfix(loss=f\"{elbo:.3e}\")"
   ]
  },
  {
   "cell_type": "code",
   "execution_count": 21,
   "id": "f2b24263",
   "metadata": {},
   "outputs": [
    {
     "name": "stdout",
     "output_type": "stream",
     "text": [
      "Test accuracy: 72.1%\n"
     ]
    }
   ],
   "source": [
    "# 5. Evaluate\n",
    "probs, _ = model.predict_y(x_test)\n",
    "y_pred   = np.argmax(probs, axis=1)\n",
    "acc      = accuracy_score(y_test, y_pred)\n",
    "print(f\"Test accuracy: {acc*100:.1f}%\")"
   ]
  },
  {
   "cell_type": "code",
   "execution_count": 22,
   "id": "299abe11",
   "metadata": {},
   "outputs": [
    {
     "name": "stdout",
     "output_type": "stream",
     "text": [
      "╒═════════════════════════════════╤═══════════╤════════════════╤═════════╤═════════════╤═══════════════╤═════════╤══════════════════════════════════════════════════════╕\n",
      "│ name                            │ class     │ transform      │ prior   │ trainable   │ shape         │ dtype   │ value                                                │\n",
      "╞═════════════════════════════════╪═══════════╪════════════════╪═════════╪═════════════╪═══════════════╪═════════╪══════════════════════════════════════════════════════╡\n",
      "│ SVGP.kernel.beta                │ Parameter │ Softplus       │         │ True        │ ()            │ float64 │ 2.0029                                               │\n",
      "├─────────────────────────────────┼───────────┼────────────────┼─────────┼─────────────┼───────────────┼─────────┼──────────────────────────────────────────────────────┤\n",
      "│ SVGP.kernel.sigma_f             │ Parameter │ Softplus       │         │ True        │ ()            │ float64 │ 1.0016                                               │\n",
      "├─────────────────────────────────┼───────────┼────────────────┼─────────┼─────────────┼───────────────┼─────────┼──────────────────────────────────────────────────────┤\n",
      "│ SVGP.likelihood.invlink.epsilon │ Parameter │ Sigmoid        │ Beta    │ False       │ ()            │ float64 │ 0.0010000000000000002                                │\n",
      "├─────────────────────────────────┼───────────┼────────────────┼─────────┼─────────────┼───────────────┼─────────┼──────────────────────────────────────────────────────┤\n",
      "│ SVGP.inducing_variable.Z        │ Parameter │ Identity       │         │ True        │ (140, 1)      │ float64 │ [[2083....                                           │\n",
      "├─────────────────────────────────┼───────────┼────────────────┼─────────┼─────────────┼───────────────┼─────────┼──────────────────────────────────────────────────────┤\n",
      "│ SVGP.q_mu                       │ Parameter │ Identity       │         │ True        │ (140, 7)      │ float64 │ [[0.00500128, -0.00500055, -0.00500055...            │\n",
      "├─────────────────────────────────┼───────────┼────────────────┼─────────┼─────────────┼───────────────┼─────────┼──────────────────────────────────────────────────────┤\n",
      "│ SVGP.q_sqrt                     │ Parameter │ FillTriangular │         │ True        │ (7, 140, 140) │ float64 │ [[[1.00500000e+00, 0.00000000e+00, 0.00000000e+00... │\n",
      "╘═════════════════════════════════╧═══════════╧════════════════╧═════════╧═════════════╧═══════════════╧═════════╧══════════════════════════════════════════════════════╛\n"
     ]
    }
   ],
   "source": [
    "print_summary(model)"
   ]
  },
  {
   "cell_type": "markdown",
   "id": "3cc78184",
   "metadata": {},
   "source": [
    "## 3. GRF Kernel"
   ]
  },
  {
   "cell_type": "markdown",
   "id": "d3f983d9",
   "metadata": {},
   "source": [
    "### Choose a good number of walks per node $m$"
   ]
  },
  {
   "cell_type": "code",
   "execution_count": null,
   "id": "13ba6fc1",
   "metadata": {},
   "outputs": [
    {
     "name": "stderr",
     "output_type": "stream",
     "text": [
      "Random walks: 100%|██████████| 2485/2485 [00:00<00:00, 16655.85it/s]\n",
      "Random walks: 100%|██████████| 2485/2485 [00:00<00:00, 8982.69it/s]\n",
      "Random walks: 100%|██████████| 2485/2485 [00:00<00:00, 6103.34it/s]\n",
      "Random walks: 100%|██████████| 2485/2485 [00:00<00:00, 3710.78it/s]\n",
      "Random walks: 100%|██████████| 2485/2485 [00:01<00:00, 2100.69it/s]\n",
      "Random walks: 100%|██████████| 2485/2485 [00:02<00:00, 1059.31it/s]\n",
      "Random walks: 100%|██████████| 2485/2485 [00:04<00:00, 558.74it/s]\n",
      "Random walks: 100%|██████████| 2485/2485 [00:09<00:00, 270.55it/s]\n",
      "Random walks: 100%|██████████| 2485/2485 [00:17<00:00, 139.99it/s]\n",
      "Random walks: 100%|██████████| 2485/2485 [00:34<00:00, 72.06it/s]\n",
      "Random walks: 100%|██████████| 2485/2485 [01:10<00:00, 35.47it/s]\n",
      "Walk lengths: 100%|██████████| 11/11 [02:28<00:00, 13.53s/it]\n"
     ]
    }
   ],
   "source": [
    "# MAX_WALK_LENGTH = 3\n",
    "# walks_per_nodes = [1,2,4,8,16,32,64,128,256,512,1024]\n",
    "# grf_gram_matrices = []\n",
    "\n",
    "# # beta_test = 0.1\n",
    "\n",
    "# pofm_kernel = GraphGeneralPoFMKernel(adjacency_matrix,\n",
    "#                                       max_walk_length=MAX_WALK_LENGTH,\n",
    "#                                       normalize_laplacian=True) # note a random initialization of modulation function is used.\n",
    "\n",
    "\n",
    "# gram_pofm = pofm_kernel.pofm_kernel(modulator_vector=learned_hyperparameters[\"modulator_vector\"])\n",
    "\n",
    "# for walks_per_node in tqdm(walks_per_nodes, desc='Walk lengths'):\n",
    "#     # Create the graph kernel with the current walk length\n",
    "#     graph_kernel = GraphGeneralFastGRFKernel(adjacency_matrix,\n",
    "#                                              walks_per_node=walks_per_node,\n",
    "#                                              p_halt=0.1,\n",
    "#                                              max_walk_length=MAX_WALK_LENGTH,\n",
    "#                                              modulator_vector=learned_hyperparameters[\"modulator_vector\"])\n",
    "#     grf_gram_matrices.append(graph_kernel.grf_kernel(modulator_vector=learned_hyperparameters[\"modulator_vector\"]))"
   ]
  },
  {
   "cell_type": "code",
   "execution_count": null,
   "id": "0d7ac6f8",
   "metadata": {},
   "outputs": [
    {
     "data": {
      "image/png": "[encoded data removed]",
      "text/plain": [
       "<Figure size 600x600 with 1 Axes>"
      ]
     },
     "metadata": {},
     "output_type": "display_data"
    }
   ],
   "source": [
    "# # Calculate Frobenius norms\n",
    "# frobenius_norms = [compute_fro(gram_pofm, grf_gram) for grf_gram in grf_gram_matrices]\n",
    "\n",
    "# # Plot Frobenius norm vs. Number of Walkers\n",
    "# plt.figure(figsize=(6, 6))\n",
    "# plt.plot(walks_per_nodes, frobenius_norms, marker='o', linestyle='-', color='b')\n",
    "# plt.xlabel('Number of Walkers')\n",
    "# plt.xscale('log')\n",
    "# plt.ylabel('Frobenius Norm')\n",
    "# plt.yscale('log')\n",
    "# plt.title('Frobenius Norm vs Number of Walkers')\n",
    "# plt.grid(True)\n",
    "# plt.show()"
   ]
  },
  {
   "cell_type": "code",
   "execution_count": null,
   "id": "4dead25c",
   "metadata": {},
   "outputs": [
    {
     "name": "stdout",
     "output_type": "stream",
     "text": [
      "Saved CSV to ./data/frobenius_norms.csv\n"
     ]
    }
   ],
   "source": [
    "# ensure the data directory exists\n",
    "os.makedirs('./data', exist_ok=True)\n",
    "\n",
    "# assume walks_per_nodes and frobenius_norms are already defined lists or arrays\n",
    "walks = np.array(walks_per_nodes)\n",
    "fros   = np.array(frobenius_norms)\n",
    "\n",
    "# 1) Save as CSV\n",
    "df = pd.DataFrame({\n",
    "    'walks_per_node': walks,\n",
    "    'frobenius_norm': fros\n",
    "})\n",
    "csv_path = './data/frobenius_norms.csv'\n",
    "df.to_csv(csv_path, index=False)\n",
    "print(f\"Saved CSV to {csv_path}\")"
   ]
  },
  {
   "cell_type": "markdown",
   "id": "8b885d48",
   "metadata": {},
   "source": [
    "### Model Configuration"
   ]
  },
  {
   "cell_type": "code",
   "execution_count": 30,
   "id": "53aa9255",
   "metadata": {},
   "outputs": [
    {
     "name": "stderr",
     "output_type": "stream",
     "text": [
      "Random walks: 100%|██████████| 2485/2485 [06:10<00:00,  6.71it/s]\n"
     ]
    }
   ],
   "source": [
    "graph_kernel = GraphGeneralFastGRFKernel(\n",
    "    adjacency_matrix,\n",
    "    walks_per_node=4096,  # Use the last value from the list\n",
    "    p_halt=0.1,\n",
    "    max_walk_length=MAX_WALK_LENGTH,\n",
    "    modulator_vector=learned_hyperparameters[\"modulator_vector\"]\n",
    ")\n",
    "likelihood = gpflow.likelihoods.MultiClass(num_classes=cls_number)\n",
    "\n",
    "model = gpflow.models.SVGP(\n",
    "    kernel=graph_kernel,\n",
    "    likelihood=likelihood,\n",
    "    inducing_variable=Z,\n",
    "    num_latent_gps=cls_number,\n",
    "    whiten=True,\n",
    ")"
   ]
  },
  {
   "cell_type": "code",
   "execution_count": 31,
   "id": "9ac0dfdc",
   "metadata": {},
   "outputs": [],
   "source": [
    "batch_size = 140 # full batch\n",
    "train_ds = tf.data.Dataset.from_tensor_slices((x_train, y_train)) \\\n",
    "                         .shuffle(train_num).batch(batch_size).repeat()\n",
    "\n",
    "opt = tf.optimizers.Adam(learning_rate=0.003)\n",
    "num_steps = 500\n",
    "loss_history = []"
   ]
  },
  {
   "cell_type": "code",
   "execution_count": 32,
   "id": "c4ae054e",
   "metadata": {},
   "outputs": [
    {
     "name": "stderr",
     "output_type": "stream",
     "text": [
      "Training SVGP:   0%|          | 0/500 [00:00<?, ?step/s]/Users/matthew/Documents/Efficient Gaussian Process on Graphs/Efficient_Gaussian_Process_On_Graphs/venv/lib/python3.11/site-packages/keras/src/optimizers/base_optimizer.py:731: UserWarning: Gradients do not exist for variables ['Variable:0'] when minimizing the loss. If using `model.compile()`, did you forget to provide a `loss` argument?\n",
      "  warnings.warn(\n",
      "Training SVGP: 100%|██████████| 500/500 [17:58<00:00,  2.16s/step, loss=-3.882e+02]\n"
     ]
    }
   ],
   "source": [
    "train_iter = iter(train_ds)  # endless iterator\n",
    "pbar = tqdm(range(num_steps), desc=\"Training SVGP\", unit=\"step\")\n",
    "\n",
    "for step in pbar:\n",
    "    Xb, Yb = next(train_iter)\n",
    "    with tf.GradientTape() as tape:\n",
    "        loss = model.training_loss((Xb, Yb))   # negative ELBO\n",
    "    grads = tape.gradient(loss, model.trainable_variables)\n",
    "    opt.apply_gradients(zip(grads, model.trainable_variables))\n",
    "\n",
    "    # record the ELBO (positive) rather than its negative\n",
    "    elbo = -loss.numpy()\n",
    "    loss_history.append(elbo)\n",
    "\n",
    "    # update the bar with the latest loss\n",
    "    pbar.set_postfix(loss=f\"{elbo:.3e}\")"
   ]
  },
  {
   "cell_type": "code",
   "execution_count": 33,
   "id": "6d824917",
   "metadata": {},
   "outputs": [
    {
     "name": "stdout",
     "output_type": "stream",
     "text": [
      "Test accuracy: 70.5%\n"
     ]
    }
   ],
   "source": [
    "# 5. Evaluate\n",
    "probs, _ = model.predict_y(x_test)\n",
    "y_pred   = np.argmax(probs, axis=1)\n",
    "acc      = accuracy_score(y_test, y_pred)\n",
    "print(f\"Test accuracy: {acc*100:.1f}%\")"
   ]
  },
  {
   "cell_type": "code",
   "execution_count": 34,
   "id": "a9ce56c0",
   "metadata": {},
   "outputs": [
    {
     "data": {
      "image/png": "[encoded data removed]",
      "text/plain": [
       "<Figure size 600x400 with 1 Axes>"
      ]
     },
     "metadata": {},
     "output_type": "display_data"
    }
   ],
   "source": [
    "# --- Plot 1: ELBO (actually negative loss) over iterations ---\n",
    "plt.figure(figsize=(6,4))\n",
    "plt.plot(loss_history, marker='o', linestyle='-')\n",
    "plt.xlabel(\"Iteration\")\n",
    "plt.ylabel(\"Negative ELBO Loss\")\n",
    "plt.title(\"Training Loss History\")\n",
    "plt.grid(True)\n",
    "plt.tight_layout()\n",
    "plt.show()"
   ]
  },
  {
   "cell_type": "markdown",
   "id": "5d620eb8",
   "metadata": {},
   "source": [
    "## Matern Kernel: Accuracy 79.4%"
   ]
  },
  {
   "cell_type": "code",
   "execution_count": null,
   "id": "997a26cf",
   "metadata": {},
   "outputs": [],
   "source": []
  }
 ],
 "metadata": {
  "kernelspec": {
   "display_name": "venv",
   "language": "python",
   "name": "python3"
  },
  "language_info": {
   "codemirror_mode": {
    "name": "ipython",
    "version": 3
   },
   "file_extension": ".py",
   "mimetype": "text/x-python",
   "name": "python",
   "nbconvert_exporter": "python",
   "pygments_lexer": "ipython3",
   "version": "3.11.5"
  }
 },
 "nbformat": 4,
 "nbformat_minor": 5
}
