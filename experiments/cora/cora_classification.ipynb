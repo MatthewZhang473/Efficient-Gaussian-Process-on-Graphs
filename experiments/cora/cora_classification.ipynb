{
 "cells": [
  {
   "cell_type": "markdown",
   "id": "78c256f6",
   "metadata": {},
   "source": [
    "# Cora Classification with SVGP"
   ]
  },
  {
   "cell_type": "markdown",
   "id": "0e82a520",
   "metadata": {},
   "source": [
    "## Setup"
   ]
  },
  {
   "cell_type": "code",
   "execution_count": 1,
   "id": "60953924",
   "metadata": {},
   "outputs": [],
   "source": [
    "import tensorflow as tf\n",
    "import numpy as np\n",
    "import scipy.special\n",
    "import gpflow\n",
    "import matplotlib.pyplot as plt\n",
    "import ipywidgets as widgets\n",
    "from IPython.display import display, clear_output\n",
    "import networkx as nx\n",
    "from gpflow.utilities import print_summary\n",
    "import tensorflow_probability as tfp\n",
    "import seaborn as sns\n",
    "from tqdm import tqdm\n",
    "\n",
    "import sys\n",
    "import os\n",
    "project_root = os.path.abspath(\"../..\")\n",
    "sys.path.append(project_root)\n",
    "\n",
    "from efficient_graph_gp.graph_kernels import get_normalized_laplacian\n",
    "from efficient_graph_gp.gpflow_kernels import GraphDiffusionFastGRFKernel, GraphDiffusionPoFMKernel, GraphDiffusionKernel, GraphGeneralPoFMKernel, GraphGeneralFastGRFKernel\n",
    "from utils import compute_fro\n",
    "from cora_utils.preprocessing import load_PEMS, load_cora"
   ]
  },
  {
   "cell_type": "code",
   "execution_count": 2,
   "id": "d72fdb4d",
   "metadata": {},
   "outputs": [],
   "source": [
    "np.random.seed(123)\n",
    "num_eigenpairs = 500\n",
    "dataset = 'cora'\n",
    "cls_number = 7\n",
    "train_num = 140"
   ]
  },
  {
   "cell_type": "code",
   "execution_count": 3,
   "id": "89807031",
   "metadata": {},
   "outputs": [],
   "source": [
    "G, data_train, data_test = load_cora(num_train=train_num, num_test=1000)\n",
    "adjacency_matrix = nx.to_numpy_array(G) \n",
    "x_train, y_train = data_train\n",
    "x_test, y_test = data_test"
   ]
  },
  {
   "cell_type": "markdown",
   "id": "080bde3f",
   "metadata": {},
   "source": [
    "## Build PoFM Kernel"
   ]
  },
  {
   "cell_type": "code",
   "execution_count": 4,
   "id": "96f5fa24",
   "metadata": {},
   "outputs": [],
   "source": [
    "MAX_WALK_LENGTH = 3"
   ]
  },
  {
   "cell_type": "code",
   "execution_count": 5,
   "id": "0f7b4006",
   "metadata": {},
   "outputs": [],
   "source": [
    "graph_kernel = GraphGeneralPoFMKernel(adjacency_matrix,\n",
    "                                      max_walk_length=MAX_WALK_LENGTH,\n",
    "                                      normalize_laplacian=True)"
   ]
  },
  {
   "cell_type": "code",
   "execution_count": 6,
   "id": "37630a04",
   "metadata": {},
   "outputs": [],
   "source": [
    "likelihood = gpflow.likelihoods.MultiClass(num_classes=cls_number)"
   ]
  },
  {
   "cell_type": "code",
   "execution_count": null,
   "id": "34891c25",
   "metadata": {},
   "outputs": [],
   "source": [
    "# pick M inducing points\n",
    "M = 140\n",
    "Z = x_train[np.random.choice(train_num, M, replace=False)].copy()\n",
    "\n",
    "model = gpflow.models.SVGP(\n",
    "    kernel=graph_kernel,\n",
    "    likelihood=likelihood,\n",
    "    inducing_variable=Z,\n",
    "    num_latent_gps=cls_number,\n",
    "    whiten=True,\n",
    ")"
   ]
  },
  {
   "cell_type": "markdown",
   "id": "87320f57",
   "metadata": {},
   "source": [
    "## Training"
   ]
  },
  {
   "cell_type": "code",
   "execution_count": null,
   "id": "040589a0",
   "metadata": {},
   "outputs": [],
   "source": [
    "# 3. Adam optimizer + minibatch pipeline\n",
    "batch_size = 140 # full batch\n",
    "train_ds = tf.data.Dataset.from_tensor_slices((x_train, y_train)) \\\n",
    "                         .shuffle(train_num).batch(batch_size).repeat()\n",
    "\n",
    "opt = tf.optimizers.Adam(learning_rate=0.01)\n",
    "num_steps = 1000\n",
    "loss_history = []"
   ]
  },
  {
   "cell_type": "code",
   "execution_count": 9,
   "id": "295a18d9",
   "metadata": {},
   "outputs": [
    {
     "name": "stderr",
     "output_type": "stream",
     "text": [
      "Training SVGP:   0%|          | 0/200 [00:00<?, ?step/s]/Users/matthew/Documents/Efficient Gaussian Process on Graphs/Efficient_Gaussian_Process_On_Graphs/venv/lib/python3.11/site-packages/keras/src/optimizers/base_optimizer.py:731: UserWarning: Gradients do not exist for variables ['Variable:0'] when minimizing the loss. If using `model.compile()`, did you forget to provide a `loss` argument?\n",
      "  warnings.warn(\n",
      "Training SVGP: 100%|██████████| 200/200 [07:04<00:00,  2.12s/step, loss=-7.477e+02]\n"
     ]
    }
   ],
   "source": [
    "train_iter = iter(train_ds)  # endless iterator\n",
    "pbar = tqdm(range(num_steps), desc=\"Training SVGP\", unit=\"step\")\n",
    "\n",
    "for step in pbar:\n",
    "    Xb, Yb = next(train_iter)\n",
    "    with tf.GradientTape() as tape:\n",
    "        loss = model.training_loss((Xb, Yb))   # negative ELBO\n",
    "    grads = tape.gradient(loss, model.trainable_variables)\n",
    "    opt.apply_gradients(zip(grads, model.trainable_variables))\n",
    "\n",
    "    # record the ELBO (positive) rather than its negative\n",
    "    elbo = -loss.numpy()\n",
    "    loss_history.append(elbo)\n",
    "\n",
    "    # update the bar with the latest loss\n",
    "    pbar.set_postfix(loss=f\"{elbo:.3e}\")"
   ]
  },
  {
   "cell_type": "code",
   "execution_count": 10,
   "id": "10588f95",
   "metadata": {},
   "outputs": [
    {
     "name": "stdout",
     "output_type": "stream",
     "text": [
      "Test accuracy: 58.0%\n"
     ]
    }
   ],
   "source": [
    "# 5. Evaluate\n",
    "from sklearn.metrics import accuracy_score\n",
    "probs, _ = model.predict_y(x_test)\n",
    "y_pred   = np.argmax(probs, axis=1)\n",
    "acc      = accuracy_score(y_test, y_pred)\n",
    "print(f\"Test accuracy: {acc*100:.1f}%\")"
   ]
  },
  {
   "cell_type": "code",
   "execution_count": 12,
   "id": "3a6cff60",
   "metadata": {},
   "outputs": [
    {
     "data": {
      "text/html": [
       "&lt;gpflow.models.svgp.SVGP object at 0x332d694d0&gt;\n",
       "<table>\n",
       "<thead>\n",
       "<tr><th>name                           </th><th>class    </th><th>transform     </th><th>prior  </th><th>trainable  </th><th>shape      </th><th>dtype  </th><th>value                                                </th></tr>\n",
       "</thead>\n",
       "<tbody>\n",
       "<tr><td>SVGP.kernel.modulator_vector   </td><td>Parameter</td><td>Identity      </td><td>       </td><td>True       </td><td>(3,)       </td><td>float64</td><td>[ 0.51659137 -0.94079004  0.39754024]                </td></tr>\n",
       "<tr><td>SVGP.likelihood.invlink.epsilon</td><td>Parameter</td><td>Sigmoid       </td><td>Beta   </td><td>False      </td><td>()         </td><td>float64</td><td>0.0010000000000000002                                </td></tr>\n",
       "<tr><td>SVGP.inducing_variable.Z       </td><td>Parameter</td><td>Identity      </td><td>       </td><td>True       </td><td>(50, 1)    </td><td>float64</td><td>[[2461....                                           </td></tr>\n",
       "<tr><td>SVGP.q_mu                      </td><td>Parameter</td><td>Identity      </td><td>       </td><td>True       </td><td>(50, 7)    </td><td>float64</td><td>[[-3.19552562e-01, -3.19415207e-01, 1.92643000e+00...</td></tr>\n",
       "<tr><td>SVGP.q_sqrt                    </td><td>Parameter</td><td>FillTriangular</td><td>       </td><td>True       </td><td>(7, 50, 50)</td><td>float64</td><td>[[[7.72417023e-01, 0.00000000e+00, 0.00000000e+00... </td></tr>\n",
       "</tbody>\n",
       "</table>"
      ],
      "text/plain": [
       "<gpflow.models.svgp.SVGP object at 0x332d694d0>\n",
       "╒═════════════════════════════════╤═══════════╤════════════════╤═════════╤═════════════╤═════════════╤═════════╤═══════════════════════════════════════════════════════╕\n",
       "│ name                            │ class     │ transform      │ prior   │ trainable   │ shape       │ dtype   │ value                                                 │\n",
       "╞═════════════════════════════════╪═══════════╪════════════════╪═════════╪═════════════╪═════════════╪═════════╪═══════════════════════════════════════════════════════╡\n",
       "│ SVGP.kernel.modulator_vector    │ Parameter │ Identity       │         │ True        │ (3,)        │ float64 │ [ 0.51659137 -0.94079004  0.39754024]                 │\n",
       "├─────────────────────────────────┼───────────┼────────────────┼─────────┼─────────────┼─────────────┼─────────┼───────────────────────────────────────────────────────┤\n",
       "│ SVGP.likelihood.invlink.epsilon │ Parameter │ Sigmoid        │ Beta    │ False       │ ()          │ float64 │ 0.0010000000000000002                                 │\n",
       "├─────────────────────────────────┼───────────┼────────────────┼─────────┼─────────────┼─────────────┼─────────┼───────────────────────────────────────────────────────┤\n",
       "│ SVGP.inducing_variable.Z        │ Parameter │ Identity       │         │ True        │ (50, 1)     │ float64 │ [[2461....                                            │\n",
       "├─────────────────────────────────┼───────────┼────────────────┼─────────┼─────────────┼─────────────┼─────────┼───────────────────────────────────────────────────────┤\n",
       "│ SVGP.q_mu                       │ Parameter │ Identity       │         │ True        │ (50, 7)     │ float64 │ [[-3.19552562e-01, -3.19415207e-01, 1.92643000e+00... │\n",
       "├─────────────────────────────────┼───────────┼────────────────┼─────────┼─────────────┼─────────────┼─────────┼───────────────────────────────────────────────────────┤\n",
       "│ SVGP.q_sqrt                     │ Parameter │ FillTriangular │         │ True        │ (7, 50, 50) │ float64 │ [[[7.72417023e-01, 0.00000000e+00, 0.00000000e+00...  │\n",
       "╘═════════════════════════════════╧═══════════╧════════════════╧═════════╧═════════════╧═════════════╧═════════╧═══════════════════════════════════════════════════════╛"
      ]
     },
     "execution_count": 12,
     "metadata": {},
     "output_type": "execute_result"
    }
   ],
   "source": [
    "model"
   ]
  },
  {
   "cell_type": "code",
   "execution_count": 11,
   "id": "2881f3fe",
   "metadata": {},
   "outputs": [
    {
     "data": {
      "image/png": "[encoded data removed]",
      "text/plain": [
       "<Figure size 600x400 with 1 Axes>"
      ]
     },
     "metadata": {},
     "output_type": "display_data"
    }
   ],
   "source": [
    "import matplotlib.pyplot as plt\n",
    "\n",
    "# --- Plot 1: ELBO (actually negative loss) over iterations ---\n",
    "plt.figure(figsize=(6,4))\n",
    "plt.plot(loss_history, marker='o', linestyle='-')\n",
    "plt.xlabel(\"Iteration\")\n",
    "plt.ylabel(\"Negative ELBO Loss\")\n",
    "plt.title(\"Training Loss History\")\n",
    "plt.grid(True)\n",
    "plt.tight_layout()\n",
    "plt.show()"
   ]
  }
 ],
 "metadata": {
  "kernelspec": {
   "display_name": "venv",
   "language": "python",
   "name": "python3"
  },
  "language_info": {
   "codemirror_mode": {
    "name": "ipython",
    "version": 3
   },
   "file_extension": ".py",
   "mimetype": "text/x-python",
   "name": "python",
   "nbconvert_exporter": "python",
   "pygments_lexer": "ipython3",
   "version": "3.11.5"
  }
 },
 "nbformat": 4,
 "nbformat_minor": 5
}
