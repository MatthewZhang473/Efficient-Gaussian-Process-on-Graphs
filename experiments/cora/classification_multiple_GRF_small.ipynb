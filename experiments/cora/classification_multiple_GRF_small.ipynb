{
 "cells": [
  {
   "cell_type": "markdown",
   "metadata": {},
   "source": [
    "# Graph GP Classification\n",
    "\n",
    "## Preamble\n",
    "This notebook provides an example of Gaussian process classification on a graph using Graph Matern kernel and non-conjugate learning techiques described in the paper."
   ]
  },
  {
   "cell_type": "code",
   "execution_count": 1,
   "metadata": {},
   "outputs": [],
   "source": [
    "import tensorflow as tf\n",
    "import numpy as np\n",
    "import scipy.special\n",
    "from sklearn.metrics import accuracy_score\n",
    "import gpflow\n",
    "import matplotlib.pyplot as plt\n",
    "import ipywidgets as widgets\n",
    "from IPython.display import display, clear_output\n",
    "import networkx as nx\n",
    "from gpflow.utilities import print_summary\n",
    "import tensorflow_probability as tfp\n",
    "import seaborn as sns\n",
    "from tqdm import tqdm\n",
    "\n",
    "import sys\n",
    "import os\n",
    "project_root = os.path.abspath(\"../..\")\n",
    "sys.path.append(project_root)\n",
    "import pandas as pd\n",
    "import pickle\n",
    "\n",
    "from efficient_graph_gp.graph_kernels import get_normalized_laplacian\n",
    "from efficient_graph_gp.gpflow_kernels import GraphDiffusionFastGRFKernel, GraphDiffusionPoFMKernel, GraphDiffusionKernel, GraphGeneralPoFMKernel, GraphGeneralFastGRFKernel\n",
    "from utils import compute_fro\n",
    "from cora_utils.preprocessing import load_PEMS, load_cora"
   ]
  },
  {
   "cell_type": "code",
   "execution_count": 2,
   "metadata": {
    "pycharm": {
     "name": "#%%\n"
    }
   },
   "outputs": [],
   "source": [
    "dtype = tf.float64\n",
    "gpflow.config.set_default_float(dtype)\n",
    "gpflow.config.set_default_summary_fmt(\"notebook\")\n",
    "tf.get_logger().setLevel('ERROR')"
   ]
  },
  {
   "cell_type": "markdown",
   "metadata": {},
   "source": [
    "## Load and preprocess the Cora dataset\n",
    "The nasty details of the dataset preparation are hidden away in `preprocessing` module."
   ]
  },
  {
   "cell_type": "code",
   "execution_count": 3,
   "metadata": {
    "pycharm": {
     "name": "#%%\n"
    }
   },
   "outputs": [],
   "source": [
    "np.random.seed(1)\n",
    "num_eigenpairs = 500\n",
    "dataset = 'cora'\n",
    "cls_number = 7\n",
    "train_num = 140\n",
    "test_num = 1000\n",
    "M = 50"
   ]
  },
  {
   "cell_type": "code",
   "execution_count": 4,
   "metadata": {
    "pycharm": {
     "name": "#%%\n"
    }
   },
   "outputs": [],
   "source": [
    "G, data_train, data_test = load_cora(num_train=train_num, num_test=test_num)\n",
    "adjacency_matrix = nx.to_numpy_array(G) \n",
    "x_train, y_train = data_train\n",
    "x_test, y_test = data_test\n",
    "Z = x_train[np.random.choice(train_num, M, replace=False)].copy()"
   ]
  },
  {
   "cell_type": "code",
   "execution_count": 7,
   "metadata": {},
   "outputs": [
    {
     "data": {
      "text/plain": [
       "(5069, 2485)"
      ]
     },
     "execution_count": 7,
     "metadata": {},
     "output_type": "execute_result"
    }
   ],
   "source": [
    "G.number_of_edges(), G.number_of_nodes()"
   ]
  },
  {
   "cell_type": "markdown",
   "metadata": {},
   "source": [
    "## Build a GP model\n",
    "Here we employ techiques of non-conjugate learning described in the section 3.1 of the paper.\n",
    "\n",
    "Briefly, we approximate a non-Gaussian posterior with a variational distribution induced by _inducing_ points on the graph.\n",
    "We choose the inducing points to be all training points.\n",
    "\n",
    "The model is then the usual `SVGP`."
   ]
  },
  {
   "cell_type": "code",
   "execution_count": 5,
   "metadata": {},
   "outputs": [
    {
     "name": "stdout",
     "output_type": "stream",
     "text": [
      "\n",
      "=== Running seed 0 ===\n"
     ]
    },
    {
     "name": "stderr",
     "output_type": "stream",
     "text": [
      "Random walks: 100%|██████████| 2485/2485 [09:23<00:00,  4.41it/s]\n"
     ]
    },
    {
     "name": "stdout",
     "output_type": "stream",
     "text": [
      "Training SVGP (GRF)…\n"
     ]
    },
    {
     "name": "stderr",
     "output_type": "stream",
     "text": [
      "Seed 0 Training: 100%|██████████| 1000/1000 [55:31<00:00,  3.33s/step]"
     ]
    },
    {
     "name": "stdout",
     "output_type": "stream",
     "text": [
      "\n",
      "Model hyperparameters (seed=0):\n"
     ]
    },
    {
     "name": "stderr",
     "output_type": "stream",
     "text": [
      "\n"
     ]
    },
    {
     "data": {
      "text/html": [
       "<table>\n",
       "<thead>\n",
       "<tr><th>name                           </th><th>class    </th><th>transform     </th><th>prior  </th><th>trainable  </th><th>shape      </th><th>dtype  </th><th>value                                               </th></tr>\n",
       "</thead>\n",
       "<tbody>\n",
       "<tr><td>SVGP.kernel.modulator_vector   </td><td>Parameter</td><td>Identity      </td><td>       </td><td>True       </td><td>(5,)       </td><td>float64</td><td>[-0.27636457, -1.1839, 0.56977184...                </td></tr>\n",
       "<tr><td>SVGP.likelihood.invlink.epsilon</td><td>Parameter</td><td>Sigmoid       </td><td>Beta   </td><td>False      </td><td>()         </td><td>float64</td><td>0.0010000000000000002                               </td></tr>\n",
       "<tr><td>SVGP.inducing_variable.Z       </td><td>Parameter</td><td>Identity      </td><td>       </td><td>True       </td><td>(50, 1)    </td><td>float64</td><td>[[1188....                                          </td></tr>\n",
       "<tr><td>SVGP.q_mu                      </td><td>Parameter</td><td>Identity      </td><td>       </td><td>True       </td><td>(50, 7)    </td><td>float64</td><td>[[1.61347, -0.27563142, -0.27624093...              </td></tr>\n",
       "<tr><td>SVGP.q_sqrt                    </td><td>Parameter</td><td>FillTriangular</td><td>       </td><td>True       </td><td>(7, 50, 50)</td><td>float64</td><td>[[[4.57457841e-01, 0.00000000e+00, 0.00000000e+00...</td></tr>\n",
       "</tbody>\n",
       "</table>"
      ],
      "text/plain": [
       "<IPython.core.display.HTML object>"
      ]
     },
     "metadata": {},
     "output_type": "display_data"
    },
    {
     "name": "stdout",
     "output_type": "stream",
     "text": [
      "Seed 0 Test Accuracy: 37.20%\n",
      "\n",
      "=== Running seed 1 ===\n"
     ]
    },
    {
     "name": "stderr",
     "output_type": "stream",
     "text": [
      "Random walks: 100%|██████████| 2485/2485 [16:50<00:00,  2.46it/s]\n"
     ]
    },
    {
     "name": "stdout",
     "output_type": "stream",
     "text": [
      "Training SVGP (GRF)…\n"
     ]
    },
    {
     "name": "stderr",
     "output_type": "stream",
     "text": [
      "Seed 1 Training: 100%|██████████| 1000/1000 [46:46<00:00,  2.81s/step]"
     ]
    },
    {
     "name": "stdout",
     "output_type": "stream",
     "text": [
      "\n",
      "Model hyperparameters (seed=1):\n"
     ]
    },
    {
     "name": "stderr",
     "output_type": "stream",
     "text": [
      "\n"
     ]
    },
    {
     "data": {
      "text/html": [
       "<table>\n",
       "<thead>\n",
       "<tr><th>name                           </th><th>class    </th><th>transform     </th><th>prior  </th><th>trainable  </th><th>shape      </th><th>dtype  </th><th>value                                               </th></tr>\n",
       "</thead>\n",
       "<tbody>\n",
       "<tr><td>SVGP.kernel.modulator_vector   </td><td>Parameter</td><td>Identity      </td><td>       </td><td>True       </td><td>(5,)       </td><td>float64</td><td>[6.70807931e-01, -1.23855000e+00, 5.82914981e-01... </td></tr>\n",
       "<tr><td>SVGP.likelihood.invlink.epsilon</td><td>Parameter</td><td>Sigmoid       </td><td>Beta   </td><td>False      </td><td>()         </td><td>float64</td><td>0.0010000000000000002                               </td></tr>\n",
       "<tr><td>SVGP.inducing_variable.Z       </td><td>Parameter</td><td>Identity      </td><td>       </td><td>True       </td><td>(50, 1)    </td><td>float64</td><td>[[2077....                                          </td></tr>\n",
       "<tr><td>SVGP.q_mu                      </td><td>Parameter</td><td>Identity      </td><td>       </td><td>True       </td><td>(50, 7)    </td><td>float64</td><td>[[-0.29033706, -0.26474551, -0.28844929...          </td></tr>\n",
       "<tr><td>SVGP.q_sqrt                    </td><td>Parameter</td><td>FillTriangular</td><td>       </td><td>True       </td><td>(7, 50, 50)</td><td>float64</td><td>[[[7.58659993e-01, 0.00000000e+00, 0.00000000e+00...</td></tr>\n",
       "</tbody>\n",
       "</table>"
      ],
      "text/plain": [
       "<IPython.core.display.HTML object>"
      ]
     },
     "metadata": {},
     "output_type": "display_data"
    },
    {
     "name": "stdout",
     "output_type": "stream",
     "text": [
      "Seed 1 Test Accuracy: 68.10%\n",
      "\n",
      "=== Running seed 2 ===\n"
     ]
    },
    {
     "name": "stderr",
     "output_type": "stream",
     "text": [
      "Random walks: 100%|██████████| 2485/2485 [16:49<00:00,  2.46it/s]\n"
     ]
    },
    {
     "name": "stdout",
     "output_type": "stream",
     "text": [
      "Training SVGP (GRF)…\n"
     ]
    },
    {
     "name": "stderr",
     "output_type": "stream",
     "text": [
      "Seed 2 Training: 100%|██████████| 1000/1000 [54:13<00:00,  3.25s/step]"
     ]
    },
    {
     "name": "stdout",
     "output_type": "stream",
     "text": [
      "\n",
      "Model hyperparameters (seed=2):\n"
     ]
    },
    {
     "name": "stderr",
     "output_type": "stream",
     "text": [
      "\n"
     ]
    },
    {
     "data": {
      "text/html": [
       "<table>\n",
       "<thead>\n",
       "<tr><th>name                           </th><th>class    </th><th>transform     </th><th>prior  </th><th>trainable  </th><th>shape      </th><th>dtype  </th><th>value                                               </th></tr>\n",
       "</thead>\n",
       "<tbody>\n",
       "<tr><td>SVGP.kernel.modulator_vector   </td><td>Parameter</td><td>Identity      </td><td>       </td><td>True       </td><td>(5,)       </td><td>float64</td><td>[0.66836304, -1.25855, 0.60818608...                </td></tr>\n",
       "<tr><td>SVGP.likelihood.invlink.epsilon</td><td>Parameter</td><td>Sigmoid       </td><td>Beta   </td><td>False      </td><td>()         </td><td>float64</td><td>0.0010000000000000002                               </td></tr>\n",
       "<tr><td>SVGP.inducing_variable.Z       </td><td>Parameter</td><td>Identity      </td><td>       </td><td>True       </td><td>(50, 1)    </td><td>float64</td><td>[[297....                                           </td></tr>\n",
       "<tr><td>SVGP.q_mu                      </td><td>Parameter</td><td>Identity      </td><td>       </td><td>True       </td><td>(50, 7)    </td><td>float64</td><td>[[-0.56124217, -0.5172394, 2.06026...               </td></tr>\n",
       "<tr><td>SVGP.q_sqrt                    </td><td>Parameter</td><td>FillTriangular</td><td>       </td><td>True       </td><td>(7, 50, 50)</td><td>float64</td><td>[[[8.45794800e-01, 0.00000000e+00, 0.00000000e+00...</td></tr>\n",
       "</tbody>\n",
       "</table>"
      ],
      "text/plain": [
       "<IPython.core.display.HTML object>"
      ]
     },
     "metadata": {},
     "output_type": "display_data"
    },
    {
     "name": "stdout",
     "output_type": "stream",
     "text": [
      "Seed 2 Test Accuracy: 66.80%\n",
      "\n",
      "=== Running seed 3 ===\n"
     ]
    },
    {
     "name": "stderr",
     "output_type": "stream",
     "text": [
      "Random walks: 100%|██████████| 2485/2485 [11:47<00:00,  3.51it/s]\n"
     ]
    },
    {
     "name": "stdout",
     "output_type": "stream",
     "text": [
      "Training SVGP (GRF)…\n"
     ]
    },
    {
     "name": "stderr",
     "output_type": "stream",
     "text": [
      "Seed 3 Training: 100%|██████████| 1000/1000 [59:18<00:00,  3.56s/step]"
     ]
    },
    {
     "name": "stdout",
     "output_type": "stream",
     "text": [
      "\n",
      "Model hyperparameters (seed=3):\n"
     ]
    },
    {
     "name": "stderr",
     "output_type": "stream",
     "text": [
      "\n"
     ]
    },
    {
     "data": {
      "text/html": [
       "<table>\n",
       "<thead>\n",
       "<tr><th>name                           </th><th>class    </th><th>transform     </th><th>prior  </th><th>trainable  </th><th>shape      </th><th>dtype  </th><th>value                                               </th></tr>\n",
       "</thead>\n",
       "<tbody>\n",
       "<tr><td>SVGP.kernel.modulator_vector   </td><td>Parameter</td><td>Identity      </td><td>       </td><td>True       </td><td>(5,)       </td><td>float64</td><td>[0.65639596, -1.27208, 0.63366955...                </td></tr>\n",
       "<tr><td>SVGP.likelihood.invlink.epsilon</td><td>Parameter</td><td>Sigmoid       </td><td>Beta   </td><td>False      </td><td>()         </td><td>float64</td><td>0.0010000000000000002                               </td></tr>\n",
       "<tr><td>SVGP.inducing_variable.Z       </td><td>Parameter</td><td>Identity      </td><td>       </td><td>True       </td><td>(50, 1)    </td><td>float64</td><td>[[767....                                           </td></tr>\n",
       "<tr><td>SVGP.q_mu                      </td><td>Parameter</td><td>Identity      </td><td>       </td><td>True       </td><td>(50, 7)    </td><td>float64</td><td>[[6.14829453e-01, -6.12515418e-01, 2.52528138e-01...</td></tr>\n",
       "<tr><td>SVGP.q_sqrt                    </td><td>Parameter</td><td>FillTriangular</td><td>       </td><td>True       </td><td>(7, 50, 50)</td><td>float64</td><td>[[[4.26288560e-01, 0.00000000e+00, 0.00000000e+00...</td></tr>\n",
       "</tbody>\n",
       "</table>"
      ],
      "text/plain": [
       "<IPython.core.display.HTML object>"
      ]
     },
     "metadata": {},
     "output_type": "display_data"
    },
    {
     "name": "stdout",
     "output_type": "stream",
     "text": [
      "Seed 3 Test Accuracy: 67.40%\n",
      "\n",
      "=== Running seed 4 ===\n"
     ]
    },
    {
     "name": "stderr",
     "output_type": "stream",
     "text": [
      "Random walks: 100%|██████████| 2485/2485 [15:46<00:00,  2.62it/s]\n"
     ]
    },
    {
     "name": "stdout",
     "output_type": "stream",
     "text": [
      "Training SVGP (GRF)…\n"
     ]
    },
    {
     "name": "stderr",
     "output_type": "stream",
     "text": [
      "Seed 4 Training: 100%|██████████| 1000/1000 [48:20<00:00,  2.90s/step]"
     ]
    },
    {
     "name": "stdout",
     "output_type": "stream",
     "text": [
      "\n",
      "Model hyperparameters (seed=4):\n"
     ]
    },
    {
     "name": "stderr",
     "output_type": "stream",
     "text": [
      "\n"
     ]
    },
    {
     "data": {
      "text/html": [
       "<table>\n",
       "<thead>\n",
       "<tr><th>name                           </th><th>class    </th><th>transform     </th><th>prior  </th><th>trainable  </th><th>shape      </th><th>dtype  </th><th>value                                               </th></tr>\n",
       "</thead>\n",
       "<tbody>\n",
       "<tr><td>SVGP.kernel.modulator_vector   </td><td>Parameter</td><td>Identity      </td><td>       </td><td>True       </td><td>(5,)       </td><td>float64</td><td>[0.6991335, -1.28355, 0.57117594...                 </td></tr>\n",
       "<tr><td>SVGP.likelihood.invlink.epsilon</td><td>Parameter</td><td>Sigmoid       </td><td>Beta   </td><td>False      </td><td>()         </td><td>float64</td><td>0.0010000000000000002                               </td></tr>\n",
       "<tr><td>SVGP.inducing_variable.Z       </td><td>Parameter</td><td>Identity      </td><td>       </td><td>True       </td><td>(50, 1)    </td><td>float64</td><td>[[1653....                                          </td></tr>\n",
       "<tr><td>SVGP.q_mu                      </td><td>Parameter</td><td>Identity      </td><td>       </td><td>True       </td><td>(50, 7)    </td><td>float64</td><td>[[-0.41932844, -0.41599731, -0.20236951...          </td></tr>\n",
       "<tr><td>SVGP.q_sqrt                    </td><td>Parameter</td><td>FillTriangular</td><td>       </td><td>True       </td><td>(7, 50, 50)</td><td>float64</td><td>[[[7.91813112e-01, 0.00000000e+00, 0.00000000e+00...</td></tr>\n",
       "</tbody>\n",
       "</table>"
      ],
      "text/plain": [
       "<IPython.core.display.HTML object>"
      ]
     },
     "metadata": {},
     "output_type": "display_data"
    },
    {
     "name": "stdout",
     "output_type": "stream",
     "text": [
      "Seed 4 Test Accuracy: 67.20%\n",
      "\n",
      "=== Summary over all seeds ===\n",
      "Seed 0: Accuracy = 37.20%\n",
      "Seed 1: Accuracy = 68.10%\n",
      "Seed 2: Accuracy = 66.80%\n",
      "Seed 3: Accuracy = 67.40%\n",
      "Seed 4: Accuracy = 67.20%\n",
      "\n",
      "Mean accuracy over seeds: 61.34% ± 12.08%\n"
     ]
    }
   ],
   "source": [
    "# -------------------------------\n",
    "# Run 5 independent seeds\n",
    "# -------------------------------\n",
    "\n",
    "SEEDS = [0, 1, 2, 3, 4]\n",
    "MAX_WALK_LENGTH = 5\n",
    "seed_accuracies = []\n",
    "NUM_EPOCHES = 1000\n",
    "WALKS_PER_NODE = 4096\n",
    "\n",
    "\n",
    "for seed in SEEDS:\n",
    "    print(f\"\\n=== Running seed {seed} ===\")\n",
    "    np.random.seed(seed)\n",
    "    tf.random.set_seed(seed)\n",
    "\n",
    "    # 1) Sample M inducing points from the 140 training nodes\n",
    "    indices = np.random.choice(train_num, M, replace=False)\n",
    "    Z = x_train[indices].copy()  # shape: (M, 1)\n",
    "\n",
    "    # 2) Build Graph Diffusion kernel\n",
    "    graph_kernel = GraphGeneralFastGRFKernel(\n",
    "        adjacency_matrix=adjacency_matrix,\n",
    "        walks_per_node= WALKS_PER_NODE,\n",
    "        p_halt=0.1,\n",
    "        max_walk_length=MAX_WALK_LENGTH\n",
    "    )\n",
    "\n",
    "    # 3) Build SVGP model\n",
    "    likelihood = gpflow.likelihoods.MultiClass(num_classes=cls_number)\n",
    "    model = gpflow.models.SVGP(\n",
    "        kernel=graph_kernel,\n",
    "        likelihood=likelihood,\n",
    "        inducing_variable=Z,\n",
    "        num_latent_gps=cls_number,\n",
    "        whiten=True,\n",
    "    )\n",
    "\n",
    "    # 4) Prepare full-batch training dataset (140 nodes) with infinite repeat\n",
    "    train_ds = tf.data.Dataset.from_tensor_slices((x_train, y_train)) \\\n",
    "                             .shuffle(train_num, seed=seed) \\\n",
    "                             .batch(train_num) \\\n",
    "                             .repeat()\n",
    "    train_iter = iter(train_ds)\n",
    "\n",
    "    # 5) Optimizer\n",
    "    optimizer = tf.optimizers.Adam(learning_rate=0.003)\n",
    "\n",
    "    # 6) Training loop with tqdm\n",
    "    print(\"Training SVGP (GRF)…\")\n",
    "    for step in tqdm(range(NUM_EPOCHES), desc=f\"Seed {seed} Training\", unit=\"step\"):\n",
    "        Xb, Yb = next(train_iter)\n",
    "        with tf.GradientTape() as tape:\n",
    "            loss = model.training_loss((Xb, Yb))  # negative ELBO\n",
    "        grads = tape.gradient(loss, model.trainable_variables)\n",
    "        # Filter out any None gradients\n",
    "        grads_and_vars = [(g, v) for g, v in zip(grads, model.trainable_variables) if g is not None]\n",
    "        optimizer.apply_gradients(grads_and_vars)\n",
    "\n",
    "    # 7) Print hyperparameter summary for this seed\n",
    "    print(f\"\\nModel hyperparameters (seed={seed}):\")\n",
    "    print_summary(model)\n",
    "\n",
    "    # 8) Evaluate on the test set\n",
    "    y_pred_mean, _ = model.predict_y(x_test)\n",
    "    y_pred = np.argmax(y_pred_mean.numpy(), axis=1).ravel()\n",
    "    acc = accuracy_score(y_test.ravel(), y_pred)\n",
    "    print(f\"Seed {seed} Test Accuracy: {acc*100:.2f}%\")\n",
    "    seed_accuracies.append((seed, acc))\n",
    "\n",
    "# After loop, summarize all seeds\n",
    "print(\"\\n=== Summary over all seeds ===\")\n",
    "for seed, acc in seed_accuracies:\n",
    "    print(f\"Seed {seed}: Accuracy = {acc*100:.2f}%\")\n",
    "mean_acc = np.mean([acc for _, acc in seed_accuracies])\n",
    "std_acc  = np.std([acc for _, acc in seed_accuracies])\n",
    "print(f\"\\nMean accuracy over seeds: {mean_acc*100:.2f}% ± {std_acc*100:.2f}%\")\n"
   ]
  },
  {
   "cell_type": "code",
   "execution_count": null,
   "metadata": {},
   "outputs": [],
   "source": []
  }
 ],
 "metadata": {
  "kernelspec": {
   "display_name": "venv",
   "language": "python",
   "name": "python3"
  },
  "language_info": {
   "codemirror_mode": {
    "name": "ipython",
    "version": 3
   },
   "file_extension": ".py",
   "mimetype": "text/x-python",
   "name": "python",
   "nbconvert_exporter": "python",
   "pygments_lexer": "ipython3",
   "version": "3.11.5"
  }
 },
 "nbformat": 4,
 "nbformat_minor": 1
}
