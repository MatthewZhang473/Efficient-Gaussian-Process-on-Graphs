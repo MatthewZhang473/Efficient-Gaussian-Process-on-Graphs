{
 "cells": [
  {
   "cell_type": "markdown",
   "metadata": {},
   "source": [
    "## This notebook is a demo for\n",
    "\n",
    "1. Generate a Graph (Line Graph / Random Graph).\n",
    "\n",
    "2. Calculate the covariance matrix for the graph with a graph kernel function (with known hyperparameters).\n",
    "\n",
    "3. Sample data points from a GP on this covariance matrix.\n",
    "\n",
    "4. Fit a GP with the grf-approximated kernel expression and learn the hyperparameters."
   ]
  },
  {
   "cell_type": "code",
   "execution_count": 8,
   "metadata": {},
   "outputs": [],
   "source": [
    "import tensorflow as tf\n",
    "import numpy as np\n",
    "import gpflow\n",
    "import matplotlib.pyplot as plt\n",
    "import ipywidgets as widgets\n",
    "from IPython.display import display, clear_output\n",
    "import networkx as nx\n",
    "from gpflow.utilities import print_summary\n",
    "import tensorflow_probability as tfp\n",
    "import seaborn as sns"
   ]
  },
  {
   "cell_type": "code",
   "execution_count": 9,
   "metadata": {},
   "outputs": [],
   "source": [
    "import sys\n",
    "import os\n",
    "project_root = os.path.abspath(\"..\")\n",
    "sys.path.append(project_root)"
   ]
  },
  {
   "cell_type": "code",
   "execution_count": 10,
   "metadata": {},
   "outputs": [],
   "source": [
    "from efficient_graph_gp.graph_kernels import diffusion_kernel, feature_matrix_kernel, generate_noisy_samples\n",
    "from efficient_graph_gp.gpflow_kernels import GraphDiffusionGRFKernel\n",
    "from utils import plot_network_graph, plot_gp_fit"
   ]
  },
  {
   "cell_type": "code",
   "execution_count": 11,
   "metadata": {},
   "outputs": [],
   "source": [
    "# Parameters\n",
    "num_nodes = 50\n",
    "graph_type = 'random' # 'line', 'random'\n",
    "np.random.seed(0)"
   ]
  },
  {
   "cell_type": "code",
   "execution_count": 12,
   "metadata": {},
   "outputs": [],
   "source": [
    "if graph_type == 'line':\n",
    "    adjacency_matrix = np.eye(num_nodes, k=1) + np.eye(num_nodes, k=-1)  # Circular adjacency matrix\n",
    "elif graph_type == 'random':\n",
    "    probability = 0.1  # Probability of edge creation\n",
    "    G = nx.erdos_renyi_graph(num_nodes, probability, directed=False)  # Ensure the graph is undirected\n",
    "    adjacency_matrix = nx.to_numpy_array(G)  # Convert to adjacency matrix"
   ]
  },
  {
   "cell_type": "code",
   "execution_count": 13,
   "metadata": {},
   "outputs": [],
   "source": [
    "def gp_inference(X,Y,X_new, graph_kernel):\n",
    "    model = gpflow.models.GPR(data=(X, Y), kernel=graph_kernel, mean_function=None)\n",
    "    model.likelihood.variance.prior = tfp.distributions.LogNormal(loc=np.log(0.07), scale=0.5)\n",
    "    gpflow.optimizers.Scipy().minimize(model.training_loss, model.trainable_variables)\n",
    "    mean, variance = model.predict_f(X_new)\n",
    "    stddev = tf.sqrt(variance)\n",
    "    return model, mean, stddev\n",
    "\n",
    "def plot_kernel_heatmap(kernel_matrix, title, ax):\n",
    "    sns.heatmap(kernel_matrix, ax=ax, cmap='viridis')\n",
    "    ax.set_title(title)\n",
    "    ax.set_xlabel('Node Index')\n",
    "    ax.set_ylabel('Node Index')"
   ]
  },
  {
   "cell_type": "code",
   "execution_count": 14,
   "metadata": {},
   "outputs": [
    {
     "data": {
      "application/vnd.jupyter.widget-view+json": {
       "model_id": "57a9a6d40a984c2e89e6b61b76bf8857",
       "version_major": 2,
       "version_minor": 0
      },
      "text/plain": [
       "VBox(children=(FloatSlider(value=0.05, description='Beta:', max=1.0, min=0.01, step=0.05), FloatSlider(value=0…"
      ]
     },
     "metadata": {},
     "output_type": "display_data"
    },
    {
     "data": {
      "application/vnd.jupyter.widget-view+json": {
       "model_id": "f9040f3161df42cb93abeec26192c186",
       "version_major": 2,
       "version_minor": 0
      },
      "text/plain": [
       "Output()"
      ]
     },
     "metadata": {},
     "output_type": "display_data"
    }
   ],
   "source": [
    "def demo(beta_sample, noise_std=0.1):\n",
    "    clear_output(wait=True)  # Clear previous output\n",
    "\n",
    "    # Generate noisy samples\n",
    "    K_true = diffusion_kernel(adjacency_matrix, beta_sample)\n",
    "    Y_noisy = generate_noisy_samples(K_true, noise_std=noise_std)\n",
    "\n",
    "    # Prepare data\n",
    "    X = tf.convert_to_tensor(np.arange(num_nodes, dtype=np.float64).reshape(-1, 1))\n",
    "    X_new = tf.convert_to_tensor(np.arange(num_nodes, dtype=np.float64).reshape(-1, 1))\n",
    "    Y = tf.reshape(tf.convert_to_tensor(Y_noisy, dtype=tf.float64), (-1, 1))\n",
    "\n",
    "    # Convert adjacency matrix to TensorFlow tensor\n",
    "    adjacency_matrix_tf = tf.convert_to_tensor(adjacency_matrix, dtype=tf.float64)\n",
    "    \n",
    "    # Instantiate the kernel with the TensorFlow adjacency matrix\n",
    "    graph_kernel = GraphDiffusionGRFKernel(\n",
    "        adjacency_matrix=adjacency_matrix_tf,\n",
    "        walks_per_node=10,\n",
    "        p_halt=0.3\n",
    "    )\n",
    "\n",
    "    # Perform GP inference\n",
    "    model, mean, stddev = gp_inference(X, Y, X_new, graph_kernel)\n",
    "    print_summary(model)\n",
    "\n",
    "    learned_beta = model.kernel.beta.numpy()\n",
    "    K_fitted = diffusion_kernel(adjacency_matrix, learned_beta) # This is wrong here!\n",
    "    fig, ax = plt.subplots(2, 2, figsize=(12, 8))\n",
    "    plot_gp_fit(X, Y, X_new, mean, stddev, beta_sample, ax[0,0])\n",
    "    plot_network_graph(adjacency_matrix, ax[0,1])\n",
    "    plot_kernel_heatmap(K_true, 'Ground Truth Kernel', ax[1,0])\n",
    "    plot_kernel_heatmap(K_fitted, 'Fitted Kernel', ax[1,1])\n",
    "\n",
    "beta_slider = widgets.FloatSlider(value=0.05, min=0.01, max=1.0, step=0.05, description='Beta:')\n",
    "noise_std_slider = widgets.FloatSlider(value=0.1, min=0.01, max=0.5, step=0.01, description='Noise std:')\n",
    "ui = widgets.VBox([beta_slider, noise_std_slider])\n",
    "out = widgets.interactive_output(demo, {'beta_sample': beta_slider, 'noise_std': noise_std_slider})\n",
    "display(ui, out)\n"
   ]
  },
  {
   "cell_type": "code",
   "execution_count": null,
   "metadata": {},
   "outputs": [],
   "source": []
  }
 ],
 "metadata": {
  "kernelspec": {
   "display_name": "venv",
   "language": "python",
   "name": "python3"
  },
  "language_info": {
   "codemirror_mode": {
    "name": "ipython",
    "version": 3
   },
   "file_extension": ".py",
   "mimetype": "text/x-python",
   "name": "python",
   "nbconvert_exporter": "python",
   "pygments_lexer": "ipython3",
   "version": "3.11.5"
  }
 },
 "nbformat": 4,
 "nbformat_minor": 2
}
