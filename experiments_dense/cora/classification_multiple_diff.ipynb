{
 "cells": [
  {
   "cell_type": "markdown",
   "metadata": {},
   "source": [
    "# Graph GP Classification\n",
    "\n",
    "## Preamble\n",
    "This notebook provides an example of Gaussian process classification on a graph using Graph Matern kernel and non-conjugate learning techiques described in the paper."
   ]
  },
  {
   "cell_type": "code",
   "execution_count": 1,
   "metadata": {},
   "outputs": [],
   "source": [
    "import tensorflow as tf\n",
    "import numpy as np\n",
    "import scipy.special\n",
    "from sklearn.metrics import accuracy_score\n",
    "import gpflow\n",
    "import matplotlib.pyplot as plt\n",
    "import ipywidgets as widgets\n",
    "from IPython.display import display, clear_output\n",
    "import networkx as nx\n",
    "from gpflow.utilities import print_summary\n",
    "import tensorflow_probability as tfp\n",
    "import seaborn as sns\n",
    "from tqdm import tqdm\n",
    "\n",
    "import sys\n",
    "import os\n",
    "project_root = os.path.abspath(\"../..\")\n",
    "sys.path.append(project_root)\n",
    "import pandas as pd\n",
    "import pickle\n",
    "\n",
    "from efficient_graph_gp.graph_kernels import get_normalized_laplacian\n",
    "from efficient_graph_gp.gpflow_kernels import GraphDiffusionFastGRFKernel, GraphDiffusionPoFMKernel, GraphDiffusionKernel, GraphGeneralPoFMKernel, GraphGeneralFastGRFKernel\n",
    "from utils import compute_fro\n",
    "from cora_utils.preprocessing import load_PEMS, load_cora"
   ]
  },
  {
   "cell_type": "code",
   "execution_count": 2,
   "metadata": {
    "pycharm": {
     "name": "#%%\n"
    }
   },
   "outputs": [],
   "source": [
    "dtype = tf.float64\n",
    "gpflow.config.set_default_float(dtype)\n",
    "gpflow.config.set_default_summary_fmt(\"notebook\")\n",
    "tf.get_logger().setLevel('ERROR')"
   ]
  },
  {
   "cell_type": "markdown",
   "metadata": {},
   "source": [
    "## Load and preprocess the Cora dataset\n",
    "The nasty details of the dataset preparation are hidden away in `preprocessing` module."
   ]
  },
  {
   "cell_type": "code",
   "execution_count": null,
   "metadata": {
    "pycharm": {
     "name": "#%%\n"
    }
   },
   "outputs": [],
   "source": [
    "np.random.seed(1)\n",
    "num_eigenpairs = 500\n",
    "dataset = 'cora'\n",
    "cls_number = 7\n",
    "train_num = 140\n",
    "test_num = 1000\n",
    "M = 50"
   ]
  },
  {
   "cell_type": "code",
   "execution_count": 4,
   "metadata": {
    "pycharm": {
     "name": "#%%\n"
    }
   },
   "outputs": [],
   "source": [
    "G, data_train, data_test = load_cora(num_train=train_num, num_test=1000)\n",
    "adjacency_matrix = nx.to_numpy_array(G) \n",
    "x_train, y_train = data_train\n",
    "x_test, y_test = data_test\n",
    "Z = x_train[np.random.choice(train_num, M, replace=False)].copy()"
   ]
  },
  {
   "cell_type": "markdown",
   "metadata": {},
   "source": [
    "## Build a GP model\n",
    "Here we employ techiques of non-conjugate learning described in the section 3.1 of the paper.\n",
    "\n",
    "Briefly, we approximate a non-Gaussian posterior with a variational distribution induced by _inducing_ points on the graph.\n",
    "We choose the inducing points to be all training points.\n",
    "\n",
    "The model is then the usual `SVGP`."
   ]
  },
  {
   "cell_type": "code",
   "execution_count": 5,
   "metadata": {},
   "outputs": [
    {
     "name": "stdout",
     "output_type": "stream",
     "text": [
      "\n",
      "=== Running seed 0 ===\n",
      "Training SVGP (Diffusion)…\n"
     ]
    },
    {
     "name": "stderr",
     "output_type": "stream",
     "text": [
      "Seed 0 Training: 100%|██████████| 5/5 [04:13<00:00, 50.78s/step]"
     ]
    },
    {
     "name": "stdout",
     "output_type": "stream",
     "text": [
      "\n",
      "Model hyperparameters (seed=0):\n"
     ]
    },
    {
     "name": "stderr",
     "output_type": "stream",
     "text": [
      "\n"
     ]
    },
    {
     "data": {
      "text/html": [
       "<table>\n",
       "<thead>\n",
       "<tr><th>name                           </th><th>class    </th><th>transform     </th><th>prior  </th><th>trainable  </th><th>shape        </th><th>dtype  </th><th>value                                               </th></tr>\n",
       "</thead>\n",
       "<tbody>\n",
       "<tr><td>SVGP.kernel.beta               </td><td>Parameter</td><td>Softplus      </td><td>       </td><td>True       </td><td>()           </td><td>float64</td><td>2.00867                                             </td></tr>\n",
       "<tr><td>SVGP.kernel.sigma_f            </td><td>Parameter</td><td>Softplus      </td><td>       </td><td>True       </td><td>()           </td><td>float64</td><td>1.00622                                             </td></tr>\n",
       "<tr><td>SVGP.likelihood.invlink.epsilon</td><td>Parameter</td><td>Sigmoid       </td><td>Beta   </td><td>False      </td><td>()           </td><td>float64</td><td>0.0010000000000000002                               </td></tr>\n",
       "<tr><td>SVGP.inducing_variable.Z       </td><td>Parameter</td><td>Identity      </td><td>       </td><td>True       </td><td>(994, 1)     </td><td>float64</td><td>[[1998....                                          </td></tr>\n",
       "<tr><td>SVGP.q_mu                      </td><td>Parameter</td><td>Identity      </td><td>       </td><td>True       </td><td>(994, 7)     </td><td>float64</td><td>[[0.01500417, -0.01500563, -0.0150063...            </td></tr>\n",
       "<tr><td>SVGP.q_sqrt                    </td><td>Parameter</td><td>FillTriangular</td><td>       </td><td>True       </td><td>(7, 994, 994)</td><td>float64</td><td>[[[1.01500000e+00, 0.00000000e+00, 0.00000000e+00...</td></tr>\n",
       "</tbody>\n",
       "</table>"
      ],
      "text/plain": [
       "<IPython.core.display.HTML object>"
      ]
     },
     "metadata": {},
     "output_type": "display_data"
    },
    {
     "name": "stdout",
     "output_type": "stream",
     "text": [
      "Seed 0 Test Accuracy: 84.31%\n",
      "\n",
      "=== Running seed 1 ===\n",
      "Training SVGP (Diffusion)…\n"
     ]
    },
    {
     "name": "stderr",
     "output_type": "stream",
     "text": [
      "Seed 1 Training: 100%|██████████| 5/5 [04:50<00:00, 58.03s/step]"
     ]
    },
    {
     "name": "stdout",
     "output_type": "stream",
     "text": [
      "\n",
      "Model hyperparameters (seed=1):\n"
     ]
    },
    {
     "name": "stderr",
     "output_type": "stream",
     "text": [
      "\n"
     ]
    },
    {
     "data": {
      "text/html": [
       "<table>\n",
       "<thead>\n",
       "<tr><th>name                           </th><th>class    </th><th>transform     </th><th>prior  </th><th>trainable  </th><th>shape        </th><th>dtype  </th><th>value                                               </th></tr>\n",
       "</thead>\n",
       "<tbody>\n",
       "<tr><td>SVGP.kernel.beta               </td><td>Parameter</td><td>Softplus      </td><td>       </td><td>True       </td><td>()           </td><td>float64</td><td>2.00868                                             </td></tr>\n",
       "<tr><td>SVGP.kernel.sigma_f            </td><td>Parameter</td><td>Softplus      </td><td>       </td><td>True       </td><td>()           </td><td>float64</td><td>1.00622                                             </td></tr>\n",
       "<tr><td>SVGP.likelihood.invlink.epsilon</td><td>Parameter</td><td>Sigmoid       </td><td>Beta   </td><td>False      </td><td>()           </td><td>float64</td><td>0.0010000000000000002                               </td></tr>\n",
       "<tr><td>SVGP.inducing_variable.Z       </td><td>Parameter</td><td>Identity      </td><td>       </td><td>True       </td><td>(994, 1)     </td><td>float64</td><td>[[4.730e+02...                                      </td></tr>\n",
       "<tr><td>SVGP.q_mu                      </td><td>Parameter</td><td>Identity      </td><td>       </td><td>True       </td><td>(994, 7)     </td><td>float64</td><td>[[-0.01501168, -0.01501163, -0.0150117...           </td></tr>\n",
       "<tr><td>SVGP.q_sqrt                    </td><td>Parameter</td><td>FillTriangular</td><td>       </td><td>True       </td><td>(7, 994, 994)</td><td>float64</td><td>[[[9.84999095e-01, 0.00000000e+00, 0.00000000e+00...</td></tr>\n",
       "</tbody>\n",
       "</table>"
      ],
      "text/plain": [
       "<IPython.core.display.HTML object>"
      ]
     },
     "metadata": {},
     "output_type": "display_data"
    },
    {
     "name": "stdout",
     "output_type": "stream",
     "text": [
      "Seed 1 Test Accuracy: 85.71%\n",
      "\n",
      "=== Running seed 2 ===\n",
      "Training SVGP (Diffusion)…\n"
     ]
    },
    {
     "name": "stderr",
     "output_type": "stream",
     "text": [
      "Seed 2 Training: 100%|██████████| 5/5 [05:37<00:00, 67.49s/step]"
     ]
    },
    {
     "name": "stdout",
     "output_type": "stream",
     "text": [
      "\n",
      "Model hyperparameters (seed=2):\n"
     ]
    },
    {
     "name": "stderr",
     "output_type": "stream",
     "text": [
      "\n"
     ]
    },
    {
     "data": {
      "text/html": [
       "<table>\n",
       "<thead>\n",
       "<tr><th>name                           </th><th>class    </th><th>transform     </th><th>prior  </th><th>trainable  </th><th>shape        </th><th>dtype  </th><th>value                                               </th></tr>\n",
       "</thead>\n",
       "<tbody>\n",
       "<tr><td>SVGP.kernel.beta               </td><td>Parameter</td><td>Softplus      </td><td>       </td><td>True       </td><td>()           </td><td>float64</td><td>2.00868                                             </td></tr>\n",
       "<tr><td>SVGP.kernel.sigma_f            </td><td>Parameter</td><td>Softplus      </td><td>       </td><td>True       </td><td>()           </td><td>float64</td><td>1.00623                                             </td></tr>\n",
       "<tr><td>SVGP.likelihood.invlink.epsilon</td><td>Parameter</td><td>Sigmoid       </td><td>Beta   </td><td>False      </td><td>()           </td><td>float64</td><td>0.0010000000000000002                               </td></tr>\n",
       "<tr><td>SVGP.inducing_variable.Z       </td><td>Parameter</td><td>Identity      </td><td>       </td><td>True       </td><td>(994, 1)     </td><td>float64</td><td>[[2.119e+03...                                      </td></tr>\n",
       "<tr><td>SVGP.q_mu                      </td><td>Parameter</td><td>Identity      </td><td>       </td><td>True       </td><td>(994, 7)     </td><td>float64</td><td>[[-0.01500779, -0.01496307, -0.01500734...          </td></tr>\n",
       "<tr><td>SVGP.q_sqrt                    </td><td>Parameter</td><td>FillTriangular</td><td>       </td><td>True       </td><td>(7, 994, 994)</td><td>float64</td><td>[[[9.84996412e-01, 0.00000000e+00, 0.00000000e+00...</td></tr>\n",
       "</tbody>\n",
       "</table>"
      ],
      "text/plain": [
       "<IPython.core.display.HTML object>"
      ]
     },
     "metadata": {},
     "output_type": "display_data"
    },
    {
     "name": "stdout",
     "output_type": "stream",
     "text": [
      "Seed 2 Test Accuracy: 85.71%\n",
      "\n",
      "=== Running seed 3 ===\n",
      "Training SVGP (Diffusion)…\n"
     ]
    },
    {
     "name": "stderr",
     "output_type": "stream",
     "text": [
      "Seed 3 Training: 100%|██████████| 5/5 [05:23<00:00, 64.70s/step]"
     ]
    },
    {
     "name": "stdout",
     "output_type": "stream",
     "text": [
      "\n",
      "Model hyperparameters (seed=3):\n"
     ]
    },
    {
     "name": "stderr",
     "output_type": "stream",
     "text": [
      "\n"
     ]
    },
    {
     "data": {
      "text/html": [
       "<table>\n",
       "<thead>\n",
       "<tr><th>name                           </th><th>class    </th><th>transform     </th><th>prior  </th><th>trainable  </th><th>shape        </th><th>dtype  </th><th>value                                               </th></tr>\n",
       "</thead>\n",
       "<tbody>\n",
       "<tr><td>SVGP.kernel.beta               </td><td>Parameter</td><td>Softplus      </td><td>       </td><td>True       </td><td>()           </td><td>float64</td><td>2.00868                                             </td></tr>\n",
       "<tr><td>SVGP.kernel.sigma_f            </td><td>Parameter</td><td>Softplus      </td><td>       </td><td>True       </td><td>()           </td><td>float64</td><td>1.00623                                             </td></tr>\n",
       "<tr><td>SVGP.likelihood.invlink.epsilon</td><td>Parameter</td><td>Sigmoid       </td><td>Beta   </td><td>False      </td><td>()           </td><td>float64</td><td>0.0010000000000000002                               </td></tr>\n",
       "<tr><td>SVGP.inducing_variable.Z       </td><td>Parameter</td><td>Identity      </td><td>       </td><td>True       </td><td>(994, 1)     </td><td>float64</td><td>[[8.470e+02...                                      </td></tr>\n",
       "<tr><td>SVGP.q_mu                      </td><td>Parameter</td><td>Identity      </td><td>       </td><td>True       </td><td>(994, 7)     </td><td>float64</td><td>[[-0.0150048, -0.01500471, 0.01500671...            </td></tr>\n",
       "<tr><td>SVGP.q_sqrt                    </td><td>Parameter</td><td>FillTriangular</td><td>       </td><td>True       </td><td>(7, 994, 994)</td><td>float64</td><td>[[[9.85003126e-01, 0.00000000e+00, 0.00000000e+00...</td></tr>\n",
       "</tbody>\n",
       "</table>"
      ],
      "text/plain": [
       "<IPython.core.display.HTML object>"
      ]
     },
     "metadata": {},
     "output_type": "display_data"
    },
    {
     "name": "stdout",
     "output_type": "stream",
     "text": [
      "Seed 3 Test Accuracy: 84.91%\n",
      "\n",
      "=== Running seed 4 ===\n",
      "Training SVGP (Diffusion)…\n"
     ]
    },
    {
     "name": "stderr",
     "output_type": "stream",
     "text": [
      "Seed 4 Training: 100%|██████████| 5/5 [05:26<00:00, 65.29s/step]"
     ]
    },
    {
     "name": "stdout",
     "output_type": "stream",
     "text": [
      "\n",
      "Model hyperparameters (seed=4):\n"
     ]
    },
    {
     "name": "stderr",
     "output_type": "stream",
     "text": [
      "\n"
     ]
    },
    {
     "data": {
      "text/html": [
       "<table>\n",
       "<thead>\n",
       "<tr><th>name                           </th><th>class    </th><th>transform     </th><th>prior  </th><th>trainable  </th><th>shape        </th><th>dtype  </th><th>value                                               </th></tr>\n",
       "</thead>\n",
       "<tbody>\n",
       "<tr><td>SVGP.kernel.beta               </td><td>Parameter</td><td>Softplus      </td><td>       </td><td>True       </td><td>()           </td><td>float64</td><td>2.00868                                             </td></tr>\n",
       "<tr><td>SVGP.kernel.sigma_f            </td><td>Parameter</td><td>Softplus      </td><td>       </td><td>True       </td><td>()           </td><td>float64</td><td>1.00623                                             </td></tr>\n",
       "<tr><td>SVGP.likelihood.invlink.epsilon</td><td>Parameter</td><td>Sigmoid       </td><td>Beta   </td><td>False      </td><td>()           </td><td>float64</td><td>0.0010000000000000002                               </td></tr>\n",
       "<tr><td>SVGP.inducing_variable.Z       </td><td>Parameter</td><td>Identity      </td><td>       </td><td>True       </td><td>(994, 1)     </td><td>float64</td><td>[[1.341e+03...                                      </td></tr>\n",
       "<tr><td>SVGP.q_mu                      </td><td>Parameter</td><td>Identity      </td><td>       </td><td>True       </td><td>(994, 7)     </td><td>float64</td><td>[[-0.01500945, -0.01500208, 0.01501182...           </td></tr>\n",
       "<tr><td>SVGP.q_sqrt                    </td><td>Parameter</td><td>FillTriangular</td><td>       </td><td>True       </td><td>(7, 994, 994)</td><td>float64</td><td>[[[9.85006625e-01, 0.00000000e+00, 0.00000000e+00...</td></tr>\n",
       "</tbody>\n",
       "</table>"
      ],
      "text/plain": [
       "<IPython.core.display.HTML object>"
      ]
     },
     "metadata": {},
     "output_type": "display_data"
    },
    {
     "name": "stdout",
     "output_type": "stream",
     "text": [
      "Seed 4 Test Accuracy: 85.92%\n",
      "\n",
      "=== Summary over all seeds ===\n",
      "Seed 0: Accuracy = 84.31%\n",
      "Seed 1: Accuracy = 85.71%\n",
      "Seed 2: Accuracy = 85.71%\n",
      "Seed 3: Accuracy = 84.91%\n",
      "Seed 4: Accuracy = 85.92%\n",
      "\n",
      "Mean accuracy over seeds: 85.31% ± 0.61%\n"
     ]
    }
   ],
   "source": [
    "# -------------------------------\n",
    "# Run 5 independent seeds\n",
    "# -------------------------------\n",
    "\n",
    "SEEDS = [0, 1, 2, 3, 4]\n",
    "seed_accuracies = []\n",
    "NUM_EPOCHES = 5\n",
    "\n",
    "\n",
    "for seed in SEEDS:\n",
    "    print(f\"\\n=== Running seed {seed} ===\")\n",
    "    np.random.seed(seed)\n",
    "    tf.random.set_seed(seed)\n",
    "\n",
    "    # 1) Sample M inducing points from the 140 training nodes\n",
    "    indices = np.random.choice(train_num, M, replace=False)\n",
    "    Z = x_train[indices].copy()  # shape: (M, 1)\n",
    "\n",
    "    # 2) Build Graph Diffusion kernel\n",
    "    graph_kernel = GraphDiffusionKernel(\n",
    "        adjacency_matrix=adjacency_matrix\n",
    "    )\n",
    "\n",
    "    # 3) Build SVGP model\n",
    "    likelihood = gpflow.likelihoods.MultiClass(num_classes=cls_number)\n",
    "    model = gpflow.models.SVGP(\n",
    "        kernel=graph_kernel,\n",
    "        likelihood=likelihood,\n",
    "        inducing_variable=Z,\n",
    "        num_latent_gps=cls_number,\n",
    "        whiten=True,\n",
    "    )\n",
    "\n",
    "    # 4) Prepare full-batch training dataset (140 nodes) with infinite repeat\n",
    "    train_ds = tf.data.Dataset.from_tensor_slices((x_train, y_train)) \\\n",
    "                             .shuffle(train_num, seed=seed) \\\n",
    "                             .batch(train_num) \\\n",
    "                             .repeat()\n",
    "    train_iter = iter(train_ds)\n",
    "\n",
    "    # 5) Optimizer\n",
    "    optimizer = tf.optimizers.Adam(learning_rate=0.003)\n",
    "\n",
    "    # 6) Training loop with tqdm\n",
    "    print(\"Training SVGP (Diffusion)…\")\n",
    "    for step in tqdm(range(NUM_EPOCHES), desc=f\"Seed {seed} Training\", unit=\"step\"):\n",
    "        Xb, Yb = next(train_iter)\n",
    "        with tf.GradientTape() as tape:\n",
    "            loss = model.training_loss((Xb, Yb))  # negative ELBO\n",
    "        grads = tape.gradient(loss, model.trainable_variables)\n",
    "        # Filter out any None gradients\n",
    "        grads_and_vars = [(g, v) for g, v in zip(grads, model.trainable_variables) if g is not None]\n",
    "        optimizer.apply_gradients(grads_and_vars)\n",
    "\n",
    "    # 7) Print hyperparameter summary for this seed\n",
    "    print(f\"\\nModel hyperparameters (seed={seed}):\")\n",
    "    print_summary(model)\n",
    "\n",
    "    # 8) Evaluate on the test set\n",
    "    y_pred_mean, _ = model.predict_y(x_test)\n",
    "    y_pred = np.argmax(y_pred_mean.numpy(), axis=1).ravel()\n",
    "    acc = accuracy_score(y_test.ravel(), y_pred)\n",
    "    print(f\"Seed {seed} Test Accuracy: {acc*100:.2f}%\")\n",
    "    seed_accuracies.append((seed, acc))\n",
    "\n",
    "# After loop, summarize all seeds\n",
    "print(\"\\n=== Summary over all seeds ===\")\n",
    "for seed, acc in seed_accuracies:\n",
    "    print(f\"Seed {seed}: Accuracy = {acc*100:.2f}%\")\n",
    "mean_acc = np.mean([acc for _, acc in seed_accuracies])\n",
    "std_acc  = np.std([acc for _, acc in seed_accuracies])\n",
    "print(f\"\\nMean accuracy over seeds: {mean_acc*100:.2f}% ± {std_acc*100:.2f}%\")\n"
   ]
  },
  {
   "cell_type": "code",
   "execution_count": null,
   "metadata": {},
   "outputs": [],
   "source": []
  }
 ],
 "metadata": {
  "kernelspec": {
   "display_name": "venv",
   "language": "python",
   "name": "python3"
  },
  "language_info": {
   "codemirror_mode": {
    "name": "ipython",
    "version": 3
   },
   "file_extension": ".py",
   "mimetype": "text/x-python",
   "name": "python",
   "nbconvert_exporter": "python",
   "pygments_lexer": "ipython3",
   "version": "3.11.5"
  }
 },
 "nbformat": 4,
 "nbformat_minor": 1
}
