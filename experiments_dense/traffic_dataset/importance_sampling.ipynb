{
 "cells": [
  {
   "cell_type": "markdown",
   "metadata": {},
   "source": [
    "## Simple Numerical Examples"
   ]
  },
  {
   "cell_type": "code",
   "execution_count": 379,
   "metadata": {},
   "outputs": [],
   "source": [
    "import numpy as np"
   ]
  },
  {
   "cell_type": "code",
   "execution_count": 380,
   "metadata": {},
   "outputs": [],
   "source": [
    "NUM_IT = 100"
   ]
  },
  {
   "cell_type": "code",
   "execution_count": 381,
   "metadata": {},
   "outputs": [],
   "source": [
    "target_dist = [1,1,1]\n",
    "f = [4,2,1]\n",
    "target_dist_normalized = np.array(target_dist) / np.sum(target_dist)"
   ]
  },
  {
   "cell_type": "code",
   "execution_count": 382,
   "metadata": {},
   "outputs": [
    {
     "name": "stdout",
     "output_type": "stream",
     "text": [
      "Ground truth EV:  2.3333333333333335\n"
     ]
    }
   ],
   "source": [
    "ground_truth_EV = np.sum(target_dist_normalized * f)\n",
    "print(\"Ground truth EV: \", ground_truth_EV)"
   ]
  },
  {
   "cell_type": "code",
   "execution_count": 383,
   "metadata": {},
   "outputs": [
    {
     "name": "stdout",
     "output_type": "stream",
     "text": [
      "2.2\n"
     ]
    }
   ],
   "source": [
    "# Naiive Estimation\n",
    "\n",
    "freqs = {x:0 for x in f}\n",
    "\n",
    "for _ in range(NUM_IT):\n",
    "    choice = np.random.choice(f, p=target_dist_normalized)\n",
    "    freqs[choice] += 1\n",
    "    \n",
    "naiive_EV = sum([f[i] * freqs[f[i]] for i in range(len(f))]) / NUM_IT\n",
    "print(naiive_EV)"
   ]
  },
  {
   "cell_type": "code",
   "execution_count": 384,
   "metadata": {},
   "outputs": [
    {
     "name": "stdout",
     "output_type": "stream",
     "text": [
      "2.333333333333334\n"
     ]
    }
   ],
   "source": [
    "# Importance Sampling - optimal proposal distribution\n",
    "\n",
    "opt_proposal_dist = target_dist_normalized * f\n",
    "opt_proposal_dist = opt_proposal_dist / np.sum(opt_proposal_dist)\n",
    "w = target_dist_normalized / opt_proposal_dist\n",
    "\n",
    "\n",
    "freqs = {x:0 for x in f}\n",
    "\n",
    "for _ in range(NUM_IT):\n",
    "    choice = np.random.choice(f,p=opt_proposal_dist)\n",
    "    freqs[choice] += 1\n",
    "    \n",
    "IS_EV_optimal = sum([f[i] * freqs[f[i]] * w[i] for i in range(len(f))]) / NUM_IT\n",
    "\n",
    "print(IS_EV_optimal)"
   ]
  },
  {
   "cell_type": "code",
   "execution_count": 385,
   "metadata": {},
   "outputs": [
    {
     "name": "stdout",
     "output_type": "stream",
     "text": [
      "2.4492063492063494\n"
     ]
    }
   ],
   "source": [
    "# Importance Sampling - suboptimal proposal distribution\n",
    "\n",
    "\n",
    "sub_proposal_dist = [0.35, 0.35, 0.3]\n",
    "w = target_dist_normalized / sub_proposal_dist\n",
    "\n",
    "freqs = {x:0 for x in f}\n",
    "\n",
    "for _ in range(NUM_IT):\n",
    "    choice = np.random.choice(f,p=sub_proposal_dist)\n",
    "    freqs[choice] += 1\n",
    "    \n",
    "IS_EV_optimal = sum([f[i] * freqs[f[i]] * w[i] for i in range(len(f))]) / NUM_IT\n",
    "\n",
    "print(IS_EV_optimal)"
   ]
  },
  {
   "cell_type": "code",
   "execution_count": 386,
   "metadata": {},
   "outputs": [
    {
     "name": "stdout",
     "output_type": "stream",
     "text": [
      "Naiive Mean:  2.32775\n",
      "Naiive Std:  0.10668850687866993\n",
      "IS Optimal Mean:  2.3333333333333335\n",
      "IS Optimal Std:  2.808666774861361e-16\n",
      "IS Suboptimal Mean:  2.3474206349206352\n",
      "IS Suboptimal Std:  0.10697528783370985\n"
     ]
    }
   ],
   "source": [
    "NUM_SAMPLES = 40\n",
    "\n",
    "naiive_estimates = []\n",
    "IS_optimal_estimates = []\n",
    "IS_suboptimal_estimates = []\n",
    "\n",
    "for _ in range(NUM_SAMPLES):\n",
    "    \n",
    "    # Naiive Estimation\n",
    "    freqs = {x:0 for x in f}\n",
    "    for _ in range(NUM_IT):\n",
    "        choice = np.random.choice(f, p=target_dist_normalized)\n",
    "        freqs[choice] += 1\n",
    "    naiive_EV = sum([f[i] * freqs[f[i]] for i in range(len(f))]) / NUM_IT\n",
    "    naiive_estimates.append(naiive_EV)\n",
    "    \n",
    "    \n",
    "    w = target_dist_normalized / opt_proposal_dist\n",
    "    # Importance Sampling - optimal proposal distribution\n",
    "    freqs = {x:0 for x in f}\n",
    "    for _ in range(NUM_IT):\n",
    "        choice = np.random.choice(f,p=opt_proposal_dist)\n",
    "        freqs[choice] += 1\n",
    "    IS_EV_optimal = sum([f[i] * freqs[f[i]] * w[i] for i in range(len(f))]) / NUM_IT\n",
    "    IS_optimal_estimates.append(IS_EV_optimal)\n",
    "    \n",
    "    w = target_dist_normalized / sub_proposal_dist\n",
    "    # Importance Sampling - suboptimal proposal distribution\n",
    "    freqs = {x:0 for x in f}\n",
    "    for _ in range(NUM_IT):\n",
    "        choice = np.random.choice(f,p=sub_proposal_dist)\n",
    "        freqs[choice] += 1\n",
    "    IS_EV_optimal = sum([f[i] * freqs[f[i]] * w[i] for i in range(len(f))]) / NUM_IT\n",
    "    IS_suboptimal_estimates.append(IS_EV_optimal)\n",
    "    \n",
    "# Calculate the mean and standard deviation of the estimates\n",
    "naiive_mean = np.mean(naiive_estimates)\n",
    "naiive_std = np.std(naiive_estimates)\n",
    "print(\"Naiive Mean: \", naiive_mean)\n",
    "print(\"Naiive Std: \", naiive_std)\n",
    "\n",
    "IS_optimal_mean = np.mean(IS_optimal_estimates)\n",
    "IS_optimal_std = np.std(IS_optimal_estimates)\n",
    "print(\"IS Optimal Mean: \", IS_optimal_mean)\n",
    "print(\"IS Optimal Std: \", IS_optimal_std)\n",
    "\n",
    "IS_suboptimal_mean = np.mean(IS_suboptimal_estimates)\n",
    "IS_suboptimal_std = np.std(IS_suboptimal_estimates)\n",
    "print(\"IS Suboptimal Mean: \", IS_suboptimal_mean)\n",
    "print(\"IS Suboptimal Std: \", IS_suboptimal_std)        \n",
    "        "
   ]
  },
  {
   "cell_type": "markdown",
   "metadata": {},
   "source": [
    "## Improved Graph Sampler"
   ]
  },
  {
   "cell_type": "markdown",
   "metadata": {},
   "source": []
  }
 ],
 "metadata": {
  "kernelspec": {
   "display_name": "venv",
   "language": "python",
   "name": "python3"
  },
  "language_info": {
   "codemirror_mode": {
    "name": "ipython",
    "version": 3
   },
   "file_extension": ".py",
   "mimetype": "text/x-python",
   "name": "python",
   "nbconvert_exporter": "python",
   "pygments_lexer": "ipython3",
   "version": "3.11.5"
  }
 },
 "nbformat": 4,
 "nbformat_minor": 2
}
