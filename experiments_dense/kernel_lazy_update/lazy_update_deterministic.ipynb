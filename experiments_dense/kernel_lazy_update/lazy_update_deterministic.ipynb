{
 "cells": [
  {
   "cell_type": "code",
   "execution_count": 1,
   "metadata": {},
   "outputs": [],
   "source": [
    "import numpy as np\n",
    "import time"
   ]
  },
  {
   "cell_type": "code",
   "execution_count": 2,
   "metadata": {},
   "outputs": [],
   "source": [
    "import sys\n",
    "import os\n",
    "project_root = os.path.abspath(\"../..\")\n",
    "sys.path.append(project_root)"
   ]
  },
  {
   "cell_type": "code",
   "execution_count": 3,
   "metadata": {},
   "outputs": [],
   "source": [
    "from efficient_graph_gp.random_walk_samplers import Graph, RandomWalk"
   ]
  },
  {
   "cell_type": "code",
   "execution_count": 18,
   "metadata": {},
   "outputs": [],
   "source": [
    "max_walk_length = 4\n",
    "num_walks = 1000\n",
    "p_halt = 0.1"
   ]
  },
  {
   "cell_type": "code",
   "execution_count": null,
   "metadata": {},
   "outputs": [],
   "source": [
    "# Example 8x8 undirected graph adjacency matrix\n",
    "W_full = np.array([\n",
    "    [0, 1, 0, 1, 0, 0, 0, 1],\n",
    "    [1, 0, 1, 0, 0, 0, 1, 0],\n",
    "    [0, 1, 0, 1, 0, 0, 0, 1],\n",
    "    [1, 0, 1, 0, 1, 0, 0, 0],\n",
    "    [0, 0, 0, 1, 0, 1, 0, 1],\n",
    "    [0, 0, 0, 0, 1, 0, 1, 0],\n",
    "    [0, 1, 0, 0, 0, 1, 0, 1],\n",
    "    [1, 0, 1, 0, 1, 0, 1, 0]\n",
    "], dtype=float)\n",
    "\n",
    "W_main = W_full[:-1, :-1]\n"
   ]
  },
  {
   "cell_type": "code",
   "execution_count": 13,
   "metadata": {},
   "outputs": [],
   "source": [
    "I_main = np.eye(W_main.shape[0])\n",
    "temp = I_main\n",
    "M_main = [temp]\n",
    "\n",
    "for i in range(1, max_walk_length):\n",
    "    temp = temp @ W_main\n",
    "    M_main.append(temp)\n",
    "M_main = np.array(M_main)\n",
    "    "
   ]
  },
  {
   "cell_type": "code",
   "execution_count": 14,
   "metadata": {},
   "outputs": [
    {
     "data": {
      "text/plain": [
       "(4, 7, 7)"
      ]
     },
     "execution_count": 14,
     "metadata": {},
     "output_type": "execute_result"
    }
   ],
   "source": [
    "M_main.shape"
   ]
  },
  {
   "cell_type": "code",
   "execution_count": 15,
   "metadata": {},
   "outputs": [
    {
     "name": "stdout",
     "output_type": "stream",
     "text": [
      "(7, 7, 4)\n"
     ]
    }
   ],
   "source": [
    "M_main_reshaped = np.transpose(M_main, (1, 2, 0))\n",
    "print(M_main_reshaped.shape)  # Should output (7, 7, 4)"
   ]
  },
  {
   "cell_type": "code",
   "execution_count": 21,
   "metadata": {},
   "outputs": [
    {
     "name": "stdout",
     "output_type": "stream",
     "text": [
      "Feature matrices shape: (7, 7, 4)\n",
      "\n",
      "Feature matrix for start node 0:\n",
      "[[1.         0.         1.98518519 0.        ]\n",
      " [0.         1.02222222 0.         5.30041152]\n",
      " [0.         0.         2.1037037  0.        ]\n",
      " [0.         1.00444444 0.         4.88888889]\n",
      " [0.         0.         0.86666667 0.        ]\n",
      " [0.         0.         0.         1.90946502]\n",
      " [0.         0.         1.1037037  0.        ]]\n"
     ]
    }
   ],
   "source": [
    "# Create Graph instance\n",
    "main_graph = Graph(adjacency_matrix=W_main)\n",
    "\n",
    "# Create RandomWalk instance\n",
    "main_random_walk = RandomWalk(main_graph, seed=42)\n",
    "\n",
    "# Perform the random walks and get the feature matrices as a NumPy array\n",
    "main_feature_matrices = main_random_walk.get_random_walk_matrices(num_walks, p_halt, max_walk_length)\n",
    "\n",
    "# Output the feature matrices\n",
    "print(\"Feature matrices shape:\", main_feature_matrices.shape)\n",
    "for start_node in range(1):\n",
    "    print(f\"\\nFeature matrix for start node {start_node}:\")\n",
    "    print(main_feature_matrices[start_node])\n"
   ]
  },
  {
   "cell_type": "code",
   "execution_count": null,
   "metadata": {},
   "outputs": [],
   "source": []
  },
  {
   "cell_type": "code",
   "execution_count": 8,
   "metadata": {},
   "outputs": [],
   "source": [
    "def compute_C_naive(M):\n",
    "    \"\"\"\n",
    "    Computes the matrix C where C[i, j, k] is the number of k-step paths\n",
    "    from node i to node j that pass through node X, using naive convolution.\n",
    "\n",
    "    Parameters:\n",
    "    M (ndarray): An (N x P) matrix where M[i, p] is the number of paths\n",
    "                 from node i to node X in p steps (p from 0 to P - 1).\n",
    "\n",
    "    Returns:\n",
    "    C (ndarray): An (N x N x P) matrix where C[i, j, k] is the number\n",
    "                 of k-step paths from node i to node j passing through X.\n",
    "                 k ranges from 0 to P - 1.\n",
    "    \"\"\"\n",
    "    N, P = M.shape\n",
    "    C = np.zeros((N, N, P))\n",
    "    \n",
    "    for i in range(N):\n",
    "        for j in range(N):\n",
    "            # Perform convolution of M[i, :] and M[j, :]\n",
    "            C_ij = np.convolve(M[i, :], M[j, :])\n",
    "            # Extract the relevant part of the convolution result (first P steps)\n",
    "            C[i, j, :] = C_ij[:P]\n",
    "    return C\n",
    "\n",
    "def compute_C_fft(M):\n",
    "    \"\"\"\n",
    "    Computes the matrix C where C[i, j, k] is the number of k-step paths\n",
    "    from node i to node j that pass through node X, using FFT-based convolution.\n",
    "\n",
    "    Parameters:\n",
    "    M (ndarray): An (N x P) matrix where M[i, p] is the number of paths\n",
    "                 from node i to node X in p steps (p from 0 to P - 1).\n",
    "\n",
    "    Returns:\n",
    "    C (ndarray): An (N x N x P) matrix where C[i, j, k] is the number\n",
    "                 of k-step paths from node i to node j passing through X.\n",
    "                 k ranges from 0 to P - 1.\n",
    "    \"\"\"\n",
    "    N, P = M.shape\n",
    "    # Determine the length for zero-padding, next power of 2 for efficiency\n",
    "    L = 2 ** int(np.ceil(np.log2(2 * P - 1)))\n",
    "    \n",
    "    # Zero-pad the sequences to length L\n",
    "    M_padded = np.zeros((N, L))\n",
    "    M_padded[:, :P] = M\n",
    "    \n",
    "    # Compute the FFT along the last axis (step dimension)\n",
    "    M_fft = np.fft.fft(M_padded, axis=1)\n",
    "    \n",
    "    # Compute the outer product of M_fft to get all pairwise products\n",
    "    # Resulting shape will be (N, N, L)\n",
    "    # Broadcasting is used to vectorize the computation\n",
    "    C_fft = M_fft[:, np.newaxis, :] * M_fft[np.newaxis, :, :]\n",
    "    \n",
    "    # Compute the inverse FFT to get the convolutions in time domain\n",
    "    C_padded = np.fft.ifft(C_fft, axis=2).real\n",
    "    \n",
    "    # Extract the relevant part of the convolution result (first P steps)\n",
    "    C = C_padded[:, :, :P]\n",
    "    \n",
    "    return C"
   ]
  },
  {
   "cell_type": "code",
   "execution_count": 9,
   "metadata": {},
   "outputs": [
    {
     "name": "stdout",
     "output_type": "stream",
     "text": [
      "Lazy update time: 0.0045 seconds\n"
     ]
    }
   ],
   "source": [
    "# Compute the full p-step walk matrices (feature matrices) via lazy update\n",
    "\n",
    "# Time the computation\n",
    "start_time = time.time()\n",
    "\n",
    "num_nodes = full_adjacency_matrix.shape[0]\n",
    "# Perform multiple walks for the new node\n",
    "walk_matrix_new_node = full_random_walk._perform_multiple_walks(\n",
    "    start_node=num_nodes - 1, num_walks=num_walks, p_halt=p_halt, max_walk_length=max_walk_length\n",
    ")\n",
    "# Pad the main feature matrices\n",
    "main_feature_matrices_padded = np.pad(main_feature_matrices, ((0, 1), (0, 1), (0, 0)), mode='constant')\n",
    "# Add the new node's walk matrix to the main feature matrices\n",
    "main_feature_matrices_padded[:, -1, :] = main_feature_matrices_padded[-1, :, :] = walk_matrix_new_node\n",
    "# Compute additional path count due to the new node\n",
    "additional_path_counts = compute_C_naive(walk_matrix_new_node)\n",
    "# Don't need to update the walk matrix for the new node\n",
    "additional_path_counts[:, -1, :] = 0 \n",
    "additional_path_counts[-1, :, :] = 0 \n",
    "main_feature_matrices_padded += additional_path_counts\n",
    "lazy_update_full_feature_matrices = main_feature_matrices_padded\n",
    "\n",
    "end_time = time.time()\n",
    "\n",
    "lazy_time = end_time - start_time\n",
    "print(f\"Lazy update time: {lazy_time:.4f} seconds\")\n"
   ]
  },
  {
   "cell_type": "code",
   "execution_count": 10,
   "metadata": {},
   "outputs": [
    {
     "name": "stdout",
     "output_type": "stream",
     "text": [
      "Naiive update time: 0.0072 seconds\n",
      "Lazy update time: 0.0045 seconds\n"
     ]
    }
   ],
   "source": [
    "print(f\"Naiive update time: {naiive_update_time:.4f} seconds\")\n",
    "print(f\"Lazy update time: {lazy_time:.4f} seconds\")"
   ]
  },
  {
   "cell_type": "code",
   "execution_count": 11,
   "metadata": {},
   "outputs": [
    {
     "name": "stdout",
     "output_type": "stream",
     "text": [
      "Relative Frobenius norm of the difference: 0.0410\n"
     ]
    }
   ],
   "source": [
    "# Calculate the relative frobenius norm of the difference between the two methods\n",
    "diff = np.linalg.norm(lazy_update_full_feature_matrices - full_feature_matrices) / np.linalg.norm(full_feature_matrices)\n",
    "print(f\"Relative Frobenius norm of the difference: {diff:.4f}\")"
   ]
  }
 ],
 "metadata": {
  "kernelspec": {
   "display_name": "venv",
   "language": "python",
   "name": "python3"
  },
  "language_info": {
   "codemirror_mode": {
    "name": "ipython",
    "version": 3
   },
   "file_extension": ".py",
   "mimetype": "text/x-python",
   "name": "python",
   "nbconvert_exporter": "python",
   "pygments_lexer": "ipython3",
   "version": "3.11.5"
  }
 },
 "nbformat": 4,
 "nbformat_minor": 2
}
