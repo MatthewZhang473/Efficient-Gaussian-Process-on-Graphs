{
 "cells": [
  {
   "cell_type": "code",
   "execution_count": 1,
   "id": "f0edb84e",
   "metadata": {},
   "outputs": [],
   "source": [
    "import networkx as nx\n",
    "import gzip\n",
    "import pandas as pd\n",
    "from scipy import sparse\n",
    "import numpy as np\n",
    "import csv"
   ]
  },
  {
   "cell_type": "code",
   "execution_count": 2,
   "id": "a3d3324a",
   "metadata": {},
   "outputs": [],
   "source": [
    "graph_path = \"/Users/matthew/Documents/Efficient Gaussian Process on Graphs/Efficient_Gaussian_Process_On_Graphs/experiments_sparse/social_networks/Pokec/data/soc-pokec-relationships.txt.gz\"\n",
    "profile_path = \"/Users/matthew/Documents/Efficient Gaussian Process on Graphs/Efficient_Gaussian_Process_On_Graphs/experiments_sparse/social_networks/Pokec/data/soc-pokec-profiles-corrected.csv.gz\""
   ]
  },
  {
   "cell_type": "code",
   "execution_count": null,
   "id": "cd7fa4b0",
   "metadata": {},
   "outputs": [],
   "source": [
    "save_path = \"/Users/matthew/Documents/Efficient Gaussian Process on Graphs/Efficient_Gaussian_Process_On_Graphs/experiments_sparse/social_networks/Pokec/data/soc-pokec-adjacency.npz\"\n",
    "B = sparse.load_npz(save_path)\n"
   ]
  },
  {
   "cell_type": "code",
   "execution_count": 4,
   "id": "ffbe04a6",
   "metadata": {},
   "outputs": [],
   "source": [
    "df = pd.read_csv(profile_path, compression='gzip', encoding='utf-8', low_memory=False)"
   ]
  },
  {
   "cell_type": "code",
   "execution_count": 6,
   "id": "d10b8f4e",
   "metadata": {},
   "outputs": [
    {
     "name": "stdout",
     "output_type": "stream",
     "text": [
      "<class 'pandas.core.frame.DataFrame'>\n",
      "RangeIndex: 1632803 entries, 0 to 1632802\n",
      "Data columns (total 59 columns):\n",
      " #   Column                            Non-Null Count    Dtype  \n",
      "---  ------                            --------------    -----  \n",
      " 0   user_id                           1632803 non-null  int64  \n",
      " 1   public                            1632803 non-null  int64  \n",
      " 2   completion_percentage             1632803 non-null  int64  \n",
      " 3   gender                            1632640 non-null  float64\n",
      " 4   region                            1632640 non-null  object \n",
      " 5   last_login                        1632640 non-null  object \n",
      " 6   registration                      1632640 non-null  object \n",
      " 7   AGE                               1632640 non-null  float64\n",
      " 8   body                              793844 non-null   object \n",
      " 9   I_am_working_in_field             581112 non-null   object \n",
      " 10  spoken_languages                  801691 non-null   object \n",
      " 11  hobbies                           804313 non-null   object \n",
      " 12  I_most_enjoy_good_food            696240 non-null   object \n",
      " 13  pets                              700681 non-null   object \n",
      " 14  body_type                         745943 non-null   object \n",
      " 15  my_eyesight                       817912 non-null   object \n",
      " 16  eye_color                         899839 non-null   object \n",
      " 17  hair_color                        852842 non-null   object \n",
      " 18  hair_type                         770954 non-null   object \n",
      " 19  completed_level_of_education      745945 non-null   object \n",
      " 20  favourite_color                   827876 non-null   object \n",
      " 21  relation_to_smoking               845944 non-null   object \n",
      " 22  relation_to_alcohol               827666 non-null   object \n",
      " 23  sign_in_zodiac                    842352 non-null   object \n",
      " 24  on_pokec_i_am_looking_for         779444 non-null   object \n",
      " 25  love_is_for_me                    738502 non-null   object \n",
      " 26  relation_to_casual_sex            623295 non-null   object \n",
      " 27  my_partner_should_be              723414 non-null   object \n",
      " 28  marital_status                    750380 non-null   object \n",
      " 29  children                          475689 non-null   object \n",
      " 30  relation_to_children              503739 non-null   object \n",
      " 31  I_like_movies                     792161 non-null   object \n",
      " 32  I_like_watching_movie             729505 non-null   object \n",
      " 33  I_like_music                      767104 non-null   object \n",
      " 34  I_mostly_like_listening_to_music  749803 non-null   object \n",
      " 35  the_idea_of_good_evening          718397 non-null   object \n",
      " 36  I_like_specialties_from_kitchen   722465 non-null   object \n",
      " 37  fun                               189375 non-null   object \n",
      " 38  I_am_going_to_concerts            546888 non-null   object \n",
      " 39  my_active_sports                  679005 non-null   object \n",
      " 40  my_passive_sports                 639098 non-null   object \n",
      " 41  profession                        473885 non-null   object \n",
      " 42  I_like_books                      666170 non-null   object \n",
      " 43  life_style                        219820 non-null   object \n",
      " 44  music                             170751 non-null   object \n",
      " 45  cars                              49250 non-null    object \n",
      " 46  politics                          27345 non-null    object \n",
      " 47  relationships                     210546 non-null   object \n",
      " 48  art_culture                       35932 non-null    object \n",
      " 49  hobbies_interests                 134400 non-null   object \n",
      " 50  science_technologies              31301 non-null    object \n",
      " 51  computers_internet                51652 non-null    object \n",
      " 52  education                         49816 non-null    object \n",
      " 53  sport                             79881 non-null    object \n",
      " 54  movies                            71910 non-null    object \n",
      " 55  travelling                        35040 non-null    object \n",
      " 56  health                            45305 non-null    object \n",
      " 57  companies_brands                  21979 non-null    object \n",
      " 58  more                              190588 non-null   object \n",
      "dtypes: float64(2), int64(3), object(54)\n",
      "memory usage: 735.0+ MB\n"
     ]
    }
   ],
   "source": [
    "df.info()"
   ]
  },
  {
   "cell_type": "code",
   "execution_count": 12,
   "id": "a634aba8",
   "metadata": {},
   "outputs": [
    {
     "data": {
      "text/plain": [
       "AGE\n",
       "0.0      494326\n",
       "21.0      66349\n",
       "19.0      65072\n",
       "22.0      64502\n",
       "20.0      63409\n",
       "          ...  \n",
       "98.0         17\n",
       "107.0        16\n",
       "81.0         16\n",
       "94.0         12\n",
       "95.0          6\n",
       "Name: count, Length: 113, dtype: int64"
      ]
     },
     "execution_count": 12,
     "metadata": {},
     "output_type": "execute_result"
    }
   ],
   "source": [
    "df.AGE.value_counts()"
   ]
  },
  {
   "cell_type": "code",
   "execution_count": 11,
   "id": "3e374bf9",
   "metadata": {},
   "outputs": [
    {
     "data": {
      "text/plain": [
       "gender\n",
       "0.0    828304\n",
       "1.0    804336\n",
       "Name: count, dtype: int64"
      ]
     },
     "execution_count": 11,
     "metadata": {},
     "output_type": "execute_result"
    }
   ],
   "source": [
    "df.gender.value_counts()"
   ]
  },
  {
   "cell_type": "code",
   "execution_count": null,
   "id": "99c95eb2",
   "metadata": {},
   "outputs": [],
   "source": []
  }
 ],
 "metadata": {
  "kernelspec": {
   "display_name": "venv",
   "language": "python",
   "name": "python3"
  },
  "language_info": {
   "codemirror_mode": {
    "name": "ipython",
    "version": 3
   },
   "file_extension": ".py",
   "mimetype": "text/x-python",
   "name": "python",
   "nbconvert_exporter": "python",
   "pygments_lexer": "ipython3",
   "version": "3.11.5"
  }
 },
 "nbformat": 4,
 "nbformat_minor": 5
}
