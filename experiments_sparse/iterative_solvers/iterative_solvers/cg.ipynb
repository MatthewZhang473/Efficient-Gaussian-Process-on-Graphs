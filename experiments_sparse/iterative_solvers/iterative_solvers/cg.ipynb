{
 "cells": [
  {
   "cell_type": "markdown",
   "id": "eab236ff",
   "metadata": {},
   "source": [
    "## Simulate solving the inverse step with Conjugate Gradient (CG)"
   ]
  },
  {
   "cell_type": "code",
   "execution_count": 1,
   "id": "768e2a21",
   "metadata": {},
   "outputs": [],
   "source": [
    "import numpy as np\n",
    "import scipy\n",
    "from scipy.sparse.linalg import cg, spilu, LinearOperator\n",
    "import time"
   ]
  },
  {
   "cell_type": "code",
   "execution_count": 2,
   "id": "9bbdf3a6",
   "metadata": {},
   "outputs": [],
   "source": [
    "N = 1000\n",
    "d_avg = 3\n",
    "sigma = 0.1"
   ]
  },
  {
   "cell_type": "code",
   "execution_count": 3,
   "id": "0716fba3",
   "metadata": {},
   "outputs": [
    {
     "name": "stdout",
     "output_type": "stream",
     "text": [
      "Percentage of non-zero entries in K: 1.00%\n"
     ]
    }
   ],
   "source": [
    "# 1. Generate a random sparse kernel matrix K, with O(N) non-zero entries.\n",
    "\n",
    "Phi = scipy.sparse.random(N,N,d_avg/N, format='dense')\n",
    "\n",
    "K = Phi @ Phi.T # K is SPD\n",
    "\n",
    "I = np.eye(N)\n",
    "\n",
    "M = K + sigma**2 * I\n",
    "\n",
    "# print the percentage of non-zero entries in the kernel matrix\n",
    "print(f\"Percentage of non-zero entries in K: {np.count_nonzero(K) / (N * N) * 100:.2f}%\")"
   ]
  },
  {
   "cell_type": "code",
   "execution_count": 4,
   "id": "b725390e",
   "metadata": {},
   "outputs": [
    {
     "name": "stdout",
     "output_type": "stream",
     "text": [
      "Numpy direct inversion took 0.0447 seconds\n",
      "Scipy direct inversion took 0.0284 seconds\n",
      "Scipy sparse linear algebra inversion took 0.3718 seconds\n"
     ]
    }
   ],
   "source": [
    "# 2. Baseline: Direct Inversion\n",
    "\n",
    "\n",
    "# Numpy direct inversion\n",
    "start_time = time.time()\n",
    "M_inv_1 = np.linalg.inv(M)\n",
    "end_time = time.time()\n",
    "print(f\"Numpy direct inversion took {end_time - start_time:.4f} seconds\")\n",
    "\n",
    "\n",
    "# Scipy direct inversion\n",
    "start_time = time.time()\n",
    "M_inv_2= scipy.linalg.inv(M)\n",
    "end_time = time.time()\n",
    "print(f\"Scipy direct inversion took {end_time - start_time:.4f} seconds\")\n",
    "\n",
    "# Inversion with scipy sparse linear algebra\n",
    "M_csc = scipy.sparse.csc_matrix(M)\n",
    "\n",
    "start_time = time.time()\n",
    "M_inv_3 = scipy.sparse.linalg.inv(M_csc)\n",
    "end_time = time.time()\n",
    "\n",
    "print(f\"Scipy sparse linear algebra inversion took {end_time - start_time:.4f} seconds\")\n"
   ]
  },
  {
   "cell_type": "code",
   "execution_count": 5,
   "id": "93a487e8",
   "metadata": {},
   "outputs": [
    {
     "name": "stdout",
     "output_type": "stream",
     "text": [
      "Preconditioned CG took 0.0045 seconds\n",
      "Converged to tolerance\n"
     ]
    }
   ],
   "source": [
    "# 3. Conjugate Gradient (CG) Method - note CG requires SPD matrices\n",
    "# Solve M @ x = b, where b is a dense vector\n",
    "b  = np.random.rand(N)\n",
    "\n",
    "start_time = time.time()\n",
    "x, info = cg(M_csc, b, atol=1e-10, maxiter=1000)\n",
    "end_time = time.time()\n",
    "\n",
    "print(f\"Preconditioned CG took {end_time - start_time:.4f} seconds\")\n",
    "if info == 0:\n",
    "    print(\"Converged to tolerance\")\n",
    "elif info > 0:\n",
    "    print(f\"Stopped after {info} iterations without full convergence\")\n",
    "else:\n",
    "    print(\"Illegal input or breakdown in CG\")"
   ]
  },
  {
   "cell_type": "code",
   "execution_count": 6,
   "id": "9463cd61",
   "metadata": {},
   "outputs": [
    {
     "name": "stdout",
     "output_type": "stream",
     "text": [
      "Preconditioned CG took 1.2476 seconds\n",
      "Stopped after 10000 iterations without full convergence\n"
     ]
    }
   ],
   "source": [
    "# 4. Preconditioned Conjugate Gradient (PCG) Method\n",
    "\n",
    "# Build your sparse SPD matrix in CSC (for spilu) and CSR (for mat-vec)\n",
    "M_csc = scipy.sparse.csc_matrix(M)\n",
    "M_csr = M_csc.tocsr()\n",
    "\n",
    "# Right-hand side\n",
    "b = np.random.rand(N)\n",
    "\n",
    "# Tuned ILU parameters:\n",
    "#  - drop_tol: lower drops less (better approximation), but more fill\n",
    "#  - fill_factor: allows more fill-in beyond original sparsity\n",
    "#  - permc_spec: use a fill-reducing ordering (COLAMD)\n",
    "#  - diag_pivot_thresh: avoid tiny pivots\n",
    "ilu = spilu(\n",
    "    M_csc,\n",
    "    drop_tol=1e-6,           # tighter drop tolerance\n",
    "    fill_factor=20,          # allow more fill-in\n",
    "    permc_spec=\"COLAMD\",     # fill-reducing column ordering\n",
    "    diag_pivot_thresh=0.1    # pivot threshold to maintain stability\n",
    ")\n",
    "\n",
    "# Wrap as a LinearOperator for CG\n",
    "M_prec = LinearOperator(\n",
    "    M_csr.shape,\n",
    "    matvec=lambda x: ilu.solve(x)\n",
    ")\n",
    "\n",
    "# Run preconditioned CG\n",
    "start_time = time.time()\n",
    "x, info = cg(\n",
    "    M_csr,\n",
    "    b,\n",
    "    M=M_prec,\n",
    "    atol=1e-10,\n",
    "    maxiter=10000\n",
    ")\n",
    "end_time = time.time()\n",
    "\n",
    "print(f\"Preconditioned CG took {end_time - start_time:.4f} seconds\")\n",
    "if info == 0:\n",
    "    print(\"Converged to tolerance\")\n",
    "elif info > 0:\n",
    "    print(f\"Stopped after {info} iterations without full convergence\")\n",
    "else:\n",
    "    print(\"Illegal input or breakdown in CG\")\n"
   ]
  }
 ],
 "metadata": {
  "kernelspec": {
   "display_name": "venv",
   "language": "python",
   "name": "python3"
  },
  "language_info": {
   "codemirror_mode": {
    "name": "ipython",
    "version": 3
   },
   "file_extension": ".py",
   "mimetype": "text/x-python",
   "name": "python",
   "nbconvert_exporter": "python",
   "pygments_lexer": "ipython3",
   "version": "3.11.5"
  }
 },
 "nbformat": 4,
 "nbformat_minor": 5
}
