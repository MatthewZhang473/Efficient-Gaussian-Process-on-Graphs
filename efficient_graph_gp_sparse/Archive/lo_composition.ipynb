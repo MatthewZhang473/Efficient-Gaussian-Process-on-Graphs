{
 "cells": [
  {
   "cell_type": "code",
   "execution_count": 18,
   "id": "171ca642",
   "metadata": {},
   "outputs": [],
   "source": [
    "# Import necessary libraries\n",
    "import torch\n",
    "import sys\n",
    "import os\n",
    "\n",
    "# Add the path to your sparse_lo module\n",
    "sys.path.append('/Users/matthew/Documents/Efficient Gaussian Process on Graphs/Efficient_Gaussian_Process_On_Graphs/efficient_graph_gp_sparse/utils_sparse')\n",
    "\n",
    "# Import your SparseLinearOperator\n",
    "from sparse_lo import SparseLinearOperator"
   ]
  },
  {
   "cell_type": "code",
   "execution_count": 19,
   "id": "6c1362c0",
   "metadata": {},
   "outputs": [
    {
     "name": "stdout",
     "output_type": "stream",
     "text": [
      "Creating a simple sparse CSR tensor...\n",
      "Sparse CSR tensor:\n",
      "tensor(crow_indices=tensor([0, 2, 3, 4, 6]),\n",
      "       col_indices=tensor([0, 2, 1, 3, 0, 3]),\n",
      "       values=tensor([1., 2., 3., 4., 5., 6.]), size=(4, 4), nnz=6,\n",
      "       layout=torch.sparse_csr)\n",
      "\n",
      "Dense version:\n",
      "tensor([[1., 0., 2., 0.],\n",
      "        [0., 3., 0., 0.],\n",
      "        [0., 0., 0., 4.],\n",
      "        [5., 0., 0., 6.]])\n"
     ]
    }
   ],
   "source": [
    "# Create a simple test sparse matrix\n",
    "print(\"Creating a simple sparse CSR tensor...\")\n",
    "\n",
    "# Create a 4x4 sparse matrix with some non-zero elements\n",
    "# Matrix structure:\n",
    "# [1, 0, 2, 0]\n",
    "# [0, 3, 0, 0] \n",
    "# [0, 0, 0, 4]\n",
    "# [5, 0, 0, 6]\n",
    "\n",
    "indices = torch.tensor([[0, 0, 1, 2, 3, 3], [0, 2, 1, 3, 0, 3]])  # row, col indices\n",
    "values = torch.tensor([1.0, 2.0, 3.0, 4.0, 5.0, 6.0])\n",
    "size = (4, 4)\n",
    "\n",
    "sparse_coo = torch.sparse_coo_tensor(indices, values, size)\n",
    "sparse_csr = sparse_coo.to_sparse_csr()\n",
    "\n",
    "print(f\"Sparse CSR tensor:\\n{sparse_csr}\")\n",
    "print(f\"\\nDense version:\\n{sparse_csr.to_dense()}\")"
   ]
  },
  {
   "cell_type": "code",
   "execution_count": 20,
   "id": "f8c166f1",
   "metadata": {},
   "outputs": [
    {
     "name": "stdout",
     "output_type": "stream",
     "text": [
      "Creating SparseLinearOperator...\n",
      "Operator size: torch.Size([4, 4])\n",
      "Operator shape: torch.Size([4, 4])\n",
      "Number of non-zero elements: 6\n"
     ]
    }
   ],
   "source": [
    "# Create SparseLinearOperator and test basic properties\n",
    "print(\"Creating SparseLinearOperator...\")\n",
    "\n",
    "sparse_lo = SparseLinearOperator(sparse_csr)\n",
    "\n",
    "print(f\"Operator size: {sparse_lo.size()}\")\n",
    "print(f\"Operator shape: {sparse_lo.shape}\")\n",
    "print(f\"Number of non-zero elements: {sparse_csr._nnz()}\")"
   ]
  },
  {
   "cell_type": "code",
   "execution_count": 21,
   "id": "0480d673",
   "metadata": {},
   "outputs": [
    {
     "name": "stdout",
     "output_type": "stream",
     "text": [
      "Testing addition of SparseLinearOperators...\n",
      "Sum operator size: torch.Size([4, 4])\n",
      "Sum operator shape: torch.Size([4, 4])\n",
      "Testing multiplication of SparseLinearOperators...\n",
      "Product operator size: torch.Size([4, 4])\n",
      "Product operator shape: torch.Size([4, 4])\n",
      "Operating on vector tensor([1., 2., 3., 4.], requires_grad=True)...\n",
      "Result of operation: tensor([ 39.,  18., 116., 209.], grad_fn=<MatmulBackward>)\n",
      "Testing autograd with SparseLinearOperator...\n",
      "Gradient of the vector: tensor([56.,  9., 12., 68.])\n",
      "Expected gradient: tensor([56.,  9., 12., 68.])\n",
      "Gradient matches expected: True\n"
     ]
    }
   ],
   "source": [
    "slo1 = SparseLinearOperator(sparse_csr)\n",
    "slo2 = SparseLinearOperator(sparse_csr)\n",
    "# Test addition\n",
    "print(\"Testing addition of SparseLinearOperators...\")\n",
    "slo_sum = slo1 + slo2\n",
    "print(f\"Sum operator size: {slo_sum.size()}\")\n",
    "print(f\"Sum operator shape: {slo_sum.shape}\")\n",
    "\n",
    "# test multiplication\n",
    "print(\"Testing multiplication of SparseLinearOperators...\")\n",
    "slo_prod = slo1 @ slo2\n",
    "print(f\"Product operator size: {slo_prod.size()}\")\n",
    "print(f\"Product operator shape: {slo_prod.shape}\")\n",
    "\n",
    "# Create vector with gradient tracking enabled\n",
    "vec = torch.tensor([1.0, 2.0, 3.0, 4.0], requires_grad=True)\n",
    "print(f\"Operating on vector {vec}...\")\n",
    "result = slo_prod @ vec\n",
    "print(f\"Result of operation: {result}\") \n",
    "\n",
    "# Test autograd\n",
    "print(\"Testing autograd with SparseLinearOperator...\")\n",
    "# Clear any existing gradients\n",
    "if vec.grad is not None:\n",
    "    vec.grad.zero_()\n",
    "\n",
    "result = slo_prod @ vec\n",
    "result.sum().backward()\n",
    "print(f\"Gradient of the vector: {vec.grad}\")\n",
    "\n",
    "# Verify the autograd functionality by calculating the gradient manually\n",
    "# For (A @ B) @ vec, gradient w.r.t vec is (A @ B)^T @ ones_vector\n",
    "# Since we're taking sum().backward(), the upstream gradient is a vector of ones\n",
    "with torch.no_grad():\n",
    "    # Get the dense matrices for manual calculation\n",
    "    A_dense = slo1.sparse_csr_tensor.to_dense()\n",
    "    B_dense = slo2.sparse_csr_tensor.to_dense()\n",
    "    AB_dense = A_dense @ B_dense\n",
    "    ones_vector = torch.ones_like(result)\n",
    "    expected_grad = AB_dense.t() @ ones_vector\n",
    "\n",
    "print(f\"Expected gradient: {expected_grad}\")\n",
    "print(f\"Gradient matches expected: {torch.allclose(vec.grad, expected_grad, atol=1e-6)}\")"
   ]
  },
  {
   "cell_type": "code",
   "execution_count": null,
   "id": "13480bd9",
   "metadata": {},
   "outputs": [],
   "source": []
  }
 ],
 "metadata": {
  "kernelspec": {
   "display_name": "venv",
   "language": "python",
   "name": "python3"
  },
  "language_info": {
   "codemirror_mode": {
    "name": "ipython",
    "version": 3
   },
   "file_extension": ".py",
   "mimetype": "text/x-python",
   "name": "python",
   "nbconvert_exporter": "python",
   "pygments_lexer": "ipython3",
   "version": "3.11.5"
  }
 },
 "nbformat": 4,
 "nbformat_minor": 5
}
